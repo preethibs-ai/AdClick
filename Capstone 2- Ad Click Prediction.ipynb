{
 "cells": [
  {
   "cell_type": "code",
   "execution_count": 3,
   "metadata": {},
   "outputs": [],
   "source": [
    "## Import necessary Libraries\n",
    "\n",
    "import pandas as pd\n",
    "import numpy as np\n",
    "import matplotlib.pyplot as plt\n",
    "import seaborn as sns\n",
    "from tqdm import tqdm\n",
    "\n",
    "import warnings\n",
    "warnings.filterwarnings('ignore')"
   ]
  },
  {
   "cell_type": "markdown",
   "metadata": {},
   "source": [
    "##### tqdm: A library to display progress bars during iterations or loops. It's particularly useful when you have long-running tasks, so you can track the progress visually"
   ]
  },
  {
   "cell_type": "code",
   "execution_count": 2,
   "metadata": {},
   "outputs": [],
   "source": [
    "from tqdm import tqdm"
   ]
  },
  {
   "cell_type": "code",
   "execution_count": 3,
   "metadata": {},
   "outputs": [],
   "source": [
    "# test = pd.read_csv('data/test.csv')\n",
    "# test.shape"
   ]
  },
  {
   "cell_type": "code",
   "execution_count": 4,
   "metadata": {},
   "outputs": [],
   "source": [
    "# test.head()"
   ]
  },
  {
   "cell_type": "markdown",
   "metadata": {},
   "source": [
    "### Import Impression,log and Item data"
   ]
  },
  {
   "cell_type": "code",
   "execution_count": 5,
   "metadata": {},
   "outputs": [],
   "source": [
    "impr = pd.read_csv('impression.csv')\n",
    "logs = pd.read_csv('view_log.csv')\n",
    "items = pd.read_csv('item_data.csv')"
   ]
  },
  {
   "cell_type": "code",
   "execution_count": 6,
   "metadata": {},
   "outputs": [
    {
     "name": "stdout",
     "output_type": "stream",
     "text": [
      "(237609, 7) (3017496, 5) (132761, 6)\n"
     ]
    }
   ],
   "source": [
    "# dropping duplicate records\n",
    "   \n",
    "impr.drop_duplicates(inplace=True)\n",
    "logs.drop_duplicates(inplace=True)\n",
    "items.drop_duplicates(inplace=True)\n",
    "\n",
    "print(impr.shape, logs.shape, items.shape)"
   ]
  },
  {
   "cell_type": "code",
   "execution_count": 7,
   "metadata": {},
   "outputs": [
    {
     "data": {
      "text/html": [
       "<div>\n",
       "<style scoped>\n",
       "    .dataframe tbody tr th:only-of-type {\n",
       "        vertical-align: middle;\n",
       "    }\n",
       "\n",
       "    .dataframe tbody tr th {\n",
       "        vertical-align: top;\n",
       "    }\n",
       "\n",
       "    .dataframe thead th {\n",
       "        text-align: right;\n",
       "    }\n",
       "</style>\n",
       "<table border=\"1\" class=\"dataframe\">\n",
       "  <thead>\n",
       "    <tr style=\"text-align: right;\">\n",
       "      <th></th>\n",
       "      <th>impression_id</th>\n",
       "      <th>impression_time</th>\n",
       "      <th>user_id</th>\n",
       "      <th>app_code</th>\n",
       "      <th>os_version</th>\n",
       "      <th>is_4G</th>\n",
       "      <th>is_click</th>\n",
       "    </tr>\n",
       "  </thead>\n",
       "  <tbody>\n",
       "    <tr>\n",
       "      <th>0</th>\n",
       "      <td>c4ca4238a0b923820dcc509a6f75849b</td>\n",
       "      <td>2018-11-15 00:00:00</td>\n",
       "      <td>87862</td>\n",
       "      <td>422</td>\n",
       "      <td>old</td>\n",
       "      <td>0</td>\n",
       "      <td>0</td>\n",
       "    </tr>\n",
       "    <tr>\n",
       "      <th>1</th>\n",
       "      <td>45c48cce2e2d7fbdea1afc51c7c6ad26</td>\n",
       "      <td>2018-11-15 00:01:00</td>\n",
       "      <td>63410</td>\n",
       "      <td>467</td>\n",
       "      <td>latest</td>\n",
       "      <td>1</td>\n",
       "      <td>1</td>\n",
       "    </tr>\n",
       "    <tr>\n",
       "      <th>2</th>\n",
       "      <td>70efdf2ec9b086079795c442636b55fb</td>\n",
       "      <td>2018-11-15 00:02:00</td>\n",
       "      <td>71748</td>\n",
       "      <td>259</td>\n",
       "      <td>intermediate</td>\n",
       "      <td>1</td>\n",
       "      <td>0</td>\n",
       "    </tr>\n",
       "    <tr>\n",
       "      <th>3</th>\n",
       "      <td>8e296a067a37563370ded05f5a3bf3ec</td>\n",
       "      <td>2018-11-15 00:02:00</td>\n",
       "      <td>69209</td>\n",
       "      <td>244</td>\n",
       "      <td>latest</td>\n",
       "      <td>1</td>\n",
       "      <td>0</td>\n",
       "    </tr>\n",
       "    <tr>\n",
       "      <th>4</th>\n",
       "      <td>182be0c5cdcd5072bb1864cdee4d3d6e</td>\n",
       "      <td>2018-11-15 00:02:00</td>\n",
       "      <td>62873</td>\n",
       "      <td>473</td>\n",
       "      <td>latest</td>\n",
       "      <td>0</td>\n",
       "      <td>0</td>\n",
       "    </tr>\n",
       "  </tbody>\n",
       "</table>\n",
       "</div>"
      ],
      "text/plain": [
       "                      impression_id      impression_time  user_id  app_code  \\\n",
       "0  c4ca4238a0b923820dcc509a6f75849b  2018-11-15 00:00:00    87862       422   \n",
       "1  45c48cce2e2d7fbdea1afc51c7c6ad26  2018-11-15 00:01:00    63410       467   \n",
       "2  70efdf2ec9b086079795c442636b55fb  2018-11-15 00:02:00    71748       259   \n",
       "3  8e296a067a37563370ded05f5a3bf3ec  2018-11-15 00:02:00    69209       244   \n",
       "4  182be0c5cdcd5072bb1864cdee4d3d6e  2018-11-15 00:02:00    62873       473   \n",
       "\n",
       "     os_version  is_4G  is_click  \n",
       "0           old      0         0  \n",
       "1        latest      1         1  \n",
       "2  intermediate      1         0  \n",
       "3        latest      1         0  \n",
       "4        latest      0         0  "
      ]
     },
     "metadata": {},
     "output_type": "display_data"
    },
    {
     "data": {
      "text/html": [
       "<div>\n",
       "<style scoped>\n",
       "    .dataframe tbody tr th:only-of-type {\n",
       "        vertical-align: middle;\n",
       "    }\n",
       "\n",
       "    .dataframe tbody tr th {\n",
       "        vertical-align: top;\n",
       "    }\n",
       "\n",
       "    .dataframe thead th {\n",
       "        text-align: right;\n",
       "    }\n",
       "</style>\n",
       "<table border=\"1\" class=\"dataframe\">\n",
       "  <thead>\n",
       "    <tr style=\"text-align: right;\">\n",
       "      <th></th>\n",
       "      <th>server_time</th>\n",
       "      <th>device_type</th>\n",
       "      <th>session_id</th>\n",
       "      <th>user_id</th>\n",
       "      <th>item_id</th>\n",
       "    </tr>\n",
       "  </thead>\n",
       "  <tbody>\n",
       "    <tr>\n",
       "      <th>0</th>\n",
       "      <td>2018-10-15 08:58:00</td>\n",
       "      <td>android</td>\n",
       "      <td>112333</td>\n",
       "      <td>4557</td>\n",
       "      <td>32970</td>\n",
       "    </tr>\n",
       "    <tr>\n",
       "      <th>1</th>\n",
       "      <td>2018-10-15 08:58:00</td>\n",
       "      <td>android</td>\n",
       "      <td>503590</td>\n",
       "      <td>74788</td>\n",
       "      <td>7640</td>\n",
       "    </tr>\n",
       "    <tr>\n",
       "      <th>2</th>\n",
       "      <td>2018-10-15 08:58:00</td>\n",
       "      <td>android</td>\n",
       "      <td>573960</td>\n",
       "      <td>23628</td>\n",
       "      <td>128855</td>\n",
       "    </tr>\n",
       "    <tr>\n",
       "      <th>3</th>\n",
       "      <td>2018-10-15 08:58:00</td>\n",
       "      <td>android</td>\n",
       "      <td>121691</td>\n",
       "      <td>2430</td>\n",
       "      <td>12774</td>\n",
       "    </tr>\n",
       "    <tr>\n",
       "      <th>4</th>\n",
       "      <td>2018-10-15 08:58:00</td>\n",
       "      <td>android</td>\n",
       "      <td>218564</td>\n",
       "      <td>19227</td>\n",
       "      <td>28296</td>\n",
       "    </tr>\n",
       "  </tbody>\n",
       "</table>\n",
       "</div>"
      ],
      "text/plain": [
       "           server_time device_type  session_id  user_id  item_id\n",
       "0  2018-10-15 08:58:00     android      112333     4557    32970\n",
       "1  2018-10-15 08:58:00     android      503590    74788     7640\n",
       "2  2018-10-15 08:58:00     android      573960    23628   128855\n",
       "3  2018-10-15 08:58:00     android      121691     2430    12774\n",
       "4  2018-10-15 08:58:00     android      218564    19227    28296"
      ]
     },
     "metadata": {},
     "output_type": "display_data"
    },
    {
     "data": {
      "text/html": [
       "<div>\n",
       "<style scoped>\n",
       "    .dataframe tbody tr th:only-of-type {\n",
       "        vertical-align: middle;\n",
       "    }\n",
       "\n",
       "    .dataframe tbody tr th {\n",
       "        vertical-align: top;\n",
       "    }\n",
       "\n",
       "    .dataframe thead th {\n",
       "        text-align: right;\n",
       "    }\n",
       "</style>\n",
       "<table border=\"1\" class=\"dataframe\">\n",
       "  <thead>\n",
       "    <tr style=\"text-align: right;\">\n",
       "      <th></th>\n",
       "      <th>item_id</th>\n",
       "      <th>item_price</th>\n",
       "      <th>category_1</th>\n",
       "      <th>category_2</th>\n",
       "      <th>category_3</th>\n",
       "      <th>product_type</th>\n",
       "    </tr>\n",
       "  </thead>\n",
       "  <tbody>\n",
       "    <tr>\n",
       "      <th>0</th>\n",
       "      <td>26880</td>\n",
       "      <td>4602</td>\n",
       "      <td>11</td>\n",
       "      <td>35</td>\n",
       "      <td>20</td>\n",
       "      <td>3040</td>\n",
       "    </tr>\n",
       "    <tr>\n",
       "      <th>1</th>\n",
       "      <td>54939</td>\n",
       "      <td>3513</td>\n",
       "      <td>12</td>\n",
       "      <td>57</td>\n",
       "      <td>85</td>\n",
       "      <td>6822</td>\n",
       "    </tr>\n",
       "    <tr>\n",
       "      <th>2</th>\n",
       "      <td>40383</td>\n",
       "      <td>825</td>\n",
       "      <td>17</td>\n",
       "      <td>8</td>\n",
       "      <td>279</td>\n",
       "      <td>1619</td>\n",
       "    </tr>\n",
       "    <tr>\n",
       "      <th>3</th>\n",
       "      <td>8777</td>\n",
       "      <td>2355</td>\n",
       "      <td>13</td>\n",
       "      <td>58</td>\n",
       "      <td>189</td>\n",
       "      <td>5264</td>\n",
       "    </tr>\n",
       "    <tr>\n",
       "      <th>4</th>\n",
       "      <td>113705</td>\n",
       "      <td>1267</td>\n",
       "      <td>17</td>\n",
       "      <td>39</td>\n",
       "      <td>151</td>\n",
       "      <td>10239</td>\n",
       "    </tr>\n",
       "  </tbody>\n",
       "</table>\n",
       "</div>"
      ],
      "text/plain": [
       "   item_id  item_price  category_1  category_2  category_3  product_type\n",
       "0    26880        4602          11          35          20          3040\n",
       "1    54939        3513          12          57          85          6822\n",
       "2    40383         825          17           8         279          1619\n",
       "3     8777        2355          13          58         189          5264\n",
       "4   113705        1267          17          39         151         10239"
      ]
     },
     "metadata": {},
     "output_type": "display_data"
    }
   ],
   "source": [
    "display(impr.head())\n",
    "display(logs.head())\n",
    "display(items.head())"
   ]
  },
  {
   "cell_type": "markdown",
   "metadata": {},
   "source": [
    "### Exploratory Data Analysis"
   ]
  },
  {
   "cell_type": "code",
   "execution_count": 8,
   "metadata": {},
   "outputs": [
    {
     "data": {
      "text/plain": [
       "impression_id      0\n",
       "impression_time    0\n",
       "user_id            0\n",
       "app_code           0\n",
       "os_version         0\n",
       "is_4G              0\n",
       "is_click           0\n",
       "dtype: int64"
      ]
     },
     "metadata": {},
     "output_type": "display_data"
    },
    {
     "data": {
      "text/plain": [
       "server_time    0\n",
       "device_type    0\n",
       "session_id     0\n",
       "user_id        0\n",
       "item_id        0\n",
       "dtype: int64"
      ]
     },
     "metadata": {},
     "output_type": "display_data"
    },
    {
     "data": {
      "text/plain": [
       "item_id         0\n",
       "item_price      0\n",
       "category_1      0\n",
       "category_2      0\n",
       "category_3      0\n",
       "product_type    0\n",
       "dtype: int64"
      ]
     },
     "metadata": {},
     "output_type": "display_data"
    }
   ],
   "source": [
    "## Check for null values\n",
    "\n",
    "display(impr.isna().sum(axis=0))\n",
    "display(logs.isna().sum(axis=0))\n",
    "display(items.isna().sum(axis=0))"
   ]
  },
  {
   "cell_type": "code",
   "execution_count": 9,
   "metadata": {},
   "outputs": [
    {
     "data": {
      "text/plain": [
       "0    95.43\n",
       "1     4.57\n",
       "Name: is_click, dtype: float64"
      ]
     },
     "execution_count": 9,
     "metadata": {},
     "output_type": "execute_result"
    }
   ],
   "source": [
    "# 4.57% positive samples, imbalanced dataset\n",
    "np.round(impr['is_click'].value_counts(normalize=True), 4 )* 100 "
   ]
  },
  {
   "cell_type": "code",
   "execution_count": 10,
   "metadata": {},
   "outputs": [
    {
     "data": {
      "image/png": "[encoded data removed]",
      "text/plain": [
       "<Figure size 640x480 with 1 Axes>"
      ]
     },
     "metadata": {},
     "output_type": "display_data"
    }
   ],
   "source": [
    "impr['is_click'].value_counts(normalize=False).plot(kind='bar');"
   ]
  },
  {
   "cell_type": "code",
   "execution_count": 11,
   "metadata": {},
   "outputs": [
    {
     "name": "stdout",
     "output_type": "stream",
     "text": [
      "unique user count :  74723 \n",
      "users common in impr and logs :  74723\n",
      "unique items count :  132761 \n",
      "items common in logs and items :  126607\n"
     ]
    }
   ],
   "source": [
    "# unique user_id count and intersection of user_id in impr and logs\n",
    "print('unique user count : ', impr.user_id.nunique(), '\\nusers common in impr and logs : ', len(set(impr.user_id.values) & set(logs.user_id.values)))\n",
    "\n",
    "# unique item_id count and intersection of item_id in items and logs\n",
    "print('unique items count : ', items.item_id.nunique(), '\\nitems common in logs and items : ', len(set(items.item_id.values) & set(logs.item_id.values)))\n",
    "\n",
    "# There are few missing items"
   ]
  },
  {
   "cell_type": "code",
   "execution_count": 12,
   "metadata": {},
   "outputs": [],
   "source": [
    "# # unique dates in impr dataset\n",
    "# print('impr dates : ')\n",
    "# print(np.sort(impr['impression_time'].map(lambda x : x.split(' ')[0]).unique()))\n",
    "\n",
    "# # unique dates in logs dataset\n",
    "# print('\\nview log dates : ')\n",
    "# print(np.sort(logs['server_time'].map(lambda x : x.split(' ')[0]).unique()))"
   ]
  },
  {
   "cell_type": "code",
   "execution_count": 13,
   "metadata": {},
   "outputs": [],
   "source": [
    "# # unique dates test dataset\n",
    "# print(np.sort(test['impression_time'].map(lambda x : x.split(' ')[0]).unique()))"
   ]
  },
  {
   "cell_type": "code",
   "execution_count": 14,
   "metadata": {},
   "outputs": [],
   "source": [
    "# impr['user_id'].nunique(), test['user_id'].nunique() , len(set(test['user_id'].values) & set(impr['user_id'].values))"
   ]
  },
  {
   "cell_type": "code",
   "execution_count": 15,
   "metadata": {},
   "outputs": [],
   "source": [
    "# merge items info with logs\n",
    "logs = pd.merge(logs, items, on='item_id', how='left')"
   ]
  },
  {
   "cell_type": "markdown",
   "metadata": {},
   "source": [
    "#### This function can be useful for getting a quick overview of the characteristics of the columns in a DataFrame, such as the number of missing values, data types, and unique values in each column."
   ]
  },
  {
   "cell_type": "code",
   "execution_count": 19,
   "metadata": {},
   "outputs": [],
   "source": [
    "def get_df_summary(df):\n",
    "    info_df = pd.DataFrame({'name':[], 'count':[], 'missing_count': [], 'missing_perc': [], 'cardinality' : [], 'dtype':[]})\n",
    "    for column in df.columns: \n",
    "        missing_count = df[column].isnull().sum()\n",
    "        missing_perc = (np.round(missing_count/df[column].size, 4)) * 100\n",
    "        count = df[column].size - missing_count\n",
    "        cardinality = df[column].nunique()\n",
    "        dtype = df[column].dtype\n",
    "        temp_df = pd.DataFrame({'name':[column], 'count':[count], 'missing_count': [missing_count], 'missing_perc': [missing_perc], 'cardinality' : [cardinality], 'dtype':[dtype]})\n",
    "        info_df = info_df.append(temp_df, ignore_index=True)\n",
    "    return info_df"
   ]
  },
  {
   "cell_type": "code",
   "execution_count": 17,
   "metadata": {},
   "outputs": [
    {
     "data": {
      "text/html": [
       "<div>\n",
       "<style scoped>\n",
       "    .dataframe tbody tr th:only-of-type {\n",
       "        vertical-align: middle;\n",
       "    }\n",
       "\n",
       "    .dataframe tbody tr th {\n",
       "        vertical-align: top;\n",
       "    }\n",
       "\n",
       "    .dataframe thead th {\n",
       "        text-align: right;\n",
       "    }\n",
       "</style>\n",
       "<table border=\"1\" class=\"dataframe\">\n",
       "  <thead>\n",
       "    <tr style=\"text-align: right;\">\n",
       "      <th></th>\n",
       "      <th>name</th>\n",
       "      <th>count</th>\n",
       "      <th>missing_count</th>\n",
       "      <th>missing_perc</th>\n",
       "      <th>cardinality</th>\n",
       "      <th>dtype</th>\n",
       "    </tr>\n",
       "  </thead>\n",
       "  <tbody>\n",
       "    <tr>\n",
       "      <th>0</th>\n",
       "      <td>server_time</td>\n",
       "      <td>3017496.0</td>\n",
       "      <td>0.0</td>\n",
       "      <td>0.00</td>\n",
       "      <td>82840.0</td>\n",
       "      <td>object</td>\n",
       "    </tr>\n",
       "    <tr>\n",
       "      <th>1</th>\n",
       "      <td>device_type</td>\n",
       "      <td>3017496.0</td>\n",
       "      <td>0.0</td>\n",
       "      <td>0.00</td>\n",
       "      <td>3.0</td>\n",
       "      <td>object</td>\n",
       "    </tr>\n",
       "    <tr>\n",
       "      <th>2</th>\n",
       "      <td>session_id</td>\n",
       "      <td>3017496.0</td>\n",
       "      <td>0.0</td>\n",
       "      <td>0.00</td>\n",
       "      <td>1014970.0</td>\n",
       "      <td>int64</td>\n",
       "    </tr>\n",
       "    <tr>\n",
       "      <th>3</th>\n",
       "      <td>user_id</td>\n",
       "      <td>3017496.0</td>\n",
       "      <td>0.0</td>\n",
       "      <td>0.00</td>\n",
       "      <td>89157.0</td>\n",
       "      <td>int64</td>\n",
       "    </tr>\n",
       "    <tr>\n",
       "      <th>4</th>\n",
       "      <td>item_id</td>\n",
       "      <td>3017496.0</td>\n",
       "      <td>0.0</td>\n",
       "      <td>0.00</td>\n",
       "      <td>126708.0</td>\n",
       "      <td>int64</td>\n",
       "    </tr>\n",
       "    <tr>\n",
       "      <th>5</th>\n",
       "      <td>item_price</td>\n",
       "      <td>3015746.0</td>\n",
       "      <td>1750.0</td>\n",
       "      <td>0.06</td>\n",
       "      <td>13207.0</td>\n",
       "      <td>float64</td>\n",
       "    </tr>\n",
       "    <tr>\n",
       "      <th>6</th>\n",
       "      <td>category_1</td>\n",
       "      <td>3015746.0</td>\n",
       "      <td>1750.0</td>\n",
       "      <td>0.06</td>\n",
       "      <td>17.0</td>\n",
       "      <td>float64</td>\n",
       "    </tr>\n",
       "    <tr>\n",
       "      <th>7</th>\n",
       "      <td>category_2</td>\n",
       "      <td>3015746.0</td>\n",
       "      <td>1750.0</td>\n",
       "      <td>0.06</td>\n",
       "      <td>79.0</td>\n",
       "      <td>float64</td>\n",
       "    </tr>\n",
       "    <tr>\n",
       "      <th>8</th>\n",
       "      <td>category_3</td>\n",
       "      <td>3015746.0</td>\n",
       "      <td>1750.0</td>\n",
       "      <td>0.06</td>\n",
       "      <td>335.0</td>\n",
       "      <td>float64</td>\n",
       "    </tr>\n",
       "    <tr>\n",
       "      <th>9</th>\n",
       "      <td>product_type</td>\n",
       "      <td>3015746.0</td>\n",
       "      <td>1750.0</td>\n",
       "      <td>0.06</td>\n",
       "      <td>7846.0</td>\n",
       "      <td>float64</td>\n",
       "    </tr>\n",
       "  </tbody>\n",
       "</table>\n",
       "</div>"
      ],
      "text/plain": [
       "           name      count  missing_count  missing_perc  cardinality    dtype\n",
       "0   server_time  3017496.0            0.0          0.00      82840.0   object\n",
       "1   device_type  3017496.0            0.0          0.00          3.0   object\n",
       "2    session_id  3017496.0            0.0          0.00    1014970.0    int64\n",
       "3       user_id  3017496.0            0.0          0.00      89157.0    int64\n",
       "4       item_id  3017496.0            0.0          0.00     126708.0    int64\n",
       "5    item_price  3015746.0         1750.0          0.06      13207.0  float64\n",
       "6    category_1  3015746.0         1750.0          0.06         17.0  float64\n",
       "7    category_2  3015746.0         1750.0          0.06         79.0  float64\n",
       "8    category_3  3015746.0         1750.0          0.06        335.0  float64\n",
       "9  product_type  3015746.0         1750.0          0.06       7846.0  float64"
      ]
     },
     "metadata": {},
     "output_type": "display_data"
    },
    {
     "data": {
      "text/html": [
       "<div>\n",
       "<style scoped>\n",
       "    .dataframe tbody tr th:only-of-type {\n",
       "        vertical-align: middle;\n",
       "    }\n",
       "\n",
       "    .dataframe tbody tr th {\n",
       "        vertical-align: top;\n",
       "    }\n",
       "\n",
       "    .dataframe thead th {\n",
       "        text-align: right;\n",
       "    }\n",
       "</style>\n",
       "<table border=\"1\" class=\"dataframe\">\n",
       "  <thead>\n",
       "    <tr style=\"text-align: right;\">\n",
       "      <th></th>\n",
       "      <th>name</th>\n",
       "      <th>count</th>\n",
       "      <th>missing_count</th>\n",
       "      <th>missing_perc</th>\n",
       "      <th>cardinality</th>\n",
       "      <th>dtype</th>\n",
       "    </tr>\n",
       "  </thead>\n",
       "  <tbody>\n",
       "    <tr>\n",
       "      <th>0</th>\n",
       "      <td>impression_id</td>\n",
       "      <td>237609.0</td>\n",
       "      <td>0.0</td>\n",
       "      <td>0.0</td>\n",
       "      <td>237609.0</td>\n",
       "      <td>object</td>\n",
       "    </tr>\n",
       "    <tr>\n",
       "      <th>1</th>\n",
       "      <td>impression_time</td>\n",
       "      <td>237609.0</td>\n",
       "      <td>0.0</td>\n",
       "      <td>0.0</td>\n",
       "      <td>36461.0</td>\n",
       "      <td>object</td>\n",
       "    </tr>\n",
       "    <tr>\n",
       "      <th>2</th>\n",
       "      <td>user_id</td>\n",
       "      <td>237609.0</td>\n",
       "      <td>0.0</td>\n",
       "      <td>0.0</td>\n",
       "      <td>74723.0</td>\n",
       "      <td>int64</td>\n",
       "    </tr>\n",
       "    <tr>\n",
       "      <th>3</th>\n",
       "      <td>app_code</td>\n",
       "      <td>237609.0</td>\n",
       "      <td>0.0</td>\n",
       "      <td>0.0</td>\n",
       "      <td>490.0</td>\n",
       "      <td>int64</td>\n",
       "    </tr>\n",
       "    <tr>\n",
       "      <th>4</th>\n",
       "      <td>os_version</td>\n",
       "      <td>237609.0</td>\n",
       "      <td>0.0</td>\n",
       "      <td>0.0</td>\n",
       "      <td>3.0</td>\n",
       "      <td>object</td>\n",
       "    </tr>\n",
       "    <tr>\n",
       "      <th>5</th>\n",
       "      <td>is_4G</td>\n",
       "      <td>237609.0</td>\n",
       "      <td>0.0</td>\n",
       "      <td>0.0</td>\n",
       "      <td>2.0</td>\n",
       "      <td>int64</td>\n",
       "    </tr>\n",
       "    <tr>\n",
       "      <th>6</th>\n",
       "      <td>is_click</td>\n",
       "      <td>237609.0</td>\n",
       "      <td>0.0</td>\n",
       "      <td>0.0</td>\n",
       "      <td>2.0</td>\n",
       "      <td>int64</td>\n",
       "    </tr>\n",
       "  </tbody>\n",
       "</table>\n",
       "</div>"
      ],
      "text/plain": [
       "              name     count  missing_count  missing_perc  cardinality   dtype\n",
       "0    impression_id  237609.0            0.0           0.0     237609.0  object\n",
       "1  impression_time  237609.0            0.0           0.0      36461.0  object\n",
       "2          user_id  237609.0            0.0           0.0      74723.0   int64\n",
       "3         app_code  237609.0            0.0           0.0        490.0   int64\n",
       "4       os_version  237609.0            0.0           0.0          3.0  object\n",
       "5            is_4G  237609.0            0.0           0.0          2.0   int64\n",
       "6         is_click  237609.0            0.0           0.0          2.0   int64"
      ]
     },
     "metadata": {},
     "output_type": "display_data"
    }
   ],
   "source": [
    "display(get_df_summary(logs))\n",
    "display(get_df_summary(impr))"
   ]
  },
  {
   "cell_type": "code",
   "execution_count": 18,
   "metadata": {},
   "outputs": [],
   "source": [
    "# convert timestamps into datetime format\n",
    "impr['impression_time'] = pd.to_datetime(impr['impression_time'], format='%Y-%m-%d %H:%M:%S')\n",
    "logs['server_time'] = pd.to_datetime(logs['server_time'], format='%Y-%m-%d %H:%M:%S')"
   ]
  },
  {
   "cell_type": "code",
   "execution_count": 19,
   "metadata": {},
   "outputs": [
    {
     "data": {
      "text/html": [
       "<div>\n",
       "<style scoped>\n",
       "    .dataframe tbody tr th:only-of-type {\n",
       "        vertical-align: middle;\n",
       "    }\n",
       "\n",
       "    .dataframe tbody tr th {\n",
       "        vertical-align: top;\n",
       "    }\n",
       "\n",
       "    .dataframe thead th {\n",
       "        text-align: right;\n",
       "    }\n",
       "</style>\n",
       "<table border=\"1\" class=\"dataframe\">\n",
       "  <thead>\n",
       "    <tr style=\"text-align: right;\">\n",
       "      <th></th>\n",
       "      <th>server_time</th>\n",
       "      <th>device_type</th>\n",
       "      <th>session_id</th>\n",
       "      <th>user_id</th>\n",
       "      <th>item_id</th>\n",
       "      <th>item_price</th>\n",
       "      <th>category_1</th>\n",
       "      <th>category_2</th>\n",
       "      <th>category_3</th>\n",
       "      <th>product_type</th>\n",
       "    </tr>\n",
       "  </thead>\n",
       "  <tbody>\n",
       "    <tr>\n",
       "      <th>0</th>\n",
       "      <td>2018-10-15 08:58:00</td>\n",
       "      <td>android</td>\n",
       "      <td>112333</td>\n",
       "      <td>4557</td>\n",
       "      <td>32970</td>\n",
       "      <td>54685.0</td>\n",
       "      <td>16.0</td>\n",
       "      <td>56.0</td>\n",
       "      <td>253.0</td>\n",
       "      <td>3184.0</td>\n",
       "    </tr>\n",
       "    <tr>\n",
       "      <th>1</th>\n",
       "      <td>2018-10-15 08:58:00</td>\n",
       "      <td>android</td>\n",
       "      <td>503590</td>\n",
       "      <td>74788</td>\n",
       "      <td>7640</td>\n",
       "      <td>1376.0</td>\n",
       "      <td>7.0</td>\n",
       "      <td>71.0</td>\n",
       "      <td>228.0</td>\n",
       "      <td>545.0</td>\n",
       "    </tr>\n",
       "    <tr>\n",
       "      <th>2</th>\n",
       "      <td>2018-10-15 08:58:00</td>\n",
       "      <td>android</td>\n",
       "      <td>573960</td>\n",
       "      <td>23628</td>\n",
       "      <td>128855</td>\n",
       "      <td>4544.0</td>\n",
       "      <td>4.0</td>\n",
       "      <td>38.0</td>\n",
       "      <td>62.0</td>\n",
       "      <td>5609.0</td>\n",
       "    </tr>\n",
       "    <tr>\n",
       "      <th>3</th>\n",
       "      <td>2018-10-15 08:58:00</td>\n",
       "      <td>android</td>\n",
       "      <td>121691</td>\n",
       "      <td>2430</td>\n",
       "      <td>12774</td>\n",
       "      <td>904.0</td>\n",
       "      <td>17.0</td>\n",
       "      <td>39.0</td>\n",
       "      <td>252.0</td>\n",
       "      <td>2740.0</td>\n",
       "    </tr>\n",
       "    <tr>\n",
       "      <th>4</th>\n",
       "      <td>2018-10-15 08:58:00</td>\n",
       "      <td>android</td>\n",
       "      <td>218564</td>\n",
       "      <td>19227</td>\n",
       "      <td>28296</td>\n",
       "      <td>2304.0</td>\n",
       "      <td>12.0</td>\n",
       "      <td>57.0</td>\n",
       "      <td>54.0</td>\n",
       "      <td>7422.0</td>\n",
       "    </tr>\n",
       "  </tbody>\n",
       "</table>\n",
       "</div>"
      ],
      "text/plain": [
       "          server_time device_type  session_id  user_id  item_id  item_price  \\\n",
       "0 2018-10-15 08:58:00     android      112333     4557    32970     54685.0   \n",
       "1 2018-10-15 08:58:00     android      503590    74788     7640      1376.0   \n",
       "2 2018-10-15 08:58:00     android      573960    23628   128855      4544.0   \n",
       "3 2018-10-15 08:58:00     android      121691     2430    12774       904.0   \n",
       "4 2018-10-15 08:58:00     android      218564    19227    28296      2304.0   \n",
       "\n",
       "   category_1  category_2  category_3  product_type  \n",
       "0        16.0        56.0       253.0        3184.0  \n",
       "1         7.0        71.0       228.0         545.0  \n",
       "2         4.0        38.0        62.0        5609.0  \n",
       "3        17.0        39.0       252.0        2740.0  \n",
       "4        12.0        57.0        54.0        7422.0  "
      ]
     },
     "execution_count": 19,
     "metadata": {},
     "output_type": "execute_result"
    }
   ],
   "source": [
    "logs.head()"
   ]
  },
  {
   "cell_type": "code",
   "execution_count": 20,
   "metadata": {},
   "outputs": [
    {
     "data": {
      "text/html": [
       "<div>\n",
       "<style scoped>\n",
       "    .dataframe tbody tr th:only-of-type {\n",
       "        vertical-align: middle;\n",
       "    }\n",
       "\n",
       "    .dataframe tbody tr th {\n",
       "        vertical-align: top;\n",
       "    }\n",
       "\n",
       "    .dataframe thead th {\n",
       "        text-align: right;\n",
       "    }\n",
       "</style>\n",
       "<table border=\"1\" class=\"dataframe\">\n",
       "  <thead>\n",
       "    <tr style=\"text-align: right;\">\n",
       "      <th></th>\n",
       "      <th>impression_id</th>\n",
       "      <th>impression_time</th>\n",
       "      <th>user_id</th>\n",
       "      <th>app_code</th>\n",
       "      <th>os_version</th>\n",
       "      <th>is_4G</th>\n",
       "      <th>is_click</th>\n",
       "    </tr>\n",
       "  </thead>\n",
       "  <tbody>\n",
       "    <tr>\n",
       "      <th>0</th>\n",
       "      <td>c4ca4238a0b923820dcc509a6f75849b</td>\n",
       "      <td>2018-11-15 00:00:00</td>\n",
       "      <td>87862</td>\n",
       "      <td>422</td>\n",
       "      <td>old</td>\n",
       "      <td>0</td>\n",
       "      <td>0</td>\n",
       "    </tr>\n",
       "    <tr>\n",
       "      <th>1</th>\n",
       "      <td>45c48cce2e2d7fbdea1afc51c7c6ad26</td>\n",
       "      <td>2018-11-15 00:01:00</td>\n",
       "      <td>63410</td>\n",
       "      <td>467</td>\n",
       "      <td>latest</td>\n",
       "      <td>1</td>\n",
       "      <td>1</td>\n",
       "    </tr>\n",
       "    <tr>\n",
       "      <th>2</th>\n",
       "      <td>70efdf2ec9b086079795c442636b55fb</td>\n",
       "      <td>2018-11-15 00:02:00</td>\n",
       "      <td>71748</td>\n",
       "      <td>259</td>\n",
       "      <td>intermediate</td>\n",
       "      <td>1</td>\n",
       "      <td>0</td>\n",
       "    </tr>\n",
       "    <tr>\n",
       "      <th>3</th>\n",
       "      <td>8e296a067a37563370ded05f5a3bf3ec</td>\n",
       "      <td>2018-11-15 00:02:00</td>\n",
       "      <td>69209</td>\n",
       "      <td>244</td>\n",
       "      <td>latest</td>\n",
       "      <td>1</td>\n",
       "      <td>0</td>\n",
       "    </tr>\n",
       "    <tr>\n",
       "      <th>4</th>\n",
       "      <td>182be0c5cdcd5072bb1864cdee4d3d6e</td>\n",
       "      <td>2018-11-15 00:02:00</td>\n",
       "      <td>62873</td>\n",
       "      <td>473</td>\n",
       "      <td>latest</td>\n",
       "      <td>0</td>\n",
       "      <td>0</td>\n",
       "    </tr>\n",
       "  </tbody>\n",
       "</table>\n",
       "</div>"
      ],
      "text/plain": [
       "                      impression_id     impression_time  user_id  app_code  \\\n",
       "0  c4ca4238a0b923820dcc509a6f75849b 2018-11-15 00:00:00    87862       422   \n",
       "1  45c48cce2e2d7fbdea1afc51c7c6ad26 2018-11-15 00:01:00    63410       467   \n",
       "2  70efdf2ec9b086079795c442636b55fb 2018-11-15 00:02:00    71748       259   \n",
       "3  8e296a067a37563370ded05f5a3bf3ec 2018-11-15 00:02:00    69209       244   \n",
       "4  182be0c5cdcd5072bb1864cdee4d3d6e 2018-11-15 00:02:00    62873       473   \n",
       "\n",
       "     os_version  is_4G  is_click  \n",
       "0           old      0         0  \n",
       "1        latest      1         1  \n",
       "2  intermediate      1         0  \n",
       "3        latest      1         0  \n",
       "4        latest      0         0  "
      ]
     },
     "execution_count": 20,
     "metadata": {},
     "output_type": "execute_result"
    }
   ],
   "source": [
    "impr.head()"
   ]
  },
  {
   "cell_type": "code",
   "execution_count": 21,
   "metadata": {},
   "outputs": [],
   "source": [
    "# sort impr df by user_id and impression_time\n",
    "impr.sort_values(by=['user_id', 'impression_time'], inplace=True, ignore_index=True)"
   ]
  },
  {
   "cell_type": "code",
   "execution_count": 22,
   "metadata": {},
   "outputs": [],
   "source": [
    "# generate \"tsli\" : time since last impression in seconds\n",
    "\n",
    "previous_userid = None\n",
    "previous_ts = None\n",
    "tsli_list = []\n",
    "\n",
    "for idx, row in impr.iterrows(): \n",
    "    \n",
    "    # if idx == 20: break\n",
    "\n",
    "    user_id = row['user_id']\n",
    "    impr_ts = row['impression_time']\n",
    "\n",
    "\n",
    "    if user_id != previous_userid: \n",
    "        tsli = np.NaN # assign null value if there is no previous impression\n",
    "        previous_userid = user_id\n",
    "        previous_ts = impr_ts\n",
    "    else : \n",
    "        tsli = (impr_ts - previous_ts).seconds\n",
    "        previous_ts = impr_ts        \n",
    "\n",
    "    tsli_list.append(tsli)\n",
    "    # print(idx, user_id, impr_ts, tsli)\n",
    "\n",
    "impr['tsli'] = tsli_list"
   ]
  },
  {
   "cell_type": "code",
   "execution_count": 23,
   "metadata": {},
   "outputs": [],
   "source": [
    "# impr.app_code.nunique(), impr.app_code.value_counts()"
   ]
  },
  {
   "cell_type": "code",
   "execution_count": 1,
   "metadata": {},
   "outputs": [],
   "source": [
    "##generating below features"
   ]
  },
  {
   "cell_type": "code",
   "execution_count": 24,
   "metadata": {},
   "outputs": [
    {
     "name": "stdout",
     "output_type": "stream",
     "text": [
      "idx                      user_id                  is_click                 imp_ts                   tsli                     tslc                     cnt_hi                   cnt_hc                   app_code                 last_imp_appcode         last_clk_appcode         \n"
     ]
    }
   ],
   "source": [
    "\"\"\"\n",
    "generating below features\n",
    "    1. \"tsli\" : time since last impression in seconds\n",
    "    2. \"tslc\" : time since last click in seconds\n",
    "    3. \"cnt_hi\" : total count of historical impressions\n",
    "    4. \"cnt_hc\" : total count of historical clicks\n",
    "    5. \"last_imp_appcode\" : app_code for which last impression happened \n",
    "    6. \"last_clk_appcode\" : app_code for which last click happened \n",
    "    7. \"unique_appcode_cnt\" : unique app_code impression count\n",
    "\"\"\"\n",
    "\n",
    "row_format = '{:<25}'* 11\n",
    "print(row_format.format(*['idx', 'user_id', 'is_click', 'imp_ts', 'tsli', 'tslc', 'cnt_hi', 'cnt_hc', 'app_code', 'last_imp_appcode', 'last_clk_appcode']))\n",
    "\n",
    "previous_userid = None\n",
    "previous_imp_ts = None\n",
    "previous_clk_ts = None\n",
    "\n",
    "tsli_list = []\n",
    "tslc_list = []\n",
    "cnt_hi_list = []\n",
    "cnt_hc_list = []\n",
    "last_imp_appcode_list = []\n",
    "last_clk_appcode_list = []\n",
    "unique_appcode_cnt_list = []\n",
    "\n",
    "for idx, row in impr.iterrows(): \n",
    "    \n",
    "    # if idx == 60: break\n",
    "\n",
    "    user_id = row['user_id']\n",
    "    imp_ts = row['impression_time']\n",
    "    \n",
    "\n",
    "    if user_id != previous_userid: \n",
    "        \n",
    "        tsli = np.NaN # assign null value if there is no previous impression\n",
    "        tslc = np.NaN # assign null value if there is no previous click\n",
    "\n",
    "        cnt_hi = 0\n",
    "        cnt_hc = 0\n",
    "\n",
    "        last_imp_appcode = np.NaN\n",
    "        last_clk_appcode = np.NaN\n",
    "\n",
    "        unique_appcode_cnt = 1\n",
    "\n",
    "        ####################################\n",
    "\n",
    "        previous_userid = user_id\n",
    "        \n",
    "        previous_imp_ts = imp_ts\n",
    "        previous_clk_ts = imp_ts if row['is_click'] else None\n",
    "\n",
    "        temp_imp_cnt = 1\n",
    "        temp_clk_cnt = 1 if row['is_click'] else 0\n",
    "\n",
    "        previous_imp_appcode = row['app_code']\n",
    "        previous_clk_appcode = row['app_code'] if row['is_click'] else None\n",
    "\n",
    "        temp_appcode_set = set([row['app_code']])\n",
    "\n",
    "\n",
    "    else : \n",
    "\n",
    "        tsli = (imp_ts - previous_imp_ts).total_seconds()\n",
    "        tslc = (imp_ts - previous_clk_ts).total_seconds() if previous_clk_ts else np.NaN\n",
    "\n",
    "        cnt_hi = temp_imp_cnt\n",
    "        cnt_hc = temp_clk_cnt\n",
    "\n",
    "        last_imp_appcode = previous_imp_appcode\n",
    "        last_clk_appcode = previous_clk_appcode if not pd.isna(previous_clk_appcode) else np.NaN # bug when app_code is 0\n",
    "\n",
    "        ####################################\n",
    "        \n",
    "        previous_imp_ts = imp_ts        \n",
    "        if row['is_click']: previous_clk_ts = imp_ts \n",
    "\n",
    "        temp_imp_cnt += 1\n",
    "        if row['is_click']: temp_clk_cnt += 1\n",
    "\n",
    "        previous_imp_appcode = row['app_code']        \n",
    "        if row['is_click']: previous_clk_appcode = row['app_code']\n",
    "\n",
    "        temp_appcode_set.add(row['app_code'])\n",
    "        unique_appcode_cnt = len(temp_appcode_set)\n",
    "\n",
    "    tsli_list.append(tsli)\n",
    "    tslc_list.append(tslc)\n",
    "    cnt_hi_list.append(cnt_hi)\n",
    "    cnt_hc_list.append(cnt_hc)\n",
    "    last_imp_appcode_list.append(last_imp_appcode)\n",
    "    last_clk_appcode_list.append(last_clk_appcode)\n",
    "    unique_appcode_cnt_list.append(unique_appcode_cnt)\n",
    "\n",
    "\n",
    "    # print(row_format.format(*[idx, user_id, row['is_click'], str(imp_ts), tsli, tslc, cnt_hi, cnt_hc, row['app_code'], last_imp_appcode, last_clk_appcode]))\n",
    "\n",
    "impr['tsli'] = tsli_list\n",
    "impr['tslc'] = tslc_list\n",
    "impr['cnt_hi'] = cnt_hi_list\n",
    "impr['cnt_hc'] = cnt_hc_list\n",
    "impr['last_imp_appcode'] = last_imp_appcode_list\n",
    "impr['last_clk_appcode'] = last_clk_appcode_list\n",
    "impr['unique_appcode_cnt'] = unique_appcode_cnt_list"
   ]
  },
  {
   "cell_type": "code",
   "execution_count": 25,
   "metadata": {},
   "outputs": [],
   "source": [
    "impr['imp_day'] = impr['impression_time'].dt.day\n",
    "impr['imp_week'] = impr['impression_time'].dt.weekday\n",
    "impr['imp_hour'] = impr['impression_time'].dt.hour"
   ]
  },
  {
   "cell_type": "code",
   "execution_count": 26,
   "metadata": {},
   "outputs": [
    {
     "data": {
      "text/html": [
       "<div>\n",
       "<style scoped>\n",
       "    .dataframe tbody tr th:only-of-type {\n",
       "        vertical-align: middle;\n",
       "    }\n",
       "\n",
       "    .dataframe tbody tr th {\n",
       "        vertical-align: top;\n",
       "    }\n",
       "\n",
       "    .dataframe thead th {\n",
       "        text-align: right;\n",
       "    }\n",
       "</style>\n",
       "<table border=\"1\" class=\"dataframe\">\n",
       "  <thead>\n",
       "    <tr style=\"text-align: right;\">\n",
       "      <th></th>\n",
       "      <th>impression_id</th>\n",
       "      <th>impression_time</th>\n",
       "      <th>user_id</th>\n",
       "      <th>app_code</th>\n",
       "      <th>os_version</th>\n",
       "      <th>is_4G</th>\n",
       "      <th>is_click</th>\n",
       "      <th>tsli</th>\n",
       "      <th>tslc</th>\n",
       "      <th>cnt_hi</th>\n",
       "      <th>cnt_hc</th>\n",
       "      <th>last_imp_appcode</th>\n",
       "      <th>last_clk_appcode</th>\n",
       "      <th>unique_appcode_cnt</th>\n",
       "      <th>imp_day</th>\n",
       "      <th>imp_week</th>\n",
       "      <th>imp_hour</th>\n",
       "    </tr>\n",
       "  </thead>\n",
       "  <tbody>\n",
       "    <tr>\n",
       "      <th>0</th>\n",
       "      <td>5f98c2c31a8006e510448c02ec74d50f</td>\n",
       "      <td>2018-11-26 23:30:00</td>\n",
       "      <td>0</td>\n",
       "      <td>207</td>\n",
       "      <td>old</td>\n",
       "      <td>0</td>\n",
       "      <td>0</td>\n",
       "      <td>NaN</td>\n",
       "      <td>NaN</td>\n",
       "      <td>0</td>\n",
       "      <td>0</td>\n",
       "      <td>NaN</td>\n",
       "      <td>NaN</td>\n",
       "      <td>1</td>\n",
       "      <td>26</td>\n",
       "      <td>0</td>\n",
       "      <td>23</td>\n",
       "    </tr>\n",
       "    <tr>\n",
       "      <th>1</th>\n",
       "      <td>2b12c0d47f5821a5adb3bfd973d0f708</td>\n",
       "      <td>2018-11-19 20:49:00</td>\n",
       "      <td>2</td>\n",
       "      <td>190</td>\n",
       "      <td>intermediate</td>\n",
       "      <td>0</td>\n",
       "      <td>0</td>\n",
       "      <td>NaN</td>\n",
       "      <td>NaN</td>\n",
       "      <td>0</td>\n",
       "      <td>0</td>\n",
       "      <td>NaN</td>\n",
       "      <td>NaN</td>\n",
       "      <td>1</td>\n",
       "      <td>19</td>\n",
       "      <td>0</td>\n",
       "      <td>20</td>\n",
       "    </tr>\n",
       "    <tr>\n",
       "      <th>2</th>\n",
       "      <td>f85e4bf0e34f3ee66add56229845e4db</td>\n",
       "      <td>2018-11-20 20:29:00</td>\n",
       "      <td>2</td>\n",
       "      <td>190</td>\n",
       "      <td>intermediate</td>\n",
       "      <td>0</td>\n",
       "      <td>0</td>\n",
       "      <td>85200.0</td>\n",
       "      <td>NaN</td>\n",
       "      <td>1</td>\n",
       "      <td>0</td>\n",
       "      <td>190.0</td>\n",
       "      <td>NaN</td>\n",
       "      <td>1</td>\n",
       "      <td>20</td>\n",
       "      <td>1</td>\n",
       "      <td>20</td>\n",
       "    </tr>\n",
       "    <tr>\n",
       "      <th>3</th>\n",
       "      <td>010ed37e44e2fdc175b4c5c6c930805a</td>\n",
       "      <td>2018-11-20 20:53:00</td>\n",
       "      <td>2</td>\n",
       "      <td>190</td>\n",
       "      <td>intermediate</td>\n",
       "      <td>0</td>\n",
       "      <td>0</td>\n",
       "      <td>1440.0</td>\n",
       "      <td>NaN</td>\n",
       "      <td>2</td>\n",
       "      <td>0</td>\n",
       "      <td>190.0</td>\n",
       "      <td>NaN</td>\n",
       "      <td>1</td>\n",
       "      <td>20</td>\n",
       "      <td>1</td>\n",
       "      <td>20</td>\n",
       "    </tr>\n",
       "    <tr>\n",
       "      <th>4</th>\n",
       "      <td>577c63f9937fa0e8d4650ddf1510a03f</td>\n",
       "      <td>2018-11-21 21:47:00</td>\n",
       "      <td>2</td>\n",
       "      <td>190</td>\n",
       "      <td>intermediate</td>\n",
       "      <td>0</td>\n",
       "      <td>0</td>\n",
       "      <td>89640.0</td>\n",
       "      <td>NaN</td>\n",
       "      <td>3</td>\n",
       "      <td>0</td>\n",
       "      <td>190.0</td>\n",
       "      <td>NaN</td>\n",
       "      <td>1</td>\n",
       "      <td>21</td>\n",
       "      <td>2</td>\n",
       "      <td>21</td>\n",
       "    </tr>\n",
       "  </tbody>\n",
       "</table>\n",
       "</div>"
      ],
      "text/plain": [
       "                      impression_id     impression_time  user_id  app_code  \\\n",
       "0  5f98c2c31a8006e510448c02ec74d50f 2018-11-26 23:30:00        0       207   \n",
       "1  2b12c0d47f5821a5adb3bfd973d0f708 2018-11-19 20:49:00        2       190   \n",
       "2  f85e4bf0e34f3ee66add56229845e4db 2018-11-20 20:29:00        2       190   \n",
       "3  010ed37e44e2fdc175b4c5c6c930805a 2018-11-20 20:53:00        2       190   \n",
       "4  577c63f9937fa0e8d4650ddf1510a03f 2018-11-21 21:47:00        2       190   \n",
       "\n",
       "     os_version  is_4G  is_click     tsli  tslc  cnt_hi  cnt_hc  \\\n",
       "0           old      0         0      NaN   NaN       0       0   \n",
       "1  intermediate      0         0      NaN   NaN       0       0   \n",
       "2  intermediate      0         0  85200.0   NaN       1       0   \n",
       "3  intermediate      0         0   1440.0   NaN       2       0   \n",
       "4  intermediate      0         0  89640.0   NaN       3       0   \n",
       "\n",
       "   last_imp_appcode  last_clk_appcode  unique_appcode_cnt  imp_day  imp_week  \\\n",
       "0               NaN               NaN                   1       26         0   \n",
       "1               NaN               NaN                   1       19         0   \n",
       "2             190.0               NaN                   1       20         1   \n",
       "3             190.0               NaN                   1       20         1   \n",
       "4             190.0               NaN                   1       21         2   \n",
       "\n",
       "   imp_hour  \n",
       "0        23  \n",
       "1        20  \n",
       "2        20  \n",
       "3        20  \n",
       "4        21  "
      ]
     },
     "execution_count": 26,
     "metadata": {},
     "output_type": "execute_result"
    }
   ],
   "source": [
    "impr.head()"
   ]
  },
  {
   "cell_type": "code",
   "execution_count": 27,
   "metadata": {},
   "outputs": [],
   "source": [
    "# impr.shape, impr['cnt_hi'].sum(), impr['cnt_hc'].sum(), impr['is_click'].sum(), impr['cnt_hc'].value_counts()"
   ]
  },
  {
   "cell_type": "code",
   "execution_count": 28,
   "metadata": {},
   "outputs": [
    {
     "data": {
      "text/html": [
       "<div>\n",
       "<style scoped>\n",
       "    .dataframe tbody tr th:only-of-type {\n",
       "        vertical-align: middle;\n",
       "    }\n",
       "\n",
       "    .dataframe tbody tr th {\n",
       "        vertical-align: top;\n",
       "    }\n",
       "\n",
       "    .dataframe thead th {\n",
       "        text-align: right;\n",
       "    }\n",
       "</style>\n",
       "<table border=\"1\" class=\"dataframe\">\n",
       "  <thead>\n",
       "    <tr style=\"text-align: right;\">\n",
       "      <th></th>\n",
       "      <th>name</th>\n",
       "      <th>count</th>\n",
       "      <th>missing_count</th>\n",
       "      <th>missing_perc</th>\n",
       "      <th>cardinality</th>\n",
       "      <th>dtype</th>\n",
       "    </tr>\n",
       "  </thead>\n",
       "  <tbody>\n",
       "    <tr>\n",
       "      <th>0</th>\n",
       "      <td>impression_id</td>\n",
       "      <td>237609.0</td>\n",
       "      <td>0.0</td>\n",
       "      <td>0.00</td>\n",
       "      <td>237609.0</td>\n",
       "      <td>object</td>\n",
       "    </tr>\n",
       "    <tr>\n",
       "      <th>1</th>\n",
       "      <td>impression_time</td>\n",
       "      <td>237609.0</td>\n",
       "      <td>0.0</td>\n",
       "      <td>0.00</td>\n",
       "      <td>36461.0</td>\n",
       "      <td>datetime64[ns]</td>\n",
       "    </tr>\n",
       "    <tr>\n",
       "      <th>2</th>\n",
       "      <td>user_id</td>\n",
       "      <td>237609.0</td>\n",
       "      <td>0.0</td>\n",
       "      <td>0.00</td>\n",
       "      <td>74723.0</td>\n",
       "      <td>int64</td>\n",
       "    </tr>\n",
       "    <tr>\n",
       "      <th>3</th>\n",
       "      <td>app_code</td>\n",
       "      <td>237609.0</td>\n",
       "      <td>0.0</td>\n",
       "      <td>0.00</td>\n",
       "      <td>490.0</td>\n",
       "      <td>int64</td>\n",
       "    </tr>\n",
       "    <tr>\n",
       "      <th>4</th>\n",
       "      <td>os_version</td>\n",
       "      <td>237609.0</td>\n",
       "      <td>0.0</td>\n",
       "      <td>0.00</td>\n",
       "      <td>3.0</td>\n",
       "      <td>object</td>\n",
       "    </tr>\n",
       "    <tr>\n",
       "      <th>5</th>\n",
       "      <td>is_4G</td>\n",
       "      <td>237609.0</td>\n",
       "      <td>0.0</td>\n",
       "      <td>0.00</td>\n",
       "      <td>2.0</td>\n",
       "      <td>int64</td>\n",
       "    </tr>\n",
       "    <tr>\n",
       "      <th>6</th>\n",
       "      <td>is_click</td>\n",
       "      <td>237609.0</td>\n",
       "      <td>0.0</td>\n",
       "      <td>0.00</td>\n",
       "      <td>2.0</td>\n",
       "      <td>int64</td>\n",
       "    </tr>\n",
       "    <tr>\n",
       "      <th>7</th>\n",
       "      <td>tsli</td>\n",
       "      <td>162886.0</td>\n",
       "      <td>74723.0</td>\n",
       "      <td>31.45</td>\n",
       "      <td>18624.0</td>\n",
       "      <td>float64</td>\n",
       "    </tr>\n",
       "    <tr>\n",
       "      <th>8</th>\n",
       "      <td>tslc</td>\n",
       "      <td>31075.0</td>\n",
       "      <td>206534.0</td>\n",
       "      <td>86.92</td>\n",
       "      <td>15248.0</td>\n",
       "      <td>float64</td>\n",
       "    </tr>\n",
       "    <tr>\n",
       "      <th>9</th>\n",
       "      <td>cnt_hi</td>\n",
       "      <td>237609.0</td>\n",
       "      <td>0.0</td>\n",
       "      <td>0.00</td>\n",
       "      <td>73.0</td>\n",
       "      <td>int64</td>\n",
       "    </tr>\n",
       "    <tr>\n",
       "      <th>10</th>\n",
       "      <td>cnt_hc</td>\n",
       "      <td>237609.0</td>\n",
       "      <td>0.0</td>\n",
       "      <td>0.00</td>\n",
       "      <td>16.0</td>\n",
       "      <td>int64</td>\n",
       "    </tr>\n",
       "    <tr>\n",
       "      <th>11</th>\n",
       "      <td>last_imp_appcode</td>\n",
       "      <td>162886.0</td>\n",
       "      <td>74723.0</td>\n",
       "      <td>31.45</td>\n",
       "      <td>395.0</td>\n",
       "      <td>float64</td>\n",
       "    </tr>\n",
       "    <tr>\n",
       "      <th>12</th>\n",
       "      <td>last_clk_appcode</td>\n",
       "      <td>31075.0</td>\n",
       "      <td>206534.0</td>\n",
       "      <td>86.92</td>\n",
       "      <td>221.0</td>\n",
       "      <td>float64</td>\n",
       "    </tr>\n",
       "    <tr>\n",
       "      <th>13</th>\n",
       "      <td>unique_appcode_cnt</td>\n",
       "      <td>237609.0</td>\n",
       "      <td>0.0</td>\n",
       "      <td>0.00</td>\n",
       "      <td>9.0</td>\n",
       "      <td>int64</td>\n",
       "    </tr>\n",
       "    <tr>\n",
       "      <th>14</th>\n",
       "      <td>imp_day</td>\n",
       "      <td>237609.0</td>\n",
       "      <td>0.0</td>\n",
       "      <td>0.00</td>\n",
       "      <td>29.0</td>\n",
       "      <td>int64</td>\n",
       "    </tr>\n",
       "    <tr>\n",
       "      <th>15</th>\n",
       "      <td>imp_week</td>\n",
       "      <td>237609.0</td>\n",
       "      <td>0.0</td>\n",
       "      <td>0.00</td>\n",
       "      <td>7.0</td>\n",
       "      <td>int64</td>\n",
       "    </tr>\n",
       "    <tr>\n",
       "      <th>16</th>\n",
       "      <td>imp_hour</td>\n",
       "      <td>237609.0</td>\n",
       "      <td>0.0</td>\n",
       "      <td>0.00</td>\n",
       "      <td>24.0</td>\n",
       "      <td>int64</td>\n",
       "    </tr>\n",
       "  </tbody>\n",
       "</table>\n",
       "</div>"
      ],
      "text/plain": [
       "                  name     count  missing_count  missing_perc  cardinality  \\\n",
       "0        impression_id  237609.0            0.0          0.00     237609.0   \n",
       "1      impression_time  237609.0            0.0          0.00      36461.0   \n",
       "2              user_id  237609.0            0.0          0.00      74723.0   \n",
       "3             app_code  237609.0            0.0          0.00        490.0   \n",
       "4           os_version  237609.0            0.0          0.00          3.0   \n",
       "5                is_4G  237609.0            0.0          0.00          2.0   \n",
       "6             is_click  237609.0            0.0          0.00          2.0   \n",
       "7                 tsli  162886.0        74723.0         31.45      18624.0   \n",
       "8                 tslc   31075.0       206534.0         86.92      15248.0   \n",
       "9               cnt_hi  237609.0            0.0          0.00         73.0   \n",
       "10              cnt_hc  237609.0            0.0          0.00         16.0   \n",
       "11    last_imp_appcode  162886.0        74723.0         31.45        395.0   \n",
       "12    last_clk_appcode   31075.0       206534.0         86.92        221.0   \n",
       "13  unique_appcode_cnt  237609.0            0.0          0.00          9.0   \n",
       "14             imp_day  237609.0            0.0          0.00         29.0   \n",
       "15            imp_week  237609.0            0.0          0.00          7.0   \n",
       "16            imp_hour  237609.0            0.0          0.00         24.0   \n",
       "\n",
       "             dtype  \n",
       "0           object  \n",
       "1   datetime64[ns]  \n",
       "2            int64  \n",
       "3            int64  \n",
       "4           object  \n",
       "5            int64  \n",
       "6            int64  \n",
       "7          float64  \n",
       "8          float64  \n",
       "9            int64  \n",
       "10           int64  \n",
       "11         float64  \n",
       "12         float64  \n",
       "13           int64  \n",
       "14           int64  \n",
       "15           int64  \n",
       "16           int64  "
      ]
     },
     "execution_count": 28,
     "metadata": {},
     "output_type": "execute_result"
    }
   ],
   "source": [
    "## Get the statistic summary for impr dataset\n",
    "\n",
    "get_df_summary(impr)"
   ]
  },
  {
   "cell_type": "code",
   "execution_count": 29,
   "metadata": {},
   "outputs": [],
   "source": [
    "# impr[impr['cnt_hc']==3]\n",
    "# impr[impr['user_id']==135]"
   ]
  },
  {
   "cell_type": "code",
   "execution_count": null,
   "metadata": {},
   "outputs": [],
   "source": []
  },
  {
   "cell_type": "code",
   "execution_count": 30,
   "metadata": {},
   "outputs": [],
   "source": [
    "# to fix mismatch in tslc and last_clk_appcode\n",
    "# impr[(~impr['tslc'].isna()) & (impr['last_clk_appcode'].isna())]\n",
    "# impr[impr['user_id']==30522]"
   ]
  },
  {
   "cell_type": "code",
   "execution_count": 31,
   "metadata": {},
   "outputs": [],
   "source": [
    "# temp = impr.groupby('user_id').agg({'is_click':sum}).reset_index()\n",
    "# impr.is_click.sum(), temp.sort_values(by='is_click', ascending=False).head(1000)"
   ]
  },
  {
   "cell_type": "code",
   "execution_count": 32,
   "metadata": {},
   "outputs": [
    {
     "data": {
      "text/plain": [
       "(2373120.0, 0.0, 56760.0, 180562.3381997225, 312736.67253258365)"
      ]
     },
     "execution_count": 32,
     "metadata": {},
     "output_type": "execute_result"
    }
   ],
   "source": [
    "##  Find Max,Min,Median,Mean and Std for tsli variable\n",
    "\n",
    "impr.tsli.max(), impr.tsli.min(), impr.tsli.median(), impr.tsli.mean(), impr.tsli.std()"
   ]
  },
  {
   "cell_type": "code",
   "execution_count": 33,
   "metadata": {},
   "outputs": [
    {
     "data": {
      "text/html": [
       "<div>\n",
       "<style scoped>\n",
       "    .dataframe tbody tr th:only-of-type {\n",
       "        vertical-align: middle;\n",
       "    }\n",
       "\n",
       "    .dataframe tbody tr th {\n",
       "        vertical-align: top;\n",
       "    }\n",
       "\n",
       "    .dataframe thead th {\n",
       "        text-align: right;\n",
       "    }\n",
       "</style>\n",
       "<table border=\"1\" class=\"dataframe\">\n",
       "  <thead>\n",
       "    <tr style=\"text-align: right;\">\n",
       "      <th></th>\n",
       "      <th>impression_id</th>\n",
       "      <th>impression_time</th>\n",
       "      <th>user_id</th>\n",
       "      <th>app_code</th>\n",
       "      <th>os_version</th>\n",
       "      <th>is_4G</th>\n",
       "      <th>is_click</th>\n",
       "      <th>tsli</th>\n",
       "      <th>tslc</th>\n",
       "      <th>cnt_hi</th>\n",
       "      <th>cnt_hc</th>\n",
       "      <th>last_imp_appcode</th>\n",
       "      <th>last_clk_appcode</th>\n",
       "      <th>unique_appcode_cnt</th>\n",
       "      <th>imp_day</th>\n",
       "      <th>imp_week</th>\n",
       "      <th>imp_hour</th>\n",
       "    </tr>\n",
       "  </thead>\n",
       "  <tbody>\n",
       "    <tr>\n",
       "      <th>0</th>\n",
       "      <td>5f98c2c31a8006e510448c02ec74d50f</td>\n",
       "      <td>2018-11-26 23:30:00</td>\n",
       "      <td>0</td>\n",
       "      <td>207</td>\n",
       "      <td>old</td>\n",
       "      <td>0</td>\n",
       "      <td>0</td>\n",
       "      <td>NaN</td>\n",
       "      <td>NaN</td>\n",
       "      <td>0</td>\n",
       "      <td>0</td>\n",
       "      <td>NaN</td>\n",
       "      <td>NaN</td>\n",
       "      <td>1</td>\n",
       "      <td>26</td>\n",
       "      <td>0</td>\n",
       "      <td>23</td>\n",
       "    </tr>\n",
       "    <tr>\n",
       "      <th>1</th>\n",
       "      <td>2b12c0d47f5821a5adb3bfd973d0f708</td>\n",
       "      <td>2018-11-19 20:49:00</td>\n",
       "      <td>2</td>\n",
       "      <td>190</td>\n",
       "      <td>intermediate</td>\n",
       "      <td>0</td>\n",
       "      <td>0</td>\n",
       "      <td>NaN</td>\n",
       "      <td>NaN</td>\n",
       "      <td>0</td>\n",
       "      <td>0</td>\n",
       "      <td>NaN</td>\n",
       "      <td>NaN</td>\n",
       "      <td>1</td>\n",
       "      <td>19</td>\n",
       "      <td>0</td>\n",
       "      <td>20</td>\n",
       "    </tr>\n",
       "    <tr>\n",
       "      <th>2</th>\n",
       "      <td>f85e4bf0e34f3ee66add56229845e4db</td>\n",
       "      <td>2018-11-20 20:29:00</td>\n",
       "      <td>2</td>\n",
       "      <td>190</td>\n",
       "      <td>intermediate</td>\n",
       "      <td>0</td>\n",
       "      <td>0</td>\n",
       "      <td>85200.0</td>\n",
       "      <td>NaN</td>\n",
       "      <td>1</td>\n",
       "      <td>0</td>\n",
       "      <td>190.0</td>\n",
       "      <td>NaN</td>\n",
       "      <td>1</td>\n",
       "      <td>20</td>\n",
       "      <td>1</td>\n",
       "      <td>20</td>\n",
       "    </tr>\n",
       "    <tr>\n",
       "      <th>3</th>\n",
       "      <td>010ed37e44e2fdc175b4c5c6c930805a</td>\n",
       "      <td>2018-11-20 20:53:00</td>\n",
       "      <td>2</td>\n",
       "      <td>190</td>\n",
       "      <td>intermediate</td>\n",
       "      <td>0</td>\n",
       "      <td>0</td>\n",
       "      <td>1440.0</td>\n",
       "      <td>NaN</td>\n",
       "      <td>2</td>\n",
       "      <td>0</td>\n",
       "      <td>190.0</td>\n",
       "      <td>NaN</td>\n",
       "      <td>1</td>\n",
       "      <td>20</td>\n",
       "      <td>1</td>\n",
       "      <td>20</td>\n",
       "    </tr>\n",
       "    <tr>\n",
       "      <th>4</th>\n",
       "      <td>577c63f9937fa0e8d4650ddf1510a03f</td>\n",
       "      <td>2018-11-21 21:47:00</td>\n",
       "      <td>2</td>\n",
       "      <td>190</td>\n",
       "      <td>intermediate</td>\n",
       "      <td>0</td>\n",
       "      <td>0</td>\n",
       "      <td>89640.0</td>\n",
       "      <td>NaN</td>\n",
       "      <td>3</td>\n",
       "      <td>0</td>\n",
       "      <td>190.0</td>\n",
       "      <td>NaN</td>\n",
       "      <td>1</td>\n",
       "      <td>21</td>\n",
       "      <td>2</td>\n",
       "      <td>21</td>\n",
       "    </tr>\n",
       "    <tr>\n",
       "      <th>...</th>\n",
       "      <td>...</td>\n",
       "      <td>...</td>\n",
       "      <td>...</td>\n",
       "      <td>...</td>\n",
       "      <td>...</td>\n",
       "      <td>...</td>\n",
       "      <td>...</td>\n",
       "      <td>...</td>\n",
       "      <td>...</td>\n",
       "      <td>...</td>\n",
       "      <td>...</td>\n",
       "      <td>...</td>\n",
       "      <td>...</td>\n",
       "      <td>...</td>\n",
       "      <td>...</td>\n",
       "      <td>...</td>\n",
       "      <td>...</td>\n",
       "    </tr>\n",
       "    <tr>\n",
       "      <th>237604</th>\n",
       "      <td>cf34ea8f2355f9f3f33c5a6ce1453dcc</td>\n",
       "      <td>2018-12-02 19:00:00</td>\n",
       "      <td>92583</td>\n",
       "      <td>407</td>\n",
       "      <td>latest</td>\n",
       "      <td>1</td>\n",
       "      <td>0</td>\n",
       "      <td>240.0</td>\n",
       "      <td>NaN</td>\n",
       "      <td>1</td>\n",
       "      <td>0</td>\n",
       "      <td>407.0</td>\n",
       "      <td>NaN</td>\n",
       "      <td>1</td>\n",
       "      <td>2</td>\n",
       "      <td>6</td>\n",
       "      <td>19</td>\n",
       "    </tr>\n",
       "    <tr>\n",
       "      <th>237605</th>\n",
       "      <td>45f849f13e9103e5215941226d5fc2d7</td>\n",
       "      <td>2018-12-10 21:41:00</td>\n",
       "      <td>92585</td>\n",
       "      <td>386</td>\n",
       "      <td>intermediate</td>\n",
       "      <td>0</td>\n",
       "      <td>0</td>\n",
       "      <td>NaN</td>\n",
       "      <td>NaN</td>\n",
       "      <td>0</td>\n",
       "      <td>0</td>\n",
       "      <td>NaN</td>\n",
       "      <td>NaN</td>\n",
       "      <td>1</td>\n",
       "      <td>10</td>\n",
       "      <td>0</td>\n",
       "      <td>21</td>\n",
       "    </tr>\n",
       "    <tr>\n",
       "      <th>237606</th>\n",
       "      <td>c0932ce334136e34b5a9a1c57bb611e3</td>\n",
       "      <td>2018-12-05 23:17:00</td>\n",
       "      <td>92586</td>\n",
       "      <td>386</td>\n",
       "      <td>latest</td>\n",
       "      <td>1</td>\n",
       "      <td>0</td>\n",
       "      <td>NaN</td>\n",
       "      <td>NaN</td>\n",
       "      <td>0</td>\n",
       "      <td>0</td>\n",
       "      <td>NaN</td>\n",
       "      <td>NaN</td>\n",
       "      <td>1</td>\n",
       "      <td>5</td>\n",
       "      <td>2</td>\n",
       "      <td>23</td>\n",
       "    </tr>\n",
       "    <tr>\n",
       "      <th>237607</th>\n",
       "      <td>6035edcd398af41b455f203b53b48c61</td>\n",
       "      <td>2018-12-06 00:10:00</td>\n",
       "      <td>92586</td>\n",
       "      <td>386</td>\n",
       "      <td>latest</td>\n",
       "      <td>1</td>\n",
       "      <td>0</td>\n",
       "      <td>3180.0</td>\n",
       "      <td>NaN</td>\n",
       "      <td>1</td>\n",
       "      <td>0</td>\n",
       "      <td>386.0</td>\n",
       "      <td>NaN</td>\n",
       "      <td>1</td>\n",
       "      <td>6</td>\n",
       "      <td>3</td>\n",
       "      <td>0</td>\n",
       "    </tr>\n",
       "    <tr>\n",
       "      <th>237608</th>\n",
       "      <td>5944d1d10029104d27f320418d4b3ca9</td>\n",
       "      <td>2018-12-06 00:37:00</td>\n",
       "      <td>92586</td>\n",
       "      <td>386</td>\n",
       "      <td>latest</td>\n",
       "      <td>1</td>\n",
       "      <td>0</td>\n",
       "      <td>1620.0</td>\n",
       "      <td>NaN</td>\n",
       "      <td>2</td>\n",
       "      <td>0</td>\n",
       "      <td>386.0</td>\n",
       "      <td>NaN</td>\n",
       "      <td>1</td>\n",
       "      <td>6</td>\n",
       "      <td>3</td>\n",
       "      <td>0</td>\n",
       "    </tr>\n",
       "  </tbody>\n",
       "</table>\n",
       "<p>237609 rows × 17 columns</p>\n",
       "</div>"
      ],
      "text/plain": [
       "                           impression_id     impression_time  user_id  \\\n",
       "0       5f98c2c31a8006e510448c02ec74d50f 2018-11-26 23:30:00        0   \n",
       "1       2b12c0d47f5821a5adb3bfd973d0f708 2018-11-19 20:49:00        2   \n",
       "2       f85e4bf0e34f3ee66add56229845e4db 2018-11-20 20:29:00        2   \n",
       "3       010ed37e44e2fdc175b4c5c6c930805a 2018-11-20 20:53:00        2   \n",
       "4       577c63f9937fa0e8d4650ddf1510a03f 2018-11-21 21:47:00        2   \n",
       "...                                  ...                 ...      ...   \n",
       "237604  cf34ea8f2355f9f3f33c5a6ce1453dcc 2018-12-02 19:00:00    92583   \n",
       "237605  45f849f13e9103e5215941226d5fc2d7 2018-12-10 21:41:00    92585   \n",
       "237606  c0932ce334136e34b5a9a1c57bb611e3 2018-12-05 23:17:00    92586   \n",
       "237607  6035edcd398af41b455f203b53b48c61 2018-12-06 00:10:00    92586   \n",
       "237608  5944d1d10029104d27f320418d4b3ca9 2018-12-06 00:37:00    92586   \n",
       "\n",
       "        app_code    os_version  is_4G  is_click     tsli  tslc  cnt_hi  \\\n",
       "0            207           old      0         0      NaN   NaN       0   \n",
       "1            190  intermediate      0         0      NaN   NaN       0   \n",
       "2            190  intermediate      0         0  85200.0   NaN       1   \n",
       "3            190  intermediate      0         0   1440.0   NaN       2   \n",
       "4            190  intermediate      0         0  89640.0   NaN       3   \n",
       "...          ...           ...    ...       ...      ...   ...     ...   \n",
       "237604       407        latest      1         0    240.0   NaN       1   \n",
       "237605       386  intermediate      0         0      NaN   NaN       0   \n",
       "237606       386        latest      1         0      NaN   NaN       0   \n",
       "237607       386        latest      1         0   3180.0   NaN       1   \n",
       "237608       386        latest      1         0   1620.0   NaN       2   \n",
       "\n",
       "        cnt_hc  last_imp_appcode  last_clk_appcode  unique_appcode_cnt  \\\n",
       "0            0               NaN               NaN                   1   \n",
       "1            0               NaN               NaN                   1   \n",
       "2            0             190.0               NaN                   1   \n",
       "3            0             190.0               NaN                   1   \n",
       "4            0             190.0               NaN                   1   \n",
       "...        ...               ...               ...                 ...   \n",
       "237604       0             407.0               NaN                   1   \n",
       "237605       0               NaN               NaN                   1   \n",
       "237606       0               NaN               NaN                   1   \n",
       "237607       0             386.0               NaN                   1   \n",
       "237608       0             386.0               NaN                   1   \n",
       "\n",
       "        imp_day  imp_week  imp_hour  \n",
       "0            26         0        23  \n",
       "1            19         0        20  \n",
       "2            20         1        20  \n",
       "3            20         1        20  \n",
       "4            21         2        21  \n",
       "...         ...       ...       ...  \n",
       "237604        2         6        19  \n",
       "237605       10         0        21  \n",
       "237606        5         2        23  \n",
       "237607        6         3         0  \n",
       "237608        6         3         0  \n",
       "\n",
       "[237609 rows x 17 columns]"
      ]
     },
     "execution_count": 33,
     "metadata": {},
     "output_type": "execute_result"
    }
   ],
   "source": [
    "impr"
   ]
  },
  {
   "cell_type": "code",
   "execution_count": 34,
   "metadata": {},
   "outputs": [],
   "source": [
    "impr.to_csv(\"Impr.csv\",index=False)"
   ]
  },
  {
   "cell_type": "markdown",
   "metadata": {},
   "source": [
    "### Deriving log features"
   ]
  },
  {
   "cell_type": "code",
   "execution_count": 35,
   "metadata": {},
   "outputs": [
    {
     "data": {
      "text/html": [
       "<div>\n",
       "<style scoped>\n",
       "    .dataframe tbody tr th:only-of-type {\n",
       "        vertical-align: middle;\n",
       "    }\n",
       "\n",
       "    .dataframe tbody tr th {\n",
       "        vertical-align: top;\n",
       "    }\n",
       "\n",
       "    .dataframe thead th {\n",
       "        text-align: right;\n",
       "    }\n",
       "</style>\n",
       "<table border=\"1\" class=\"dataframe\">\n",
       "  <thead>\n",
       "    <tr style=\"text-align: right;\">\n",
       "      <th></th>\n",
       "      <th>server_time</th>\n",
       "      <th>device_type</th>\n",
       "      <th>session_id</th>\n",
       "      <th>user_id</th>\n",
       "      <th>item_id</th>\n",
       "      <th>item_price</th>\n",
       "      <th>category_1</th>\n",
       "      <th>category_2</th>\n",
       "      <th>category_3</th>\n",
       "      <th>product_type</th>\n",
       "    </tr>\n",
       "  </thead>\n",
       "  <tbody>\n",
       "    <tr>\n",
       "      <th>0</th>\n",
       "      <td>2018-10-18 14:27:00</td>\n",
       "      <td>android</td>\n",
       "      <td>268465</td>\n",
       "      <td>0</td>\n",
       "      <td>44459</td>\n",
       "      <td>3776.0</td>\n",
       "      <td>14.0</td>\n",
       "      <td>29.0</td>\n",
       "      <td>199.0</td>\n",
       "      <td>7363.0</td>\n",
       "    </tr>\n",
       "    <tr>\n",
       "      <th>1</th>\n",
       "      <td>2018-10-18 14:43:00</td>\n",
       "      <td>android</td>\n",
       "      <td>268465</td>\n",
       "      <td>0</td>\n",
       "      <td>44459</td>\n",
       "      <td>3776.0</td>\n",
       "      <td>14.0</td>\n",
       "      <td>29.0</td>\n",
       "      <td>199.0</td>\n",
       "      <td>7363.0</td>\n",
       "    </tr>\n",
       "    <tr>\n",
       "      <th>2</th>\n",
       "      <td>2018-10-18 14:46:00</td>\n",
       "      <td>android</td>\n",
       "      <td>268465</td>\n",
       "      <td>0</td>\n",
       "      <td>44459</td>\n",
       "      <td>3776.0</td>\n",
       "      <td>14.0</td>\n",
       "      <td>29.0</td>\n",
       "      <td>199.0</td>\n",
       "      <td>7363.0</td>\n",
       "    </tr>\n",
       "    <tr>\n",
       "      <th>3</th>\n",
       "      <td>2018-10-18 14:47:00</td>\n",
       "      <td>android</td>\n",
       "      <td>268465</td>\n",
       "      <td>0</td>\n",
       "      <td>44459</td>\n",
       "      <td>3776.0</td>\n",
       "      <td>14.0</td>\n",
       "      <td>29.0</td>\n",
       "      <td>199.0</td>\n",
       "      <td>7363.0</td>\n",
       "    </tr>\n",
       "    <tr>\n",
       "      <th>4</th>\n",
       "      <td>2018-10-22 09:48:00</td>\n",
       "      <td>android</td>\n",
       "      <td>295495</td>\n",
       "      <td>0</td>\n",
       "      <td>40228</td>\n",
       "      <td>332.0</td>\n",
       "      <td>7.0</td>\n",
       "      <td>24.0</td>\n",
       "      <td>126.0</td>\n",
       "      <td>8351.0</td>\n",
       "    </tr>\n",
       "  </tbody>\n",
       "</table>\n",
       "</div>"
      ],
      "text/plain": [
       "          server_time device_type  session_id  user_id  item_id  item_price  \\\n",
       "0 2018-10-18 14:27:00     android      268465        0    44459      3776.0   \n",
       "1 2018-10-18 14:43:00     android      268465        0    44459      3776.0   \n",
       "2 2018-10-18 14:46:00     android      268465        0    44459      3776.0   \n",
       "3 2018-10-18 14:47:00     android      268465        0    44459      3776.0   \n",
       "4 2018-10-22 09:48:00     android      295495        0    40228       332.0   \n",
       "\n",
       "   category_1  category_2  category_3  product_type  \n",
       "0        14.0        29.0       199.0        7363.0  \n",
       "1        14.0        29.0       199.0        7363.0  \n",
       "2        14.0        29.0       199.0        7363.0  \n",
       "3        14.0        29.0       199.0        7363.0  \n",
       "4         7.0        24.0       126.0        8351.0  "
      ]
     },
     "execution_count": 35,
     "metadata": {},
     "output_type": "execute_result"
    }
   ],
   "source": [
    "logs.sort_values(by=['user_id', 'server_time'], ignore_index=True, inplace=True)\n",
    "logs.head()"
   ]
  },
  {
   "cell_type": "code",
   "execution_count": 36,
   "metadata": {},
   "outputs": [
    {
     "data": {
      "text/html": [
       "<div>\n",
       "<style scoped>\n",
       "    .dataframe tbody tr th:only-of-type {\n",
       "        vertical-align: middle;\n",
       "    }\n",
       "\n",
       "    .dataframe tbody tr th {\n",
       "        vertical-align: top;\n",
       "    }\n",
       "\n",
       "    .dataframe thead th {\n",
       "        text-align: right;\n",
       "    }\n",
       "</style>\n",
       "<table border=\"1\" class=\"dataframe\">\n",
       "  <thead>\n",
       "    <tr style=\"text-align: right;\">\n",
       "      <th></th>\n",
       "      <th>name</th>\n",
       "      <th>count</th>\n",
       "      <th>missing_count</th>\n",
       "      <th>missing_perc</th>\n",
       "      <th>cardinality</th>\n",
       "      <th>dtype</th>\n",
       "    </tr>\n",
       "  </thead>\n",
       "  <tbody>\n",
       "    <tr>\n",
       "      <th>0</th>\n",
       "      <td>server_time</td>\n",
       "      <td>3017496.0</td>\n",
       "      <td>0.0</td>\n",
       "      <td>0.00</td>\n",
       "      <td>82840.0</td>\n",
       "      <td>datetime64[ns]</td>\n",
       "    </tr>\n",
       "    <tr>\n",
       "      <th>1</th>\n",
       "      <td>device_type</td>\n",
       "      <td>3017496.0</td>\n",
       "      <td>0.0</td>\n",
       "      <td>0.00</td>\n",
       "      <td>3.0</td>\n",
       "      <td>object</td>\n",
       "    </tr>\n",
       "    <tr>\n",
       "      <th>2</th>\n",
       "      <td>session_id</td>\n",
       "      <td>3017496.0</td>\n",
       "      <td>0.0</td>\n",
       "      <td>0.00</td>\n",
       "      <td>1014970.0</td>\n",
       "      <td>int64</td>\n",
       "    </tr>\n",
       "    <tr>\n",
       "      <th>3</th>\n",
       "      <td>user_id</td>\n",
       "      <td>3017496.0</td>\n",
       "      <td>0.0</td>\n",
       "      <td>0.00</td>\n",
       "      <td>89157.0</td>\n",
       "      <td>int64</td>\n",
       "    </tr>\n",
       "    <tr>\n",
       "      <th>4</th>\n",
       "      <td>item_id</td>\n",
       "      <td>3017496.0</td>\n",
       "      <td>0.0</td>\n",
       "      <td>0.00</td>\n",
       "      <td>126708.0</td>\n",
       "      <td>int64</td>\n",
       "    </tr>\n",
       "    <tr>\n",
       "      <th>5</th>\n",
       "      <td>item_price</td>\n",
       "      <td>3015746.0</td>\n",
       "      <td>1750.0</td>\n",
       "      <td>0.06</td>\n",
       "      <td>13207.0</td>\n",
       "      <td>float64</td>\n",
       "    </tr>\n",
       "    <tr>\n",
       "      <th>6</th>\n",
       "      <td>category_1</td>\n",
       "      <td>3015746.0</td>\n",
       "      <td>1750.0</td>\n",
       "      <td>0.06</td>\n",
       "      <td>17.0</td>\n",
       "      <td>float64</td>\n",
       "    </tr>\n",
       "    <tr>\n",
       "      <th>7</th>\n",
       "      <td>category_2</td>\n",
       "      <td>3015746.0</td>\n",
       "      <td>1750.0</td>\n",
       "      <td>0.06</td>\n",
       "      <td>79.0</td>\n",
       "      <td>float64</td>\n",
       "    </tr>\n",
       "    <tr>\n",
       "      <th>8</th>\n",
       "      <td>category_3</td>\n",
       "      <td>3015746.0</td>\n",
       "      <td>1750.0</td>\n",
       "      <td>0.06</td>\n",
       "      <td>335.0</td>\n",
       "      <td>float64</td>\n",
       "    </tr>\n",
       "    <tr>\n",
       "      <th>9</th>\n",
       "      <td>product_type</td>\n",
       "      <td>3015746.0</td>\n",
       "      <td>1750.0</td>\n",
       "      <td>0.06</td>\n",
       "      <td>7846.0</td>\n",
       "      <td>float64</td>\n",
       "    </tr>\n",
       "  </tbody>\n",
       "</table>\n",
       "</div>"
      ],
      "text/plain": [
       "           name      count  missing_count  missing_perc  cardinality  \\\n",
       "0   server_time  3017496.0            0.0          0.00      82840.0   \n",
       "1   device_type  3017496.0            0.0          0.00          3.0   \n",
       "2    session_id  3017496.0            0.0          0.00    1014970.0   \n",
       "3       user_id  3017496.0            0.0          0.00      89157.0   \n",
       "4       item_id  3017496.0            0.0          0.00     126708.0   \n",
       "5    item_price  3015746.0         1750.0          0.06      13207.0   \n",
       "6    category_1  3015746.0         1750.0          0.06         17.0   \n",
       "7    category_2  3015746.0         1750.0          0.06         79.0   \n",
       "8    category_3  3015746.0         1750.0          0.06        335.0   \n",
       "9  product_type  3015746.0         1750.0          0.06       7846.0   \n",
       "\n",
       "            dtype  \n",
       "0  datetime64[ns]  \n",
       "1          object  \n",
       "2           int64  \n",
       "3           int64  \n",
       "4           int64  \n",
       "5         float64  \n",
       "6         float64  \n",
       "7         float64  \n",
       "8         float64  \n",
       "9         float64  "
      ]
     },
     "execution_count": 36,
     "metadata": {},
     "output_type": "execute_result"
    }
   ],
   "source": [
    "## Summary of logs data set\n",
    "\n",
    "get_df_summary(logs)"
   ]
  },
  {
   "cell_type": "code",
   "execution_count": 37,
   "metadata": {},
   "outputs": [
    {
     "data": {
      "text/html": [
       "<div>\n",
       "<style scoped>\n",
       "    .dataframe tbody tr th:only-of-type {\n",
       "        vertical-align: middle;\n",
       "    }\n",
       "\n",
       "    .dataframe tbody tr th {\n",
       "        vertical-align: top;\n",
       "    }\n",
       "\n",
       "    .dataframe thead th {\n",
       "        text-align: right;\n",
       "    }\n",
       "</style>\n",
       "<table border=\"1\" class=\"dataframe\">\n",
       "  <thead>\n",
       "    <tr style=\"text-align: right;\">\n",
       "      <th></th>\n",
       "      <th>name</th>\n",
       "      <th>count</th>\n",
       "      <th>missing_count</th>\n",
       "      <th>missing_perc</th>\n",
       "      <th>cardinality</th>\n",
       "      <th>dtype</th>\n",
       "    </tr>\n",
       "  </thead>\n",
       "  <tbody>\n",
       "    <tr>\n",
       "      <th>0</th>\n",
       "      <td>impression_id</td>\n",
       "      <td>237609.0</td>\n",
       "      <td>0.0</td>\n",
       "      <td>0.00</td>\n",
       "      <td>237609.0</td>\n",
       "      <td>object</td>\n",
       "    </tr>\n",
       "    <tr>\n",
       "      <th>1</th>\n",
       "      <td>impression_time</td>\n",
       "      <td>237609.0</td>\n",
       "      <td>0.0</td>\n",
       "      <td>0.00</td>\n",
       "      <td>36461.0</td>\n",
       "      <td>datetime64[ns]</td>\n",
       "    </tr>\n",
       "    <tr>\n",
       "      <th>2</th>\n",
       "      <td>user_id</td>\n",
       "      <td>237609.0</td>\n",
       "      <td>0.0</td>\n",
       "      <td>0.00</td>\n",
       "      <td>74723.0</td>\n",
       "      <td>int64</td>\n",
       "    </tr>\n",
       "    <tr>\n",
       "      <th>3</th>\n",
       "      <td>app_code</td>\n",
       "      <td>237609.0</td>\n",
       "      <td>0.0</td>\n",
       "      <td>0.00</td>\n",
       "      <td>490.0</td>\n",
       "      <td>int64</td>\n",
       "    </tr>\n",
       "    <tr>\n",
       "      <th>4</th>\n",
       "      <td>os_version</td>\n",
       "      <td>237609.0</td>\n",
       "      <td>0.0</td>\n",
       "      <td>0.00</td>\n",
       "      <td>3.0</td>\n",
       "      <td>object</td>\n",
       "    </tr>\n",
       "    <tr>\n",
       "      <th>5</th>\n",
       "      <td>is_4G</td>\n",
       "      <td>237609.0</td>\n",
       "      <td>0.0</td>\n",
       "      <td>0.00</td>\n",
       "      <td>2.0</td>\n",
       "      <td>int64</td>\n",
       "    </tr>\n",
       "    <tr>\n",
       "      <th>6</th>\n",
       "      <td>is_click</td>\n",
       "      <td>237609.0</td>\n",
       "      <td>0.0</td>\n",
       "      <td>0.00</td>\n",
       "      <td>2.0</td>\n",
       "      <td>int64</td>\n",
       "    </tr>\n",
       "    <tr>\n",
       "      <th>7</th>\n",
       "      <td>tsli</td>\n",
       "      <td>162886.0</td>\n",
       "      <td>74723.0</td>\n",
       "      <td>31.45</td>\n",
       "      <td>18624.0</td>\n",
       "      <td>float64</td>\n",
       "    </tr>\n",
       "    <tr>\n",
       "      <th>8</th>\n",
       "      <td>tslc</td>\n",
       "      <td>31075.0</td>\n",
       "      <td>206534.0</td>\n",
       "      <td>86.92</td>\n",
       "      <td>15248.0</td>\n",
       "      <td>float64</td>\n",
       "    </tr>\n",
       "    <tr>\n",
       "      <th>9</th>\n",
       "      <td>cnt_hi</td>\n",
       "      <td>237609.0</td>\n",
       "      <td>0.0</td>\n",
       "      <td>0.00</td>\n",
       "      <td>73.0</td>\n",
       "      <td>int64</td>\n",
       "    </tr>\n",
       "    <tr>\n",
       "      <th>10</th>\n",
       "      <td>cnt_hc</td>\n",
       "      <td>237609.0</td>\n",
       "      <td>0.0</td>\n",
       "      <td>0.00</td>\n",
       "      <td>16.0</td>\n",
       "      <td>int64</td>\n",
       "    </tr>\n",
       "    <tr>\n",
       "      <th>11</th>\n",
       "      <td>last_imp_appcode</td>\n",
       "      <td>162886.0</td>\n",
       "      <td>74723.0</td>\n",
       "      <td>31.45</td>\n",
       "      <td>395.0</td>\n",
       "      <td>float64</td>\n",
       "    </tr>\n",
       "    <tr>\n",
       "      <th>12</th>\n",
       "      <td>last_clk_appcode</td>\n",
       "      <td>31075.0</td>\n",
       "      <td>206534.0</td>\n",
       "      <td>86.92</td>\n",
       "      <td>221.0</td>\n",
       "      <td>float64</td>\n",
       "    </tr>\n",
       "    <tr>\n",
       "      <th>13</th>\n",
       "      <td>unique_appcode_cnt</td>\n",
       "      <td>237609.0</td>\n",
       "      <td>0.0</td>\n",
       "      <td>0.00</td>\n",
       "      <td>9.0</td>\n",
       "      <td>int64</td>\n",
       "    </tr>\n",
       "    <tr>\n",
       "      <th>14</th>\n",
       "      <td>imp_day</td>\n",
       "      <td>237609.0</td>\n",
       "      <td>0.0</td>\n",
       "      <td>0.00</td>\n",
       "      <td>29.0</td>\n",
       "      <td>int64</td>\n",
       "    </tr>\n",
       "    <tr>\n",
       "      <th>15</th>\n",
       "      <td>imp_week</td>\n",
       "      <td>237609.0</td>\n",
       "      <td>0.0</td>\n",
       "      <td>0.00</td>\n",
       "      <td>7.0</td>\n",
       "      <td>int64</td>\n",
       "    </tr>\n",
       "    <tr>\n",
       "      <th>16</th>\n",
       "      <td>imp_hour</td>\n",
       "      <td>237609.0</td>\n",
       "      <td>0.0</td>\n",
       "      <td>0.00</td>\n",
       "      <td>24.0</td>\n",
       "      <td>int64</td>\n",
       "    </tr>\n",
       "  </tbody>\n",
       "</table>\n",
       "</div>"
      ],
      "text/plain": [
       "                  name     count  missing_count  missing_perc  cardinality  \\\n",
       "0        impression_id  237609.0            0.0          0.00     237609.0   \n",
       "1      impression_time  237609.0            0.0          0.00      36461.0   \n",
       "2              user_id  237609.0            0.0          0.00      74723.0   \n",
       "3             app_code  237609.0            0.0          0.00        490.0   \n",
       "4           os_version  237609.0            0.0          0.00          3.0   \n",
       "5                is_4G  237609.0            0.0          0.00          2.0   \n",
       "6             is_click  237609.0            0.0          0.00          2.0   \n",
       "7                 tsli  162886.0        74723.0         31.45      18624.0   \n",
       "8                 tslc   31075.0       206534.0         86.92      15248.0   \n",
       "9               cnt_hi  237609.0            0.0          0.00         73.0   \n",
       "10              cnt_hc  237609.0            0.0          0.00         16.0   \n",
       "11    last_imp_appcode  162886.0        74723.0         31.45        395.0   \n",
       "12    last_clk_appcode   31075.0       206534.0         86.92        221.0   \n",
       "13  unique_appcode_cnt  237609.0            0.0          0.00          9.0   \n",
       "14             imp_day  237609.0            0.0          0.00         29.0   \n",
       "15            imp_week  237609.0            0.0          0.00          7.0   \n",
       "16            imp_hour  237609.0            0.0          0.00         24.0   \n",
       "\n",
       "             dtype  \n",
       "0           object  \n",
       "1   datetime64[ns]  \n",
       "2            int64  \n",
       "3            int64  \n",
       "4           object  \n",
       "5            int64  \n",
       "6            int64  \n",
       "7          float64  \n",
       "8          float64  \n",
       "9            int64  \n",
       "10           int64  \n",
       "11         float64  \n",
       "12         float64  \n",
       "13           int64  \n",
       "14           int64  \n",
       "15           int64  \n",
       "16           int64  "
      ]
     },
     "execution_count": 37,
     "metadata": {},
     "output_type": "execute_result"
    }
   ],
   "source": [
    "get_df_summary(impr)"
   ]
  },
  {
   "cell_type": "code",
   "execution_count": 38,
   "metadata": {},
   "outputs": [],
   "source": [
    "# fill missing values\n",
    "logs['item_price'].fillna(logs['item_price'].mean(), inplace=True)\n",
    "logs['category_1'] = logs['category_1'].fillna('NA').astype(str)\n",
    "logs['category_2'] = logs['category_2'].fillna('NA').astype(str)\n",
    "logs['category_3'] = logs['category_3'].fillna('NA').astype(str)\n",
    "logs['product_type'] = logs['product_type'].fillna('NA').astype(str)"
   ]
  },
  {
   "cell_type": "code",
   "execution_count": 39,
   "metadata": {},
   "outputs": [
    {
     "data": {
      "text/html": [
       "<div>\n",
       "<style scoped>\n",
       "    .dataframe tbody tr th:only-of-type {\n",
       "        vertical-align: middle;\n",
       "    }\n",
       "\n",
       "    .dataframe tbody tr th {\n",
       "        vertical-align: top;\n",
       "    }\n",
       "\n",
       "    .dataframe thead th {\n",
       "        text-align: right;\n",
       "    }\n",
       "</style>\n",
       "<table border=\"1\" class=\"dataframe\">\n",
       "  <thead>\n",
       "    <tr style=\"text-align: right;\">\n",
       "      <th></th>\n",
       "      <th>name</th>\n",
       "      <th>count</th>\n",
       "      <th>missing_count</th>\n",
       "      <th>missing_perc</th>\n",
       "      <th>cardinality</th>\n",
       "      <th>dtype</th>\n",
       "    </tr>\n",
       "  </thead>\n",
       "  <tbody>\n",
       "    <tr>\n",
       "      <th>0</th>\n",
       "      <td>server_time</td>\n",
       "      <td>3017496.0</td>\n",
       "      <td>0.0</td>\n",
       "      <td>0.0</td>\n",
       "      <td>82840.0</td>\n",
       "      <td>datetime64[ns]</td>\n",
       "    </tr>\n",
       "    <tr>\n",
       "      <th>1</th>\n",
       "      <td>device_type</td>\n",
       "      <td>3017496.0</td>\n",
       "      <td>0.0</td>\n",
       "      <td>0.0</td>\n",
       "      <td>3.0</td>\n",
       "      <td>object</td>\n",
       "    </tr>\n",
       "    <tr>\n",
       "      <th>2</th>\n",
       "      <td>session_id</td>\n",
       "      <td>3017496.0</td>\n",
       "      <td>0.0</td>\n",
       "      <td>0.0</td>\n",
       "      <td>1014970.0</td>\n",
       "      <td>int64</td>\n",
       "    </tr>\n",
       "    <tr>\n",
       "      <th>3</th>\n",
       "      <td>user_id</td>\n",
       "      <td>3017496.0</td>\n",
       "      <td>0.0</td>\n",
       "      <td>0.0</td>\n",
       "      <td>89157.0</td>\n",
       "      <td>int64</td>\n",
       "    </tr>\n",
       "    <tr>\n",
       "      <th>4</th>\n",
       "      <td>item_id</td>\n",
       "      <td>3017496.0</td>\n",
       "      <td>0.0</td>\n",
       "      <td>0.0</td>\n",
       "      <td>126708.0</td>\n",
       "      <td>int64</td>\n",
       "    </tr>\n",
       "    <tr>\n",
       "      <th>5</th>\n",
       "      <td>item_price</td>\n",
       "      <td>3017496.0</td>\n",
       "      <td>0.0</td>\n",
       "      <td>0.0</td>\n",
       "      <td>13208.0</td>\n",
       "      <td>float64</td>\n",
       "    </tr>\n",
       "    <tr>\n",
       "      <th>6</th>\n",
       "      <td>category_1</td>\n",
       "      <td>3017496.0</td>\n",
       "      <td>0.0</td>\n",
       "      <td>0.0</td>\n",
       "      <td>18.0</td>\n",
       "      <td>object</td>\n",
       "    </tr>\n",
       "    <tr>\n",
       "      <th>7</th>\n",
       "      <td>category_2</td>\n",
       "      <td>3017496.0</td>\n",
       "      <td>0.0</td>\n",
       "      <td>0.0</td>\n",
       "      <td>80.0</td>\n",
       "      <td>object</td>\n",
       "    </tr>\n",
       "    <tr>\n",
       "      <th>8</th>\n",
       "      <td>category_3</td>\n",
       "      <td>3017496.0</td>\n",
       "      <td>0.0</td>\n",
       "      <td>0.0</td>\n",
       "      <td>336.0</td>\n",
       "      <td>object</td>\n",
       "    </tr>\n",
       "    <tr>\n",
       "      <th>9</th>\n",
       "      <td>product_type</td>\n",
       "      <td>3017496.0</td>\n",
       "      <td>0.0</td>\n",
       "      <td>0.0</td>\n",
       "      <td>7847.0</td>\n",
       "      <td>object</td>\n",
       "    </tr>\n",
       "  </tbody>\n",
       "</table>\n",
       "</div>"
      ],
      "text/plain": [
       "           name      count  missing_count  missing_perc  cardinality  \\\n",
       "0   server_time  3017496.0            0.0           0.0      82840.0   \n",
       "1   device_type  3017496.0            0.0           0.0          3.0   \n",
       "2    session_id  3017496.0            0.0           0.0    1014970.0   \n",
       "3       user_id  3017496.0            0.0           0.0      89157.0   \n",
       "4       item_id  3017496.0            0.0           0.0     126708.0   \n",
       "5    item_price  3017496.0            0.0           0.0      13208.0   \n",
       "6    category_1  3017496.0            0.0           0.0         18.0   \n",
       "7    category_2  3017496.0            0.0           0.0         80.0   \n",
       "8    category_3  3017496.0            0.0           0.0        336.0   \n",
       "9  product_type  3017496.0            0.0           0.0       7847.0   \n",
       "\n",
       "            dtype  \n",
       "0  datetime64[ns]  \n",
       "1          object  \n",
       "2           int64  \n",
       "3           int64  \n",
       "4           int64  \n",
       "5         float64  \n",
       "6          object  \n",
       "7          object  \n",
       "8          object  \n",
       "9          object  "
      ]
     },
     "execution_count": 39,
     "metadata": {},
     "output_type": "execute_result"
    }
   ],
   "source": [
    "get_df_summary(logs)"
   ]
  },
  {
   "cell_type": "code",
   "execution_count": 40,
   "metadata": {},
   "outputs": [
    {
     "data": {
      "text/html": [
       "<div>\n",
       "<style scoped>\n",
       "    .dataframe tbody tr th:only-of-type {\n",
       "        vertical-align: middle;\n",
       "    }\n",
       "\n",
       "    .dataframe tbody tr th {\n",
       "        vertical-align: top;\n",
       "    }\n",
       "\n",
       "    .dataframe thead th {\n",
       "        text-align: right;\n",
       "    }\n",
       "</style>\n",
       "<table border=\"1\" class=\"dataframe\">\n",
       "  <thead>\n",
       "    <tr style=\"text-align: right;\">\n",
       "      <th></th>\n",
       "      <th>impression_id</th>\n",
       "      <th>impression_time</th>\n",
       "      <th>user_id</th>\n",
       "      <th>app_code</th>\n",
       "      <th>os_version</th>\n",
       "      <th>is_4G</th>\n",
       "      <th>is_click</th>\n",
       "      <th>tsli</th>\n",
       "      <th>tslc</th>\n",
       "      <th>cnt_hi</th>\n",
       "      <th>cnt_hc</th>\n",
       "      <th>last_imp_appcode</th>\n",
       "      <th>last_clk_appcode</th>\n",
       "      <th>unique_appcode_cnt</th>\n",
       "      <th>imp_day</th>\n",
       "      <th>imp_week</th>\n",
       "      <th>imp_hour</th>\n",
       "    </tr>\n",
       "  </thead>\n",
       "  <tbody>\n",
       "    <tr>\n",
       "      <th>0</th>\n",
       "      <td>5f98c2c31a8006e510448c02ec74d50f</td>\n",
       "      <td>2018-11-26 23:30:00</td>\n",
       "      <td>0</td>\n",
       "      <td>207</td>\n",
       "      <td>old</td>\n",
       "      <td>0</td>\n",
       "      <td>0</td>\n",
       "      <td>NaN</td>\n",
       "      <td>NaN</td>\n",
       "      <td>0</td>\n",
       "      <td>0</td>\n",
       "      <td>NaN</td>\n",
       "      <td>NaN</td>\n",
       "      <td>1</td>\n",
       "      <td>26</td>\n",
       "      <td>0</td>\n",
       "      <td>23</td>\n",
       "    </tr>\n",
       "    <tr>\n",
       "      <th>1</th>\n",
       "      <td>2b12c0d47f5821a5adb3bfd973d0f708</td>\n",
       "      <td>2018-11-19 20:49:00</td>\n",
       "      <td>2</td>\n",
       "      <td>190</td>\n",
       "      <td>intermediate</td>\n",
       "      <td>0</td>\n",
       "      <td>0</td>\n",
       "      <td>NaN</td>\n",
       "      <td>NaN</td>\n",
       "      <td>0</td>\n",
       "      <td>0</td>\n",
       "      <td>NaN</td>\n",
       "      <td>NaN</td>\n",
       "      <td>1</td>\n",
       "      <td>19</td>\n",
       "      <td>0</td>\n",
       "      <td>20</td>\n",
       "    </tr>\n",
       "    <tr>\n",
       "      <th>2</th>\n",
       "      <td>f85e4bf0e34f3ee66add56229845e4db</td>\n",
       "      <td>2018-11-20 20:29:00</td>\n",
       "      <td>2</td>\n",
       "      <td>190</td>\n",
       "      <td>intermediate</td>\n",
       "      <td>0</td>\n",
       "      <td>0</td>\n",
       "      <td>85200.0</td>\n",
       "      <td>NaN</td>\n",
       "      <td>1</td>\n",
       "      <td>0</td>\n",
       "      <td>190.0</td>\n",
       "      <td>NaN</td>\n",
       "      <td>1</td>\n",
       "      <td>20</td>\n",
       "      <td>1</td>\n",
       "      <td>20</td>\n",
       "    </tr>\n",
       "    <tr>\n",
       "      <th>3</th>\n",
       "      <td>010ed37e44e2fdc175b4c5c6c930805a</td>\n",
       "      <td>2018-11-20 20:53:00</td>\n",
       "      <td>2</td>\n",
       "      <td>190</td>\n",
       "      <td>intermediate</td>\n",
       "      <td>0</td>\n",
       "      <td>0</td>\n",
       "      <td>1440.0</td>\n",
       "      <td>NaN</td>\n",
       "      <td>2</td>\n",
       "      <td>0</td>\n",
       "      <td>190.0</td>\n",
       "      <td>NaN</td>\n",
       "      <td>1</td>\n",
       "      <td>20</td>\n",
       "      <td>1</td>\n",
       "      <td>20</td>\n",
       "    </tr>\n",
       "    <tr>\n",
       "      <th>4</th>\n",
       "      <td>577c63f9937fa0e8d4650ddf1510a03f</td>\n",
       "      <td>2018-11-21 21:47:00</td>\n",
       "      <td>2</td>\n",
       "      <td>190</td>\n",
       "      <td>intermediate</td>\n",
       "      <td>0</td>\n",
       "      <td>0</td>\n",
       "      <td>89640.0</td>\n",
       "      <td>NaN</td>\n",
       "      <td>3</td>\n",
       "      <td>0</td>\n",
       "      <td>190.0</td>\n",
       "      <td>NaN</td>\n",
       "      <td>1</td>\n",
       "      <td>21</td>\n",
       "      <td>2</td>\n",
       "      <td>21</td>\n",
       "    </tr>\n",
       "  </tbody>\n",
       "</table>\n",
       "</div>"
      ],
      "text/plain": [
       "                      impression_id     impression_time  user_id  app_code  \\\n",
       "0  5f98c2c31a8006e510448c02ec74d50f 2018-11-26 23:30:00        0       207   \n",
       "1  2b12c0d47f5821a5adb3bfd973d0f708 2018-11-19 20:49:00        2       190   \n",
       "2  f85e4bf0e34f3ee66add56229845e4db 2018-11-20 20:29:00        2       190   \n",
       "3  010ed37e44e2fdc175b4c5c6c930805a 2018-11-20 20:53:00        2       190   \n",
       "4  577c63f9937fa0e8d4650ddf1510a03f 2018-11-21 21:47:00        2       190   \n",
       "\n",
       "     os_version  is_4G  is_click     tsli  tslc  cnt_hi  cnt_hc  \\\n",
       "0           old      0         0      NaN   NaN       0       0   \n",
       "1  intermediate      0         0      NaN   NaN       0       0   \n",
       "2  intermediate      0         0  85200.0   NaN       1       0   \n",
       "3  intermediate      0         0   1440.0   NaN       2       0   \n",
       "4  intermediate      0         0  89640.0   NaN       3       0   \n",
       "\n",
       "   last_imp_appcode  last_clk_appcode  unique_appcode_cnt  imp_day  imp_week  \\\n",
       "0               NaN               NaN                   1       26         0   \n",
       "1               NaN               NaN                   1       19         0   \n",
       "2             190.0               NaN                   1       20         1   \n",
       "3             190.0               NaN                   1       20         1   \n",
       "4             190.0               NaN                   1       21         2   \n",
       "\n",
       "   imp_hour  \n",
       "0        23  \n",
       "1        20  \n",
       "2        20  \n",
       "3        20  \n",
       "4        21  "
      ]
     },
     "execution_count": 40,
     "metadata": {},
     "output_type": "execute_result"
    }
   ],
   "source": [
    "impr.head()"
   ]
  },
  {
   "cell_type": "code",
   "execution_count": 41,
   "metadata": {},
   "outputs": [],
   "source": [
    "# logs.head(50)"
   ]
  },
  {
   "cell_type": "code",
   "execution_count": 42,
   "metadata": {},
   "outputs": [],
   "source": [
    "\n",
    "# row_format = '{:<25}'* 11\n",
    "# print(row_format.format(*['idx', 'user_id', 'is_click', 'imp_ts', 'tsli', 'tslc', 'cnt_hi', 'cnt_hc', 'app_code', 'last_imp_appcode', 'last_clk_appcode']))\n",
    "\n",
    "# previous_userid = None\n",
    "# previous_server_ts = None\n",
    "\n",
    "# # tsli_list = []\n",
    "# # tslc_list = []\n",
    "# # cnt_hi_list = []\n",
    "# # cnt_hc_list = []\n",
    "# # last_imp_appcode_list = []\n",
    "# # last_clk_appcode_list = []\n",
    "# # unique_appcode_cnt_list = []\n",
    "\n",
    "# for idx, row in logs.iterrows(): \n",
    "    \n",
    "#     if idx == 60: break\n",
    "\n",
    "#     user_id = row['user_id']\n",
    "#     imp_ts = row['server_time']\n",
    "    \n",
    "\n",
    "#     if user_id != previous_userid: \n",
    "        \n",
    "#         tsli = np.NaN # assign null value if there is no previous impression\n",
    "#         tslc = np.NaN # assign null value if there is no previous impression\n",
    "\n",
    "#         cnt_hi = 0\n",
    "#         cnt_hc = 0\n",
    "\n",
    "#         last_imp_appcode = np.NaN\n",
    "#         last_clk_appcode = np.NaN\n",
    "\n",
    "#         unique_appcode_cnt = 1\n",
    "\n",
    "#         ####################################\n",
    "\n",
    "#         previous_userid = user_id\n",
    "        \n",
    "#         previous_imp_ts = imp_ts\n",
    "#         previous_clk_ts = imp_ts if row['is_click'] else None\n",
    "\n",
    "#         temp_imp_cnt = 1\n",
    "#         temp_clk_cnt = 1 if row['is_click'] else 0\n",
    "\n",
    "#         previous_imp_appcode = row['app_code']\n",
    "#         previous_clk_appcode = row['app_code'] if row['is_click'] else None\n",
    "\n",
    "#         temp_appcode_set = set([row['app_code']])\n",
    "\n",
    "\n",
    "#     else : \n",
    "\n",
    "#         tsli = (imp_ts - previous_imp_ts).total_seconds()\n",
    "#         tslc = (imp_ts - previous_clk_ts).total_seconds() if previous_clk_ts else np.NaN\n",
    "\n",
    "#         cnt_hi = temp_imp_cnt\n",
    "#         cnt_hc = temp_clk_cnt\n",
    "\n",
    "#         last_imp_appcode = previous_imp_appcode\n",
    "#         last_clk_appcode = previous_clk_appcode if not pd.isna(previous_clk_appcode) else np.NaN # bug when app_code is 0\n",
    "\n",
    "#         ####################################\n",
    "        \n",
    "#         previous_imp_ts = imp_ts        \n",
    "#         if row['is_click']: previous_clk_ts = imp_ts \n",
    "\n",
    "#         temp_imp_cnt += 1\n",
    "#         if row['is_click']: temp_clk_cnt += 1\n",
    "\n",
    "#         previous_imp_appcode = row['app_code']        \n",
    "#         if row['is_click']: previous_clk_appcode = row['app_code']\n",
    "\n",
    "#         temp_appcode_set.add(row['app_code'])\n",
    "#         unique_appcode_cnt = len(temp_appcode_set)\n",
    "\n",
    "#     tsli_list.append(tsli)\n",
    "#     tslc_list.append(tslc)\n",
    "#     cnt_hi_list.append(cnt_hi)\n",
    "#     cnt_hc_list.append(cnt_hc)\n",
    "#     last_imp_appcode_list.append(last_imp_appcode)\n",
    "#     last_clk_appcode_list.append(last_clk_appcode)\n",
    "#     unique_appcode_cnt_list.append(unique_appcode_cnt)\n",
    "\n",
    "\n",
    "#     # print(row_format.format(*[idx, user_id, row['is_click'], str(imp_ts), tsli, tslc, cnt_hi, cnt_hc, row['app_code'], last_imp_appcode, last_clk_appcode]))\n",
    "\n",
    "# impr['tsli'] = tsli_list\n",
    "# impr['tslc'] = tslc_list\n",
    "# impr['cnt_hi'] = cnt_hi_list\n",
    "# impr['cnt_hc'] = cnt_hc_list\n",
    "# impr['last_imp_appcode'] = last_imp_appcode_list\n",
    "# impr['last_clk_appcode'] = last_clk_appcode_list\n",
    "# impr['unique_appcode_cnt'] = unique_appcode_cnt_list"
   ]
  },
  {
   "cell_type": "code",
   "execution_count": 43,
   "metadata": {},
   "outputs": [],
   "source": [
    "# impr['impression_time'].dt.day.value_counts()\n",
    "# impr['impression_time'].dt.weekday.value_counts()\n",
    "# impr['impression_time'].dt.hour.value_counts()\n",
    "\n",
    "# logs['server_time'].dt.day.value_counts()\n",
    "# logs['server_time'].dt.weekday.value_counts()\n",
    "# logs['server_time'].dt.hour.value_counts()"
   ]
  },
  {
   "cell_type": "code",
   "execution_count": 44,
   "metadata": {},
   "outputs": [],
   "source": [
    "# # logs_filt.pivot_table(index='user_id', columns=['server_day'], aggfunc='sum') # aggfunc={'server_day':'sum'}\n",
    "# # pd.pivot_table(logs_filt, index='user_id', values=['server_hour'], aggfunc=np.sum).reset_index()\n",
    "\n",
    "# final_dict = {}\n",
    "\n",
    "# cols = ['day', 'week', 'hour', 'category_1', 'category_2']\n",
    "\n",
    "# for col in cols: \n",
    "\n",
    "#     temp = logs_filt.groupby(col).agg({col:np.size})\n",
    "#     temp.columns = ['count']\n",
    "#     temp.reset_index(inplace=True)\n",
    "#     temp[col] = temp[col].map(lambda x: f'act_cnt_{col}_{x}')\n",
    "#     final_dict.update(dict(temp.values.tolist()))\n",
    "\n",
    "# final_dict"
   ]
  },
  {
   "cell_type": "code",
   "execution_count": 45,
   "metadata": {},
   "outputs": [],
   "source": [
    "# # combination of these 3 cols is unique : 'user_id', 'impression_time', 'impression_id'\n",
    "\n",
    "# display(impr.shape)\n",
    "# impr.drop_duplicates(subset=['user_id', 'impression_time', 'impression_id']).shape"
   ]
  },
  {
   "cell_type": "code",
   "execution_count": null,
   "metadata": {},
   "outputs": [],
   "source": []
  },
  {
   "cell_type": "code",
   "execution_count": null,
   "metadata": {},
   "outputs": [],
   "source": []
  },
  {
   "cell_type": "code",
   "execution_count": 46,
   "metadata": {},
   "outputs": [],
   "source": [
    "logs['day'] = logs['server_time'].dt.day\n",
    "logs['week'] = logs['server_time'].dt.weekday\n",
    "logs['hour'] = logs['server_time'].dt.hour"
   ]
  },
  {
   "cell_type": "code",
   "execution_count": 47,
   "metadata": {},
   "outputs": [
    {
     "data": {
      "text/html": [
       "<div>\n",
       "<style scoped>\n",
       "    .dataframe tbody tr th:only-of-type {\n",
       "        vertical-align: middle;\n",
       "    }\n",
       "\n",
       "    .dataframe tbody tr th {\n",
       "        vertical-align: top;\n",
       "    }\n",
       "\n",
       "    .dataframe thead th {\n",
       "        text-align: right;\n",
       "    }\n",
       "</style>\n",
       "<table border=\"1\" class=\"dataframe\">\n",
       "  <thead>\n",
       "    <tr style=\"text-align: right;\">\n",
       "      <th></th>\n",
       "      <th>server_time</th>\n",
       "      <th>device_type</th>\n",
       "      <th>session_id</th>\n",
       "      <th>user_id</th>\n",
       "      <th>item_id</th>\n",
       "      <th>item_price</th>\n",
       "      <th>category_1</th>\n",
       "      <th>category_2</th>\n",
       "      <th>category_3</th>\n",
       "      <th>product_type</th>\n",
       "      <th>day</th>\n",
       "      <th>week</th>\n",
       "      <th>hour</th>\n",
       "    </tr>\n",
       "  </thead>\n",
       "  <tbody>\n",
       "    <tr>\n",
       "      <th>0</th>\n",
       "      <td>2018-10-18 14:27:00</td>\n",
       "      <td>android</td>\n",
       "      <td>268465</td>\n",
       "      <td>0</td>\n",
       "      <td>44459</td>\n",
       "      <td>3776.0</td>\n",
       "      <td>14.0</td>\n",
       "      <td>29.0</td>\n",
       "      <td>199.0</td>\n",
       "      <td>7363.0</td>\n",
       "      <td>18</td>\n",
       "      <td>3</td>\n",
       "      <td>14</td>\n",
       "    </tr>\n",
       "    <tr>\n",
       "      <th>1</th>\n",
       "      <td>2018-10-18 14:43:00</td>\n",
       "      <td>android</td>\n",
       "      <td>268465</td>\n",
       "      <td>0</td>\n",
       "      <td>44459</td>\n",
       "      <td>3776.0</td>\n",
       "      <td>14.0</td>\n",
       "      <td>29.0</td>\n",
       "      <td>199.0</td>\n",
       "      <td>7363.0</td>\n",
       "      <td>18</td>\n",
       "      <td>3</td>\n",
       "      <td>14</td>\n",
       "    </tr>\n",
       "    <tr>\n",
       "      <th>2</th>\n",
       "      <td>2018-10-18 14:46:00</td>\n",
       "      <td>android</td>\n",
       "      <td>268465</td>\n",
       "      <td>0</td>\n",
       "      <td>44459</td>\n",
       "      <td>3776.0</td>\n",
       "      <td>14.0</td>\n",
       "      <td>29.0</td>\n",
       "      <td>199.0</td>\n",
       "      <td>7363.0</td>\n",
       "      <td>18</td>\n",
       "      <td>3</td>\n",
       "      <td>14</td>\n",
       "    </tr>\n",
       "    <tr>\n",
       "      <th>3</th>\n",
       "      <td>2018-10-18 14:47:00</td>\n",
       "      <td>android</td>\n",
       "      <td>268465</td>\n",
       "      <td>0</td>\n",
       "      <td>44459</td>\n",
       "      <td>3776.0</td>\n",
       "      <td>14.0</td>\n",
       "      <td>29.0</td>\n",
       "      <td>199.0</td>\n",
       "      <td>7363.0</td>\n",
       "      <td>18</td>\n",
       "      <td>3</td>\n",
       "      <td>14</td>\n",
       "    </tr>\n",
       "    <tr>\n",
       "      <th>4</th>\n",
       "      <td>2018-10-22 09:48:00</td>\n",
       "      <td>android</td>\n",
       "      <td>295495</td>\n",
       "      <td>0</td>\n",
       "      <td>40228</td>\n",
       "      <td>332.0</td>\n",
       "      <td>7.0</td>\n",
       "      <td>24.0</td>\n",
       "      <td>126.0</td>\n",
       "      <td>8351.0</td>\n",
       "      <td>22</td>\n",
       "      <td>0</td>\n",
       "      <td>9</td>\n",
       "    </tr>\n",
       "  </tbody>\n",
       "</table>\n",
       "</div>"
      ],
      "text/plain": [
       "          server_time device_type  session_id  user_id  item_id  item_price  \\\n",
       "0 2018-10-18 14:27:00     android      268465        0    44459      3776.0   \n",
       "1 2018-10-18 14:43:00     android      268465        0    44459      3776.0   \n",
       "2 2018-10-18 14:46:00     android      268465        0    44459      3776.0   \n",
       "3 2018-10-18 14:47:00     android      268465        0    44459      3776.0   \n",
       "4 2018-10-22 09:48:00     android      295495        0    40228       332.0   \n",
       "\n",
       "  category_1 category_2 category_3 product_type  day  week  hour  \n",
       "0       14.0       29.0      199.0       7363.0   18     3    14  \n",
       "1       14.0       29.0      199.0       7363.0   18     3    14  \n",
       "2       14.0       29.0      199.0       7363.0   18     3    14  \n",
       "3       14.0       29.0      199.0       7363.0   18     3    14  \n",
       "4        7.0       24.0      126.0       8351.0   22     0     9  "
      ]
     },
     "execution_count": 47,
     "metadata": {},
     "output_type": "execute_result"
    }
   ],
   "source": [
    "logs.head()"
   ]
  },
  {
   "cell_type": "code",
   "execution_count": null,
   "metadata": {},
   "outputs": [],
   "source": [
    "## Deriving Important features from Log dataset"
   ]
  },
  {
   "cell_type": "code",
   "execution_count": 48,
   "metadata": {},
   "outputs": [],
   "source": [
    "\"\"\"\n",
    "log features : \n",
    "\n",
    "    'tsla' : time since last activity\n",
    "    'cnt_ha' : count of historical activity\n",
    "    'unq_sess_cnt' unique sessions count\n",
    "    'last_price' : price of last viewed item\n",
    "    'sum_price' : sum of price of all viewed items\n",
    "    'mean_price' : mean of price of all viewed items\n",
    "    'std_price' : std deviation of price of all viewed items\n",
    "    'act_cnt_{week}'\n",
    "    'act_cnt_{day}'\n",
    "    'act_cnt_{hour}'\n",
    "    'act_cnt_{cat1}'\n",
    "    'act_cnt_{cat2}'\n",
    "    X 'tot_act_cnt_{cat3}'\n",
    "    'ls_cat1' : last seen category_1\n",
    "    'ls_cat2' : last seen category_2\n",
    "    'ls_cat3' : last seen category_3\n",
    "    'ls_prd' : last seen product_type\n",
    "    'unq_cat1_cnt' : unique category_3 count    \n",
    "    'unq_cat2_cnt' : unique category_3 count\n",
    "    'unq_cat3_cnt' : unique category_3 count\n",
    "    'unq_prd_cnt' : unique product_type count\n",
    "\n",
    "    sum of item_price / unique product_type\n",
    "    unique price mean\n",
    "    prd qty / cat_1\n",
    "    prd qty / cat_2\n",
    "    prd qty / cat_3\n",
    "\"\"\"\n",
    "\n",
    "no_act_cnt = 0 \n",
    "def get_act_feats(user_id, imp_time, impression_id, logs): \n",
    "    \n",
    "    logs_filt = logs[(logs['user_id']==user_id) & (logs['server_time']<imp_time)]\n",
    "    no_logs = False # flag is set to True when there is no historical activity by user\n",
    "    if logs_filt.shape[0] == 0: \n",
    "        no_logs = True\n",
    "        # print('no historical logs', user_id, imp_time)\n",
    "    # display(logs_filt)\n",
    "\n",
    "    # tsla = (imp_time - logs_filt['server_time'].max()).total_seconds()\n",
    "    tsla = np.NaN if no_logs else (imp_time - logs_filt['server_time'].values[-1]).total_seconds()\n",
    "    cnt_ha = len(logs_filt)\n",
    "    unq_sess_cnt = logs_filt['session_id'].nunique()\n",
    "    last_price = np.NaN if no_logs else logs_filt['item_price'].values[-1]\n",
    "    sum_price = logs_filt['item_price'].sum()\n",
    "    mean_price = logs_filt['item_price'].mean()\n",
    "    std_price = logs_filt['item_price'].std()\n",
    "\n",
    "    ls_cat1 = np.NaN if no_logs else logs_filt['category_1'].values[-1]\n",
    "    ls_cat2 = np.NaN if no_logs else logs_filt['category_2'].values[-1]\n",
    "    ls_cat3 = np.NaN if no_logs else logs_filt['category_3'].values[-1]\n",
    "    ls_prd = np.NaN if no_logs else logs_filt['product_type'].values[-1]\n",
    "\n",
    "    unq_cat1_cnt = logs_filt['category_1'].nunique()\n",
    "    unq_cat2_cnt = logs_filt['category_2'].nunique()\n",
    "    unq_cat3_cnt = logs_filt['category_3'].nunique()\n",
    "    unq_prd_cnt = logs_filt['product_type'].nunique()\n",
    "\n",
    "\n",
    "    temp_dict = {\"tsla\":tsla, \"cnt_ha\":cnt_ha, \"unq_sess_cnt\":unq_sess_cnt, \"last_price\":last_price, \\\n",
    "        \"sum_price\":sum_price, \"mean_price\":mean_price, \"std_price\":std_price, \"ls_cat1\":ls_cat1, \"ls_cat2\":ls_cat2, \\\n",
    "            \"ls_cat3\":ls_cat3, \"ls_prd\":ls_prd, \"unq_cat1_cnt\":unq_cat1_cnt, \"unq_cat2_cnt\":unq_cat2_cnt, \\\n",
    "                \"unq_cat3_cnt\":unq_cat3_cnt, \"unq_prd_cnt\":unq_prd_cnt}\n",
    "\n",
    "    temp_dict.update({'user_id':user_id, 'impression_id':impression_id, 'impression_time':imp_time})    \n",
    "                \n",
    "    cols = ['day', 'week', 'hour', 'category_1', 'category_2']\n",
    "\n",
    "    for col in cols: \n",
    "\n",
    "        temp = logs_filt.groupby(col).agg({col:np.size})\n",
    "        temp.columns = ['count']\n",
    "        temp.reset_index(inplace=True)\n",
    "        temp[col] = temp[col].map(lambda x: f'act_cnt_{col}_{x}')\n",
    "        temp_dict.update(dict(temp.values.tolist()))\n",
    "    \n",
    "    return temp_dict\n",
    "\n",
    "# check for sample values\n",
    "# user_id = 0\n",
    "# imp_time = pd.to_datetime('2018-11-26 23:30:00')\n",
    "# get_act_feats(user_id, imp_time, '5f98c2c31a8006e510448c02ec74d50f', logs)"
   ]
  },
  {
   "cell_type": "code",
   "execution_count": 46,
   "metadata": {},
   "outputs": [
    {
     "data": {
      "text/plain": [
       "(0, 178)"
      ]
     },
     "metadata": {},
     "output_type": "display_data"
    },
    {
     "data": {
      "text/html": [
       "<div>\n",
       "<style scoped>\n",
       "    .dataframe tbody tr th:only-of-type {\n",
       "        vertical-align: middle;\n",
       "    }\n",
       "\n",
       "    .dataframe tbody tr th {\n",
       "        vertical-align: top;\n",
       "    }\n",
       "\n",
       "    .dataframe thead th {\n",
       "        text-align: right;\n",
       "    }\n",
       "</style>\n",
       "<table border=\"1\" class=\"dataframe\">\n",
       "  <thead>\n",
       "    <tr style=\"text-align: right;\">\n",
       "      <th></th>\n",
       "      <th>user_id</th>\n",
       "      <th>impression_id</th>\n",
       "      <th>impression_time</th>\n",
       "      <th>tsla</th>\n",
       "      <th>cnt_ha</th>\n",
       "      <th>unq_sess_cnt</th>\n",
       "      <th>last_price</th>\n",
       "      <th>sum_price</th>\n",
       "      <th>mean_price</th>\n",
       "      <th>std_price</th>\n",
       "      <th>...</th>\n",
       "      <th>act_cnt_category_2_73.0</th>\n",
       "      <th>act_cnt_category_2_74.0</th>\n",
       "      <th>act_cnt_category_2_75.0</th>\n",
       "      <th>act_cnt_category_2_76.0</th>\n",
       "      <th>act_cnt_category_2_77.0</th>\n",
       "      <th>act_cnt_category_2_78.0</th>\n",
       "      <th>act_cnt_category_2_79.0</th>\n",
       "      <th>act_cnt_category_2_8.0</th>\n",
       "      <th>act_cnt_category_2_9.0</th>\n",
       "      <th>act_cnt_category_2_NA</th>\n",
       "    </tr>\n",
       "  </thead>\n",
       "  <tbody>\n",
       "  </tbody>\n",
       "</table>\n",
       "<p>0 rows × 178 columns</p>\n",
       "</div>"
      ],
      "text/plain": [
       "Empty DataFrame\n",
       "Columns: [user_id, impression_id, impression_time, tsla, cnt_ha, unq_sess_cnt, last_price, sum_price, mean_price, std_price, ls_cat1, ls_cat2, ls_cat3, ls_prd, unq_cat1_cnt, unq_cat2_cnt, unq_cat3_cnt, unq_prd_cnt, act_cnt_day_1, act_cnt_day_2, act_cnt_day_3, act_cnt_day_4, act_cnt_day_5, act_cnt_day_6, act_cnt_day_7, act_cnt_day_8, act_cnt_day_9, act_cnt_day_10, act_cnt_day_11, act_cnt_day_12, act_cnt_day_13, act_cnt_day_14, act_cnt_day_15, act_cnt_day_16, act_cnt_day_17, act_cnt_day_18, act_cnt_day_19, act_cnt_day_20, act_cnt_day_21, act_cnt_day_22, act_cnt_day_23, act_cnt_day_24, act_cnt_day_25, act_cnt_day_26, act_cnt_day_27, act_cnt_day_28, act_cnt_day_29, act_cnt_day_30, act_cnt_day_31, act_cnt_week_0, act_cnt_week_1, act_cnt_week_2, act_cnt_week_3, act_cnt_week_4, act_cnt_week_5, act_cnt_week_6, act_cnt_hour_0, act_cnt_hour_1, act_cnt_hour_2, act_cnt_hour_3, act_cnt_hour_4, act_cnt_hour_5, act_cnt_hour_6, act_cnt_hour_7, act_cnt_hour_8, act_cnt_hour_9, act_cnt_hour_10, act_cnt_hour_11, act_cnt_hour_12, act_cnt_hour_13, act_cnt_hour_14, act_cnt_hour_15, act_cnt_hour_16, act_cnt_hour_17, act_cnt_hour_18, act_cnt_hour_19, act_cnt_hour_20, act_cnt_hour_21, act_cnt_hour_22, act_cnt_hour_23, act_cnt_category_1_0.0, act_cnt_category_1_1.0, act_cnt_category_1_10.0, act_cnt_category_1_11.0, act_cnt_category_1_12.0, act_cnt_category_1_13.0, act_cnt_category_1_14.0, act_cnt_category_1_15.0, act_cnt_category_1_16.0, act_cnt_category_1_17.0, act_cnt_category_1_2.0, act_cnt_category_1_4.0, act_cnt_category_1_5.0, act_cnt_category_1_6.0, act_cnt_category_1_7.0, act_cnt_category_1_8.0, act_cnt_category_1_9.0, act_cnt_category_1_NA, act_cnt_category_2_0.0, act_cnt_category_2_1.0, ...]\n",
       "Index: []\n",
       "\n",
       "[0 rows x 178 columns]"
      ]
     },
     "execution_count": 46,
     "metadata": {},
     "output_type": "execute_result"
    }
   ],
   "source": [
    "# generate temp dataframe containing all possible cols which can be derived from logs\n",
    "cols = ['user_id', 'impression_id', 'impression_time'] + ['tsla', 'cnt_ha', 'unq_sess_cnt', 'last_price', 'sum_price', 'mean_price', 'std_price', 'ls_cat1', 'ls_cat2', 'ls_cat3', 'ls_prd', 'unq_cat1_cnt', 'unq_cat2_cnt', 'unq_cat3_cnt', 'unq_prd_cnt']\n",
    "\n",
    "day_cols = [f'act_cnt_day_{i}' for i in sorted(logs.day.unique())]\n",
    "week_cols = [f'act_cnt_week_{i}' for i in sorted(logs.week.unique())]\n",
    "hour_cols = [f'act_cnt_hour_{i}' for i in sorted(logs.hour.unique())]\n",
    "\n",
    "cat1_cols = [f'act_cnt_category_1_{i}' for i in sorted(logs.category_1.unique())]\n",
    "cat2_cols = [f'act_cnt_category_2_{i}' for i in sorted(logs.category_2.unique())]\n",
    "\n",
    "temp_df = pd.DataFrame(columns=cols + day_cols + week_cols + hour_cols + cat1_cols + cat2_cols)\n",
    "display(temp_df.shape)\n",
    "temp_df.head()"
   ]
  },
  {
   "cell_type": "code",
   "execution_count": 47,
   "metadata": {},
   "outputs": [],
   "source": [
    "## for loop is slow. So use joblib\n",
    "\n",
    "# for n, row in impr.head(1000).iterrows(): \n",
    "    \n",
    "#     # if n==5: break\n",
    "#     # print(n, row)\n",
    "\n",
    "#     temp_df = temp_df.append(get_act_feats(row['user_id'], row['impression_time'], row['impression_id'], logs), ignore_index=True)"
   ]
  },
  {
   "cell_type": "code",
   "execution_count": 49,
   "metadata": {},
   "outputs": [
    {
     "name": "stderr",
     "output_type": "stream",
     "text": [
      "3114it [01:20, 51.67it/s]"
     ]
    }
   ],
   "source": [
    "from joblib import Parallel, delayed\n",
    "\n",
    "multi_outputs = Parallel(n_jobs=6, prefer=\"threads\", verbose=0)(delayed(get_act_feats)(row['user_id'], row['impression_time'], row['impression_id'], logs) for _, row in tqdm(impr.iterrows()))\n",
    "temp_df = temp_df.append([i for i in multi_outputs], ignore_index=True)"
   ]
  },
  {
   "cell_type": "code",
   "execution_count": 2,
   "metadata": {},
   "outputs": [],
   "source": [
    "import pandas as pd"
   ]
  },
  {
   "cell_type": "code",
   "execution_count": null,
   "metadata": {},
   "outputs": [],
   "source": []
  },
  {
   "cell_type": "code",
   "execution_count": 4,
   "metadata": {},
   "outputs": [],
   "source": [
    "# save for later\n",
    "# temp_df.to_csv('data/log_features.csv', index=False)\n",
    "\n",
    "# load from saved file\n",
    "temp_df = pd.read_csv('log_features.csv')\n",
    "temp_df['impression_time'] = pd.to_datetime(temp_df['impression_time'], format='%Y-%m-%d %H:%M:%S')"
   ]
  },
  {
   "cell_type": "code",
   "execution_count": 5,
   "metadata": {},
   "outputs": [
    {
     "data": {
      "text/plain": [
       "(237609, 178)"
      ]
     },
     "metadata": {},
     "output_type": "display_data"
    },
    {
     "data": {
      "text/html": [
       "<div>\n",
       "<style scoped>\n",
       "    .dataframe tbody tr th:only-of-type {\n",
       "        vertical-align: middle;\n",
       "    }\n",
       "\n",
       "    .dataframe tbody tr th {\n",
       "        vertical-align: top;\n",
       "    }\n",
       "\n",
       "    .dataframe thead th {\n",
       "        text-align: right;\n",
       "    }\n",
       "</style>\n",
       "<table border=\"1\" class=\"dataframe\">\n",
       "  <thead>\n",
       "    <tr style=\"text-align: right;\">\n",
       "      <th></th>\n",
       "      <th>user_id</th>\n",
       "      <th>impression_id</th>\n",
       "      <th>impression_time</th>\n",
       "      <th>tsla</th>\n",
       "      <th>cnt_ha</th>\n",
       "      <th>unq_sess_cnt</th>\n",
       "      <th>last_price</th>\n",
       "      <th>sum_price</th>\n",
       "      <th>mean_price</th>\n",
       "      <th>std_price</th>\n",
       "      <th>...</th>\n",
       "      <th>act_cnt_category_2_73.0</th>\n",
       "      <th>act_cnt_category_2_74.0</th>\n",
       "      <th>act_cnt_category_2_75.0</th>\n",
       "      <th>act_cnt_category_2_76.0</th>\n",
       "      <th>act_cnt_category_2_77.0</th>\n",
       "      <th>act_cnt_category_2_78.0</th>\n",
       "      <th>act_cnt_category_2_79.0</th>\n",
       "      <th>act_cnt_category_2_8.0</th>\n",
       "      <th>act_cnt_category_2_9.0</th>\n",
       "      <th>act_cnt_category_2_NA</th>\n",
       "    </tr>\n",
       "  </thead>\n",
       "  <tbody>\n",
       "    <tr>\n",
       "      <th>0</th>\n",
       "      <td>0</td>\n",
       "      <td>5f98c2c31a8006e510448c02ec74d50f</td>\n",
       "      <td>2018-11-26 23:30:00</td>\n",
       "      <td>28560.0</td>\n",
       "      <td>28</td>\n",
       "      <td>7</td>\n",
       "      <td>19840.0</td>\n",
       "      <td>266800.0</td>\n",
       "      <td>9528.571429</td>\n",
       "      <td>20439.781947</td>\n",
       "      <td>...</td>\n",
       "      <td>NaN</td>\n",
       "      <td>1.0</td>\n",
       "      <td>NaN</td>\n",
       "      <td>NaN</td>\n",
       "      <td>NaN</td>\n",
       "      <td>NaN</td>\n",
       "      <td>1.0</td>\n",
       "      <td>3.0</td>\n",
       "      <td>NaN</td>\n",
       "      <td>NaN</td>\n",
       "    </tr>\n",
       "    <tr>\n",
       "      <th>1</th>\n",
       "      <td>2</td>\n",
       "      <td>2b12c0d47f5821a5adb3bfd973d0f708</td>\n",
       "      <td>2018-11-19 20:49:00</td>\n",
       "      <td>21540.0</td>\n",
       "      <td>117</td>\n",
       "      <td>28</td>\n",
       "      <td>2419.0</td>\n",
       "      <td>1702407.0</td>\n",
       "      <td>14550.487179</td>\n",
       "      <td>31310.110698</td>\n",
       "      <td>...</td>\n",
       "      <td>NaN</td>\n",
       "      <td>2.0</td>\n",
       "      <td>NaN</td>\n",
       "      <td>2.0</td>\n",
       "      <td>1.0</td>\n",
       "      <td>2.0</td>\n",
       "      <td>NaN</td>\n",
       "      <td>7.0</td>\n",
       "      <td>2.0</td>\n",
       "      <td>NaN</td>\n",
       "    </tr>\n",
       "    <tr>\n",
       "      <th>2</th>\n",
       "      <td>2</td>\n",
       "      <td>f85e4bf0e34f3ee66add56229845e4db</td>\n",
       "      <td>2018-11-20 20:29:00</td>\n",
       "      <td>81780.0</td>\n",
       "      <td>121</td>\n",
       "      <td>30</td>\n",
       "      <td>602.0</td>\n",
       "      <td>1712591.0</td>\n",
       "      <td>14153.644628</td>\n",
       "      <td>30861.241363</td>\n",
       "      <td>...</td>\n",
       "      <td>NaN</td>\n",
       "      <td>2.0</td>\n",
       "      <td>NaN</td>\n",
       "      <td>2.0</td>\n",
       "      <td>1.0</td>\n",
       "      <td>2.0</td>\n",
       "      <td>NaN</td>\n",
       "      <td>7.0</td>\n",
       "      <td>2.0</td>\n",
       "      <td>NaN</td>\n",
       "    </tr>\n",
       "    <tr>\n",
       "      <th>3</th>\n",
       "      <td>2</td>\n",
       "      <td>010ed37e44e2fdc175b4c5c6c930805a</td>\n",
       "      <td>2018-11-20 20:53:00</td>\n",
       "      <td>83220.0</td>\n",
       "      <td>121</td>\n",
       "      <td>30</td>\n",
       "      <td>602.0</td>\n",
       "      <td>1712591.0</td>\n",
       "      <td>14153.644628</td>\n",
       "      <td>30861.241363</td>\n",
       "      <td>...</td>\n",
       "      <td>NaN</td>\n",
       "      <td>2.0</td>\n",
       "      <td>NaN</td>\n",
       "      <td>2.0</td>\n",
       "      <td>1.0</td>\n",
       "      <td>2.0</td>\n",
       "      <td>NaN</td>\n",
       "      <td>7.0</td>\n",
       "      <td>2.0</td>\n",
       "      <td>NaN</td>\n",
       "    </tr>\n",
       "    <tr>\n",
       "      <th>4</th>\n",
       "      <td>2</td>\n",
       "      <td>577c63f9937fa0e8d4650ddf1510a03f</td>\n",
       "      <td>2018-11-21 21:47:00</td>\n",
       "      <td>172860.0</td>\n",
       "      <td>121</td>\n",
       "      <td>30</td>\n",
       "      <td>602.0</td>\n",
       "      <td>1712591.0</td>\n",
       "      <td>14153.644628</td>\n",
       "      <td>30861.241363</td>\n",
       "      <td>...</td>\n",
       "      <td>NaN</td>\n",
       "      <td>2.0</td>\n",
       "      <td>NaN</td>\n",
       "      <td>2.0</td>\n",
       "      <td>1.0</td>\n",
       "      <td>2.0</td>\n",
       "      <td>NaN</td>\n",
       "      <td>7.0</td>\n",
       "      <td>2.0</td>\n",
       "      <td>NaN</td>\n",
       "    </tr>\n",
       "  </tbody>\n",
       "</table>\n",
       "<p>5 rows × 178 columns</p>\n",
       "</div>"
      ],
      "text/plain": [
       "   user_id                     impression_id     impression_time      tsla  \\\n",
       "0        0  5f98c2c31a8006e510448c02ec74d50f 2018-11-26 23:30:00   28560.0   \n",
       "1        2  2b12c0d47f5821a5adb3bfd973d0f708 2018-11-19 20:49:00   21540.0   \n",
       "2        2  f85e4bf0e34f3ee66add56229845e4db 2018-11-20 20:29:00   81780.0   \n",
       "3        2  010ed37e44e2fdc175b4c5c6c930805a 2018-11-20 20:53:00   83220.0   \n",
       "4        2  577c63f9937fa0e8d4650ddf1510a03f 2018-11-21 21:47:00  172860.0   \n",
       "\n",
       "   cnt_ha  unq_sess_cnt  last_price  sum_price    mean_price     std_price  \\\n",
       "0      28             7     19840.0   266800.0   9528.571429  20439.781947   \n",
       "1     117            28      2419.0  1702407.0  14550.487179  31310.110698   \n",
       "2     121            30       602.0  1712591.0  14153.644628  30861.241363   \n",
       "3     121            30       602.0  1712591.0  14153.644628  30861.241363   \n",
       "4     121            30       602.0  1712591.0  14153.644628  30861.241363   \n",
       "\n",
       "   ...  act_cnt_category_2_73.0  act_cnt_category_2_74.0  \\\n",
       "0  ...                      NaN                      1.0   \n",
       "1  ...                      NaN                      2.0   \n",
       "2  ...                      NaN                      2.0   \n",
       "3  ...                      NaN                      2.0   \n",
       "4  ...                      NaN                      2.0   \n",
       "\n",
       "   act_cnt_category_2_75.0  act_cnt_category_2_76.0  act_cnt_category_2_77.0  \\\n",
       "0                      NaN                      NaN                      NaN   \n",
       "1                      NaN                      2.0                      1.0   \n",
       "2                      NaN                      2.0                      1.0   \n",
       "3                      NaN                      2.0                      1.0   \n",
       "4                      NaN                      2.0                      1.0   \n",
       "\n",
       "   act_cnt_category_2_78.0  act_cnt_category_2_79.0  act_cnt_category_2_8.0  \\\n",
       "0                      NaN                      1.0                     3.0   \n",
       "1                      2.0                      NaN                     7.0   \n",
       "2                      2.0                      NaN                     7.0   \n",
       "3                      2.0                      NaN                     7.0   \n",
       "4                      2.0                      NaN                     7.0   \n",
       "\n",
       "   act_cnt_category_2_9.0  act_cnt_category_2_NA  \n",
       "0                     NaN                    NaN  \n",
       "1                     2.0                    NaN  \n",
       "2                     2.0                    NaN  \n",
       "3                     2.0                    NaN  \n",
       "4                     2.0                    NaN  \n",
       "\n",
       "[5 rows x 178 columns]"
      ]
     },
     "execution_count": 5,
     "metadata": {},
     "output_type": "execute_result"
    }
   ],
   "source": [
    "display(temp_df.shape)\n",
    "temp_df.head()"
   ]
  },
  {
   "cell_type": "code",
   "execution_count": null,
   "metadata": {},
   "outputs": [],
   "source": []
  },
  {
   "cell_type": "code",
   "execution_count": 6,
   "metadata": {},
   "outputs": [],
   "source": [
    "# temp_df[(temp_df['std_price'].isna()) & (~temp_df['tsla'].isna())].head()\n",
    "# temp_df[temp_df['impression_id']=='fb4cd2d75ba5915913d52e43c780c3d2']\n",
    "# logs[logs['user_id']==5]"
   ]
  },
  {
   "cell_type": "code",
   "execution_count": 7,
   "metadata": {},
   "outputs": [],
   "source": [
    "# a = get_df_summary(temp_df)"
   ]
  },
  {
   "cell_type": "code",
   "execution_count": 8,
   "metadata": {},
   "outputs": [],
   "source": [
    "# # no logs user\n",
    "# logs[logs['user_id']==98]"
   ]
  },
  {
   "cell_type": "code",
   "execution_count": 9,
   "metadata": {},
   "outputs": [],
   "source": [
    "impr=pd.read_csv(\"Impr.csv\")"
   ]
  },
  {
   "cell_type": "code",
   "execution_count": 10,
   "metadata": {},
   "outputs": [],
   "source": [
    "impr_copy=impr.copy()"
   ]
  },
  {
   "cell_type": "code",
   "execution_count": 11,
   "metadata": {},
   "outputs": [],
   "source": [
    "## Converting categorical variables to string datatype checking in impr_copy and temp_df dataset\n",
    "\n",
    "cat_cols = ['app_code', 'os_version', 'is_4G', 'last_imp_appcode', 'last_clk_appcode', 'imp_day', 'imp_week', 'imp_hour', 'ls_cat1', 'ls_cat2', 'ls_cat3', 'ls_prd']\n",
    "\n",
    "for col in cat_cols: \n",
    "    if col in impr_copy: \n",
    "        impr_copy[col] = impr_copy[col].astype(str)\n",
    "    elif col in temp_df : \n",
    "        temp_df[col] = temp_df[col].astype(str)\n",
    "    else : \n",
    "        pass"
   ]
  },
  {
   "cell_type": "code",
   "execution_count": 12,
   "metadata": {},
   "outputs": [
    {
     "data": {
      "text/plain": [
       "dtype('<M8[ns]')"
      ]
     },
     "execution_count": 12,
     "metadata": {},
     "output_type": "execute_result"
    }
   ],
   "source": [
    "temp_df['impression_time'].dtype"
   ]
  },
  {
   "cell_type": "code",
   "execution_count": 13,
   "metadata": {},
   "outputs": [],
   "source": [
    "## Converting impression time to datetime datatype\n",
    "\n",
    "impr_copy['impression_time'] = pd.to_datetime(impr_copy['impression_time'], format='%Y-%m-%d %H:%M:%S')"
   ]
  },
  {
   "cell_type": "code",
   "execution_count": 14,
   "metadata": {},
   "outputs": [
    {
     "data": {
      "text/plain": [
       "dtype('<M8[ns]')"
      ]
     },
     "execution_count": 14,
     "metadata": {},
     "output_type": "execute_result"
    }
   ],
   "source": [
    "temp_df['impression_time'].dtype"
   ]
  },
  {
   "cell_type": "code",
   "execution_count": 15,
   "metadata": {},
   "outputs": [
    {
     "data": {
      "text/plain": [
       "dtype('<M8[ns]')"
      ]
     },
     "execution_count": 15,
     "metadata": {},
     "output_type": "execute_result"
    }
   ],
   "source": [
    "impr_copy['impression_time'].dtype"
   ]
  },
  {
   "cell_type": "code",
   "execution_count": 16,
   "metadata": {},
   "outputs": [
    {
     "data": {
      "text/html": [
       "<div>\n",
       "<style scoped>\n",
       "    .dataframe tbody tr th:only-of-type {\n",
       "        vertical-align: middle;\n",
       "    }\n",
       "\n",
       "    .dataframe tbody tr th {\n",
       "        vertical-align: top;\n",
       "    }\n",
       "\n",
       "    .dataframe thead th {\n",
       "        text-align: right;\n",
       "    }\n",
       "</style>\n",
       "<table border=\"1\" class=\"dataframe\">\n",
       "  <thead>\n",
       "    <tr style=\"text-align: right;\">\n",
       "      <th></th>\n",
       "      <th>impression_id</th>\n",
       "      <th>impression_time</th>\n",
       "      <th>user_id</th>\n",
       "      <th>app_code</th>\n",
       "      <th>os_version</th>\n",
       "      <th>is_4G</th>\n",
       "      <th>is_click</th>\n",
       "      <th>tsli</th>\n",
       "      <th>tslc</th>\n",
       "      <th>cnt_hi</th>\n",
       "      <th>...</th>\n",
       "      <th>act_cnt_category_2_73.0</th>\n",
       "      <th>act_cnt_category_2_74.0</th>\n",
       "      <th>act_cnt_category_2_75.0</th>\n",
       "      <th>act_cnt_category_2_76.0</th>\n",
       "      <th>act_cnt_category_2_77.0</th>\n",
       "      <th>act_cnt_category_2_78.0</th>\n",
       "      <th>act_cnt_category_2_79.0</th>\n",
       "      <th>act_cnt_category_2_8.0</th>\n",
       "      <th>act_cnt_category_2_9.0</th>\n",
       "      <th>act_cnt_category_2_NA</th>\n",
       "    </tr>\n",
       "  </thead>\n",
       "  <tbody>\n",
       "    <tr>\n",
       "      <th>0</th>\n",
       "      <td>5f98c2c31a8006e510448c02ec74d50f</td>\n",
       "      <td>2018-11-26 23:30:00</td>\n",
       "      <td>0</td>\n",
       "      <td>207</td>\n",
       "      <td>old</td>\n",
       "      <td>0</td>\n",
       "      <td>0</td>\n",
       "      <td>NaN</td>\n",
       "      <td>NaN</td>\n",
       "      <td>0</td>\n",
       "      <td>...</td>\n",
       "      <td>NaN</td>\n",
       "      <td>1.0</td>\n",
       "      <td>NaN</td>\n",
       "      <td>NaN</td>\n",
       "      <td>NaN</td>\n",
       "      <td>NaN</td>\n",
       "      <td>1.0</td>\n",
       "      <td>3.0</td>\n",
       "      <td>NaN</td>\n",
       "      <td>NaN</td>\n",
       "    </tr>\n",
       "    <tr>\n",
       "      <th>1</th>\n",
       "      <td>2b12c0d47f5821a5adb3bfd973d0f708</td>\n",
       "      <td>2018-11-19 20:49:00</td>\n",
       "      <td>2</td>\n",
       "      <td>190</td>\n",
       "      <td>intermediate</td>\n",
       "      <td>0</td>\n",
       "      <td>0</td>\n",
       "      <td>NaN</td>\n",
       "      <td>NaN</td>\n",
       "      <td>0</td>\n",
       "      <td>...</td>\n",
       "      <td>NaN</td>\n",
       "      <td>2.0</td>\n",
       "      <td>NaN</td>\n",
       "      <td>2.0</td>\n",
       "      <td>1.0</td>\n",
       "      <td>2.0</td>\n",
       "      <td>NaN</td>\n",
       "      <td>7.0</td>\n",
       "      <td>2.0</td>\n",
       "      <td>NaN</td>\n",
       "    </tr>\n",
       "    <tr>\n",
       "      <th>2</th>\n",
       "      <td>f85e4bf0e34f3ee66add56229845e4db</td>\n",
       "      <td>2018-11-20 20:29:00</td>\n",
       "      <td>2</td>\n",
       "      <td>190</td>\n",
       "      <td>intermediate</td>\n",
       "      <td>0</td>\n",
       "      <td>0</td>\n",
       "      <td>85200.0</td>\n",
       "      <td>NaN</td>\n",
       "      <td>1</td>\n",
       "      <td>...</td>\n",
       "      <td>NaN</td>\n",
       "      <td>2.0</td>\n",
       "      <td>NaN</td>\n",
       "      <td>2.0</td>\n",
       "      <td>1.0</td>\n",
       "      <td>2.0</td>\n",
       "      <td>NaN</td>\n",
       "      <td>7.0</td>\n",
       "      <td>2.0</td>\n",
       "      <td>NaN</td>\n",
       "    </tr>\n",
       "    <tr>\n",
       "      <th>3</th>\n",
       "      <td>010ed37e44e2fdc175b4c5c6c930805a</td>\n",
       "      <td>2018-11-20 20:53:00</td>\n",
       "      <td>2</td>\n",
       "      <td>190</td>\n",
       "      <td>intermediate</td>\n",
       "      <td>0</td>\n",
       "      <td>0</td>\n",
       "      <td>1440.0</td>\n",
       "      <td>NaN</td>\n",
       "      <td>2</td>\n",
       "      <td>...</td>\n",
       "      <td>NaN</td>\n",
       "      <td>2.0</td>\n",
       "      <td>NaN</td>\n",
       "      <td>2.0</td>\n",
       "      <td>1.0</td>\n",
       "      <td>2.0</td>\n",
       "      <td>NaN</td>\n",
       "      <td>7.0</td>\n",
       "      <td>2.0</td>\n",
       "      <td>NaN</td>\n",
       "    </tr>\n",
       "    <tr>\n",
       "      <th>4</th>\n",
       "      <td>577c63f9937fa0e8d4650ddf1510a03f</td>\n",
       "      <td>2018-11-21 21:47:00</td>\n",
       "      <td>2</td>\n",
       "      <td>190</td>\n",
       "      <td>intermediate</td>\n",
       "      <td>0</td>\n",
       "      <td>0</td>\n",
       "      <td>89640.0</td>\n",
       "      <td>NaN</td>\n",
       "      <td>3</td>\n",
       "      <td>...</td>\n",
       "      <td>NaN</td>\n",
       "      <td>2.0</td>\n",
       "      <td>NaN</td>\n",
       "      <td>2.0</td>\n",
       "      <td>1.0</td>\n",
       "      <td>2.0</td>\n",
       "      <td>NaN</td>\n",
       "      <td>7.0</td>\n",
       "      <td>2.0</td>\n",
       "      <td>NaN</td>\n",
       "    </tr>\n",
       "    <tr>\n",
       "      <th>...</th>\n",
       "      <td>...</td>\n",
       "      <td>...</td>\n",
       "      <td>...</td>\n",
       "      <td>...</td>\n",
       "      <td>...</td>\n",
       "      <td>...</td>\n",
       "      <td>...</td>\n",
       "      <td>...</td>\n",
       "      <td>...</td>\n",
       "      <td>...</td>\n",
       "      <td>...</td>\n",
       "      <td>...</td>\n",
       "      <td>...</td>\n",
       "      <td>...</td>\n",
       "      <td>...</td>\n",
       "      <td>...</td>\n",
       "      <td>...</td>\n",
       "      <td>...</td>\n",
       "      <td>...</td>\n",
       "      <td>...</td>\n",
       "      <td>...</td>\n",
       "    </tr>\n",
       "    <tr>\n",
       "      <th>237604</th>\n",
       "      <td>cf34ea8f2355f9f3f33c5a6ce1453dcc</td>\n",
       "      <td>2018-12-02 19:00:00</td>\n",
       "      <td>92583</td>\n",
       "      <td>407</td>\n",
       "      <td>latest</td>\n",
       "      <td>1</td>\n",
       "      <td>0</td>\n",
       "      <td>240.0</td>\n",
       "      <td>NaN</td>\n",
       "      <td>1</td>\n",
       "      <td>...</td>\n",
       "      <td>NaN</td>\n",
       "      <td>2.0</td>\n",
       "      <td>NaN</td>\n",
       "      <td>NaN</td>\n",
       "      <td>NaN</td>\n",
       "      <td>NaN</td>\n",
       "      <td>NaN</td>\n",
       "      <td>NaN</td>\n",
       "      <td>NaN</td>\n",
       "      <td>NaN</td>\n",
       "    </tr>\n",
       "    <tr>\n",
       "      <th>237605</th>\n",
       "      <td>45f849f13e9103e5215941226d5fc2d7</td>\n",
       "      <td>2018-12-10 21:41:00</td>\n",
       "      <td>92585</td>\n",
       "      <td>386</td>\n",
       "      <td>intermediate</td>\n",
       "      <td>0</td>\n",
       "      <td>0</td>\n",
       "      <td>NaN</td>\n",
       "      <td>NaN</td>\n",
       "      <td>0</td>\n",
       "      <td>...</td>\n",
       "      <td>NaN</td>\n",
       "      <td>NaN</td>\n",
       "      <td>NaN</td>\n",
       "      <td>1.0</td>\n",
       "      <td>NaN</td>\n",
       "      <td>NaN</td>\n",
       "      <td>NaN</td>\n",
       "      <td>NaN</td>\n",
       "      <td>NaN</td>\n",
       "      <td>NaN</td>\n",
       "    </tr>\n",
       "    <tr>\n",
       "      <th>237606</th>\n",
       "      <td>c0932ce334136e34b5a9a1c57bb611e3</td>\n",
       "      <td>2018-12-05 23:17:00</td>\n",
       "      <td>92586</td>\n",
       "      <td>386</td>\n",
       "      <td>latest</td>\n",
       "      <td>1</td>\n",
       "      <td>0</td>\n",
       "      <td>NaN</td>\n",
       "      <td>NaN</td>\n",
       "      <td>0</td>\n",
       "      <td>...</td>\n",
       "      <td>NaN</td>\n",
       "      <td>1.0</td>\n",
       "      <td>NaN</td>\n",
       "      <td>1.0</td>\n",
       "      <td>NaN</td>\n",
       "      <td>NaN</td>\n",
       "      <td>NaN</td>\n",
       "      <td>NaN</td>\n",
       "      <td>2.0</td>\n",
       "      <td>NaN</td>\n",
       "    </tr>\n",
       "    <tr>\n",
       "      <th>237607</th>\n",
       "      <td>6035edcd398af41b455f203b53b48c61</td>\n",
       "      <td>2018-12-06 00:10:00</td>\n",
       "      <td>92586</td>\n",
       "      <td>386</td>\n",
       "      <td>latest</td>\n",
       "      <td>1</td>\n",
       "      <td>0</td>\n",
       "      <td>3180.0</td>\n",
       "      <td>NaN</td>\n",
       "      <td>1</td>\n",
       "      <td>...</td>\n",
       "      <td>NaN</td>\n",
       "      <td>1.0</td>\n",
       "      <td>NaN</td>\n",
       "      <td>1.0</td>\n",
       "      <td>NaN</td>\n",
       "      <td>NaN</td>\n",
       "      <td>NaN</td>\n",
       "      <td>NaN</td>\n",
       "      <td>2.0</td>\n",
       "      <td>NaN</td>\n",
       "    </tr>\n",
       "    <tr>\n",
       "      <th>237608</th>\n",
       "      <td>5944d1d10029104d27f320418d4b3ca9</td>\n",
       "      <td>2018-12-06 00:37:00</td>\n",
       "      <td>92586</td>\n",
       "      <td>386</td>\n",
       "      <td>latest</td>\n",
       "      <td>1</td>\n",
       "      <td>0</td>\n",
       "      <td>1620.0</td>\n",
       "      <td>NaN</td>\n",
       "      <td>2</td>\n",
       "      <td>...</td>\n",
       "      <td>NaN</td>\n",
       "      <td>1.0</td>\n",
       "      <td>NaN</td>\n",
       "      <td>1.0</td>\n",
       "      <td>NaN</td>\n",
       "      <td>NaN</td>\n",
       "      <td>NaN</td>\n",
       "      <td>NaN</td>\n",
       "      <td>2.0</td>\n",
       "      <td>NaN</td>\n",
       "    </tr>\n",
       "  </tbody>\n",
       "</table>\n",
       "<p>237609 rows × 192 columns</p>\n",
       "</div>"
      ],
      "text/plain": [
       "                           impression_id     impression_time  user_id  \\\n",
       "0       5f98c2c31a8006e510448c02ec74d50f 2018-11-26 23:30:00        0   \n",
       "1       2b12c0d47f5821a5adb3bfd973d0f708 2018-11-19 20:49:00        2   \n",
       "2       f85e4bf0e34f3ee66add56229845e4db 2018-11-20 20:29:00        2   \n",
       "3       010ed37e44e2fdc175b4c5c6c930805a 2018-11-20 20:53:00        2   \n",
       "4       577c63f9937fa0e8d4650ddf1510a03f 2018-11-21 21:47:00        2   \n",
       "...                                  ...                 ...      ...   \n",
       "237604  cf34ea8f2355f9f3f33c5a6ce1453dcc 2018-12-02 19:00:00    92583   \n",
       "237605  45f849f13e9103e5215941226d5fc2d7 2018-12-10 21:41:00    92585   \n",
       "237606  c0932ce334136e34b5a9a1c57bb611e3 2018-12-05 23:17:00    92586   \n",
       "237607  6035edcd398af41b455f203b53b48c61 2018-12-06 00:10:00    92586   \n",
       "237608  5944d1d10029104d27f320418d4b3ca9 2018-12-06 00:37:00    92586   \n",
       "\n",
       "       app_code    os_version is_4G  is_click     tsli  tslc  cnt_hi  ...  \\\n",
       "0           207           old     0         0      NaN   NaN       0  ...   \n",
       "1           190  intermediate     0         0      NaN   NaN       0  ...   \n",
       "2           190  intermediate     0         0  85200.0   NaN       1  ...   \n",
       "3           190  intermediate     0         0   1440.0   NaN       2  ...   \n",
       "4           190  intermediate     0         0  89640.0   NaN       3  ...   \n",
       "...         ...           ...   ...       ...      ...   ...     ...  ...   \n",
       "237604      407        latest     1         0    240.0   NaN       1  ...   \n",
       "237605      386  intermediate     0         0      NaN   NaN       0  ...   \n",
       "237606      386        latest     1         0      NaN   NaN       0  ...   \n",
       "237607      386        latest     1         0   3180.0   NaN       1  ...   \n",
       "237608      386        latest     1         0   1620.0   NaN       2  ...   \n",
       "\n",
       "        act_cnt_category_2_73.0 act_cnt_category_2_74.0  \\\n",
       "0                           NaN                     1.0   \n",
       "1                           NaN                     2.0   \n",
       "2                           NaN                     2.0   \n",
       "3                           NaN                     2.0   \n",
       "4                           NaN                     2.0   \n",
       "...                         ...                     ...   \n",
       "237604                      NaN                     2.0   \n",
       "237605                      NaN                     NaN   \n",
       "237606                      NaN                     1.0   \n",
       "237607                      NaN                     1.0   \n",
       "237608                      NaN                     1.0   \n",
       "\n",
       "       act_cnt_category_2_75.0  act_cnt_category_2_76.0  \\\n",
       "0                          NaN                      NaN   \n",
       "1                          NaN                      2.0   \n",
       "2                          NaN                      2.0   \n",
       "3                          NaN                      2.0   \n",
       "4                          NaN                      2.0   \n",
       "...                        ...                      ...   \n",
       "237604                     NaN                      NaN   \n",
       "237605                     NaN                      1.0   \n",
       "237606                     NaN                      1.0   \n",
       "237607                     NaN                      1.0   \n",
       "237608                     NaN                      1.0   \n",
       "\n",
       "       act_cnt_category_2_77.0 act_cnt_category_2_78.0  \\\n",
       "0                          NaN                     NaN   \n",
       "1                          1.0                     2.0   \n",
       "2                          1.0                     2.0   \n",
       "3                          1.0                     2.0   \n",
       "4                          1.0                     2.0   \n",
       "...                        ...                     ...   \n",
       "237604                     NaN                     NaN   \n",
       "237605                     NaN                     NaN   \n",
       "237606                     NaN                     NaN   \n",
       "237607                     NaN                     NaN   \n",
       "237608                     NaN                     NaN   \n",
       "\n",
       "       act_cnt_category_2_79.0  act_cnt_category_2_8.0  \\\n",
       "0                          1.0                     3.0   \n",
       "1                          NaN                     7.0   \n",
       "2                          NaN                     7.0   \n",
       "3                          NaN                     7.0   \n",
       "4                          NaN                     7.0   \n",
       "...                        ...                     ...   \n",
       "237604                     NaN                     NaN   \n",
       "237605                     NaN                     NaN   \n",
       "237606                     NaN                     NaN   \n",
       "237607                     NaN                     NaN   \n",
       "237608                     NaN                     NaN   \n",
       "\n",
       "        act_cnt_category_2_9.0  act_cnt_category_2_NA  \n",
       "0                          NaN                    NaN  \n",
       "1                          2.0                    NaN  \n",
       "2                          2.0                    NaN  \n",
       "3                          2.0                    NaN  \n",
       "4                          2.0                    NaN  \n",
       "...                        ...                    ...  \n",
       "237604                     NaN                    NaN  \n",
       "237605                     NaN                    NaN  \n",
       "237606                     2.0                    NaN  \n",
       "237607                     2.0                    NaN  \n",
       "237608                     2.0                    NaN  \n",
       "\n",
       "[237609 rows x 192 columns]"
      ]
     },
     "execution_count": 16,
     "metadata": {},
     "output_type": "execute_result"
    }
   ],
   "source": [
    "## Merge both impr_copy and temp_df dataframe on common user_id,impression_id and impression_time variables\n",
    "\n",
    "impr_view_df = pd.merge(impr_copy, temp_df, how='left', on=['user_id', 'impression_id', 'impression_time'])\n",
    "impr_view_df"
   ]
  },
  {
   "cell_type": "code",
   "execution_count": null,
   "metadata": {},
   "outputs": [],
   "source": []
  },
  {
   "cell_type": "code",
   "execution_count": 20,
   "metadata": {},
   "outputs": [
    {
     "data": {
      "text/html": [
       "<div>\n",
       "<style scoped>\n",
       "    .dataframe tbody tr th:only-of-type {\n",
       "        vertical-align: middle;\n",
       "    }\n",
       "\n",
       "    .dataframe tbody tr th {\n",
       "        vertical-align: top;\n",
       "    }\n",
       "\n",
       "    .dataframe thead th {\n",
       "        text-align: right;\n",
       "    }\n",
       "</style>\n",
       "<table border=\"1\" class=\"dataframe\">\n",
       "  <thead>\n",
       "    <tr style=\"text-align: right;\">\n",
       "      <th></th>\n",
       "      <th>name</th>\n",
       "      <th>count</th>\n",
       "      <th>missing_count</th>\n",
       "      <th>missing_perc</th>\n",
       "      <th>cardinality</th>\n",
       "      <th>dtype</th>\n",
       "    </tr>\n",
       "  </thead>\n",
       "  <tbody>\n",
       "    <tr>\n",
       "      <th>0</th>\n",
       "      <td>impression_id</td>\n",
       "      <td>237609.0</td>\n",
       "      <td>0.0</td>\n",
       "      <td>0.0</td>\n",
       "      <td>237609.0</td>\n",
       "      <td>object</td>\n",
       "    </tr>\n",
       "    <tr>\n",
       "      <th>1</th>\n",
       "      <td>impression_time</td>\n",
       "      <td>237609.0</td>\n",
       "      <td>0.0</td>\n",
       "      <td>0.0</td>\n",
       "      <td>36461.0</td>\n",
       "      <td>datetime64[ns]</td>\n",
       "    </tr>\n",
       "    <tr>\n",
       "      <th>2</th>\n",
       "      <td>user_id</td>\n",
       "      <td>237609.0</td>\n",
       "      <td>0.0</td>\n",
       "      <td>0.0</td>\n",
       "      <td>74723.0</td>\n",
       "      <td>int64</td>\n",
       "    </tr>\n",
       "    <tr>\n",
       "      <th>3</th>\n",
       "      <td>app_code</td>\n",
       "      <td>237609.0</td>\n",
       "      <td>0.0</td>\n",
       "      <td>0.0</td>\n",
       "      <td>490.0</td>\n",
       "      <td>object</td>\n",
       "    </tr>\n",
       "    <tr>\n",
       "      <th>4</th>\n",
       "      <td>os_version</td>\n",
       "      <td>237609.0</td>\n",
       "      <td>0.0</td>\n",
       "      <td>0.0</td>\n",
       "      <td>3.0</td>\n",
       "      <td>object</td>\n",
       "    </tr>\n",
       "  </tbody>\n",
       "</table>\n",
       "</div>"
      ],
      "text/plain": [
       "              name     count  missing_count  missing_perc  cardinality  \\\n",
       "0    impression_id  237609.0            0.0           0.0     237609.0   \n",
       "1  impression_time  237609.0            0.0           0.0      36461.0   \n",
       "2          user_id  237609.0            0.0           0.0      74723.0   \n",
       "3         app_code  237609.0            0.0           0.0        490.0   \n",
       "4       os_version  237609.0            0.0           0.0          3.0   \n",
       "\n",
       "            dtype  \n",
       "0          object  \n",
       "1  datetime64[ns]  \n",
       "2           int64  \n",
       "3          object  \n",
       "4          object  "
      ]
     },
     "execution_count": 20,
     "metadata": {},
     "output_type": "execute_result"
    }
   ],
   "source": [
    "impr_view_df_summary = get_df_summary(impr_view_df)\n",
    "impr_view_df_summary.head()"
   ]
  },
  {
   "cell_type": "code",
   "execution_count": null,
   "metadata": {},
   "outputs": [],
   "source": []
  },
  {
   "cell_type": "code",
   "execution_count": 21,
   "metadata": {},
   "outputs": [
    {
     "data": {
      "text/plain": [
       "['act_cnt_category_1_2.0',\n",
       " 'act_cnt_category_1_5.0',\n",
       " 'act_cnt_category_2_11.0',\n",
       " 'act_cnt_category_2_13.0',\n",
       " 'act_cnt_category_2_16.0',\n",
       " 'act_cnt_category_2_2.0',\n",
       " 'act_cnt_category_2_22.0',\n",
       " 'act_cnt_category_2_50.0',\n",
       " 'act_cnt_category_2_53.0',\n",
       " 'act_cnt_category_2_60.0',\n",
       " 'act_cnt_category_2_65.0',\n",
       " 'act_cnt_category_2_75.0']"
      ]
     },
     "execution_count": 21,
     "metadata": {},
     "output_type": "execute_result"
    }
   ],
   "source": [
    "## If the missing percentage is >99% keeping those variables in cols_to_drop list\n",
    "\n",
    "cols_to_drop = impr_view_df_summary[impr_view_df_summary['missing_perc']>99]['name'].tolist()\n",
    "cols_to_drop"
   ]
  },
  {
   "cell_type": "code",
   "execution_count": 22,
   "metadata": {},
   "outputs": [],
   "source": [
    "# get_df_summary(impr_view_df).head(200).tail(50)\n",
    "\n",
    "# temp = get_df_summary(impr_view_df)\n",
    "# temp[temp['missing_count']>0]"
   ]
  },
  {
   "cell_type": "code",
   "execution_count": 23,
   "metadata": {},
   "outputs": [],
   "source": [
    "count_cols = [i for i in impr_view_df if 'cnt' in i]\n",
    "missing_cont_cols = ['tsli', 'tslc', 'tsla', 'last_price', 'mean_price', 'std_price']\n",
    "missing_cat_cols = ['last_imp_appcode', 'last_clk_appcode', 'ls_cat1', 'ls_cat2', 'ls_cat3', 'ls_prd']\n",
    "\n",
    "# imputing missing count_cols with 0\n",
    "impr_view_df[count_cols] = impr_view_df[count_cols].fillna(0)\n",
    "\n",
    "# imputing missing cont_cols with mean\n",
    "for col in missing_cont_cols: \n",
    "    impr_view_df[col] = impr_view_df[col].fillna(impr_view_df[col].mean())\n",
    "\n",
    "# imputing missing cat_cols with 'NA'\n",
    "for col in missing_cat_cols: \n",
    "    impr_view_df[col] = impr_view_df[col].fillna('NA')"
   ]
  },
  {
   "cell_type": "code",
   "execution_count": 24,
   "metadata": {},
   "outputs": [],
   "source": [
    "# count_cols = [i for i in impr_view_df if 'cnt' in i] # 169\n",
    "cols_to_drop = ['impression_id', 'impression_time', 'user_id', ]\n",
    "cont_cols = ['tsli', 'tslc', 'tsla', 'last_price', 'sum_price', 'mean_price', 'std_price']\n",
    "cat_cols = ['app_code', 'os_version', 'is_4G', 'last_imp_appcode', 'last_clk_appcode', 'imp_day', 'imp_week', 'imp_hour', 'ls_cat1', 'ls_cat2', 'ls_cat3', 'ls_prd']\n",
    "target = 'is_click'\n",
    "\n",
    "ohe_cols = ['os_version', 'imp_day', 'imp_week', 'imp_hour', 'ls_cat1', 'ls_cat2']\n",
    "te_cols = ['app_code', 'last_imp_appcode', 'last_clk_appcode', 'ls_cat3', 'ls_prd']\n",
    "bin_cols = ['is_4G']"
   ]
  },
  {
   "cell_type": "code",
   "execution_count": 25,
   "metadata": {},
   "outputs": [
    {
     "data": {
      "text/html": [
       "<div>\n",
       "<style scoped>\n",
       "    .dataframe tbody tr th:only-of-type {\n",
       "        vertical-align: middle;\n",
       "    }\n",
       "\n",
       "    .dataframe tbody tr th {\n",
       "        vertical-align: top;\n",
       "    }\n",
       "\n",
       "    .dataframe thead th {\n",
       "        text-align: right;\n",
       "    }\n",
       "</style>\n",
       "<table border=\"1\" class=\"dataframe\">\n",
       "  <thead>\n",
       "    <tr style=\"text-align: right;\">\n",
       "      <th></th>\n",
       "      <th>name</th>\n",
       "      <th>count</th>\n",
       "      <th>missing_count</th>\n",
       "      <th>missing_perc</th>\n",
       "      <th>cardinality</th>\n",
       "      <th>dtype</th>\n",
       "    </tr>\n",
       "  </thead>\n",
       "  <tbody>\n",
       "    <tr>\n",
       "      <th>3</th>\n",
       "      <td>app_code</td>\n",
       "      <td>237609.0</td>\n",
       "      <td>0.0</td>\n",
       "      <td>0.0</td>\n",
       "      <td>490.0</td>\n",
       "      <td>object</td>\n",
       "    </tr>\n",
       "    <tr>\n",
       "      <th>4</th>\n",
       "      <td>os_version</td>\n",
       "      <td>237609.0</td>\n",
       "      <td>0.0</td>\n",
       "      <td>0.0</td>\n",
       "      <td>3.0</td>\n",
       "      <td>object</td>\n",
       "    </tr>\n",
       "    <tr>\n",
       "      <th>5</th>\n",
       "      <td>is_4G</td>\n",
       "      <td>237609.0</td>\n",
       "      <td>0.0</td>\n",
       "      <td>0.0</td>\n",
       "      <td>2.0</td>\n",
       "      <td>object</td>\n",
       "    </tr>\n",
       "    <tr>\n",
       "      <th>11</th>\n",
       "      <td>last_imp_appcode</td>\n",
       "      <td>237609.0</td>\n",
       "      <td>0.0</td>\n",
       "      <td>0.0</td>\n",
       "      <td>396.0</td>\n",
       "      <td>object</td>\n",
       "    </tr>\n",
       "    <tr>\n",
       "      <th>12</th>\n",
       "      <td>last_clk_appcode</td>\n",
       "      <td>237609.0</td>\n",
       "      <td>0.0</td>\n",
       "      <td>0.0</td>\n",
       "      <td>222.0</td>\n",
       "      <td>object</td>\n",
       "    </tr>\n",
       "    <tr>\n",
       "      <th>14</th>\n",
       "      <td>imp_day</td>\n",
       "      <td>237609.0</td>\n",
       "      <td>0.0</td>\n",
       "      <td>0.0</td>\n",
       "      <td>29.0</td>\n",
       "      <td>object</td>\n",
       "    </tr>\n",
       "    <tr>\n",
       "      <th>15</th>\n",
       "      <td>imp_week</td>\n",
       "      <td>237609.0</td>\n",
       "      <td>0.0</td>\n",
       "      <td>0.0</td>\n",
       "      <td>7.0</td>\n",
       "      <td>object</td>\n",
       "    </tr>\n",
       "    <tr>\n",
       "      <th>16</th>\n",
       "      <td>imp_hour</td>\n",
       "      <td>237609.0</td>\n",
       "      <td>0.0</td>\n",
       "      <td>0.0</td>\n",
       "      <td>24.0</td>\n",
       "      <td>object</td>\n",
       "    </tr>\n",
       "    <tr>\n",
       "      <th>24</th>\n",
       "      <td>ls_cat1</td>\n",
       "      <td>237609.0</td>\n",
       "      <td>0.0</td>\n",
       "      <td>0.0</td>\n",
       "      <td>16.0</td>\n",
       "      <td>object</td>\n",
       "    </tr>\n",
       "    <tr>\n",
       "      <th>25</th>\n",
       "      <td>ls_cat2</td>\n",
       "      <td>237609.0</td>\n",
       "      <td>0.0</td>\n",
       "      <td>0.0</td>\n",
       "      <td>76.0</td>\n",
       "      <td>object</td>\n",
       "    </tr>\n",
       "    <tr>\n",
       "      <th>26</th>\n",
       "      <td>ls_cat3</td>\n",
       "      <td>237609.0</td>\n",
       "      <td>0.0</td>\n",
       "      <td>0.0</td>\n",
       "      <td>313.0</td>\n",
       "      <td>object</td>\n",
       "    </tr>\n",
       "    <tr>\n",
       "      <th>27</th>\n",
       "      <td>ls_prd</td>\n",
       "      <td>237609.0</td>\n",
       "      <td>0.0</td>\n",
       "      <td>0.0</td>\n",
       "      <td>3871.0</td>\n",
       "      <td>object</td>\n",
       "    </tr>\n",
       "  </tbody>\n",
       "</table>\n",
       "</div>"
      ],
      "text/plain": [
       "                name     count  missing_count  missing_perc  cardinality  \\\n",
       "3           app_code  237609.0            0.0           0.0        490.0   \n",
       "4         os_version  237609.0            0.0           0.0          3.0   \n",
       "5              is_4G  237609.0            0.0           0.0          2.0   \n",
       "11  last_imp_appcode  237609.0            0.0           0.0        396.0   \n",
       "12  last_clk_appcode  237609.0            0.0           0.0        222.0   \n",
       "14           imp_day  237609.0            0.0           0.0         29.0   \n",
       "15          imp_week  237609.0            0.0           0.0          7.0   \n",
       "16          imp_hour  237609.0            0.0           0.0         24.0   \n",
       "24           ls_cat1  237609.0            0.0           0.0         16.0   \n",
       "25           ls_cat2  237609.0            0.0           0.0         76.0   \n",
       "26           ls_cat3  237609.0            0.0           0.0        313.0   \n",
       "27            ls_prd  237609.0            0.0           0.0       3871.0   \n",
       "\n",
       "     dtype  \n",
       "3   object  \n",
       "4   object  \n",
       "5   object  \n",
       "11  object  \n",
       "12  object  \n",
       "14  object  \n",
       "15  object  \n",
       "16  object  \n",
       "24  object  \n",
       "25  object  \n",
       "26  object  \n",
       "27  object  "
      ]
     },
     "execution_count": 25,
     "metadata": {},
     "output_type": "execute_result"
    }
   ],
   "source": [
    "# checking unique values in cat_cols to decide type of encoding\n",
    "temp = get_df_summary(impr_view_df)\n",
    "temp[temp['name'].isin(cat_cols)]"
   ]
  },
  {
   "cell_type": "code",
   "execution_count": 26,
   "metadata": {},
   "outputs": [],
   "source": [
    "# impr_view_df.shape, len(set(cols_to_drop+cont_cols+cat_cols+target+count_cols))"
   ]
  },
  {
   "cell_type": "code",
   "execution_count": 27,
   "metadata": {},
   "outputs": [
    {
     "data": {
      "text/plain": [
       "(12, 12)"
      ]
     },
     "execution_count": 27,
     "metadata": {},
     "output_type": "execute_result"
    }
   ],
   "source": [
    "len(cat_cols), len((ohe_cols+te_cols+bin_cols))"
   ]
  },
  {
   "cell_type": "code",
   "execution_count": 28,
   "metadata": {},
   "outputs": [
    {
     "name": "stdout",
     "output_type": "stream",
     "text": [
      "tsli\n"
     ]
    },
    {
     "data": {
      "image/png": "[encoded data removed]",
      "text/plain": [
       "<Figure size 640x480 with 1 Axes>"
      ]
     },
     "metadata": {},
     "output_type": "display_data"
    },
    {
     "data": {
      "image/png": "[encoded data removed]",
      "text/plain": [
       "<Figure size 640x480 with 1 Axes>"
      ]
     },
     "metadata": {},
     "output_type": "display_data"
    },
    {
     "name": "stdout",
     "output_type": "stream",
     "text": [
      "tslc\n"
     ]
    },
    {
     "data": {
      "image/png": "[encoded data removed]",
      "text/plain": [
       "<Figure size 640x480 with 1 Axes>"
      ]
     },
     "metadata": {},
     "output_type": "display_data"
    },
    {
     "data": {
      "image/png": "[encoded data removed]",
      "text/plain": [
       "<Figure size 640x480 with 1 Axes>"
      ]
     },
     "metadata": {},
     "output_type": "display_data"
    },
    {
     "name": "stdout",
     "output_type": "stream",
     "text": [
      "tsla\n"
     ]
    },
    {
     "data": {
      "image/png": "[encoded data removed]",
      "text/plain": [
       "<Figure size 640x480 with 1 Axes>"
      ]
     },
     "metadata": {},
     "output_type": "display_data"
    },
    {
     "data": {
      "image/png": "[encoded data removed]",
      "text/plain": [
       "<Figure size 640x480 with 1 Axes>"
      ]
     },
     "metadata": {},
     "output_type": "display_data"
    },
    {
     "name": "stdout",
     "output_type": "stream",
     "text": [
      "last_price\n"
     ]
    },
    {
     "data": {
      "image/png": "[encoded data removed]",
      "text/plain": [
       "<Figure size 640x480 with 1 Axes>"
      ]
     },
     "metadata": {},
     "output_type": "display_data"
    },
    {
     "data": {
      "image/png": "[encoded data removed]",
      "text/plain": [
       "<Figure size 640x480 with 1 Axes>"
      ]
     },
     "metadata": {},
     "output_type": "display_data"
    },
    {
     "name": "stdout",
     "output_type": "stream",
     "text": [
      "sum_price\n"
     ]
    },
    {
     "data": {
      "image/png": "[encoded data removed]",
      "text/plain": [
       "<Figure size 640x480 with 1 Axes>"
      ]
     },
     "metadata": {},
     "output_type": "display_data"
    },
    {
     "data": {
      "image/png": "[encoded data removed]",
      "text/plain": [
       "<Figure size 640x480 with 1 Axes>"
      ]
     },
     "metadata": {},
     "output_type": "display_data"
    },
    {
     "name": "stdout",
     "output_type": "stream",
     "text": [
      "mean_price\n"
     ]
    },
    {
     "data": {
      "image/png": "[encoded data removed]",
      "text/plain": [
       "<Figure size 640x480 with 1 Axes>"
      ]
     },
     "metadata": {},
     "output_type": "display_data"
    },
    {
     "data": {
      "image/png": "[encoded data removed]",
      "text/plain": [
       "<Figure size 640x480 with 1 Axes>"
      ]
     },
     "metadata": {},
     "output_type": "display_data"
    },
    {
     "name": "stdout",
     "output_type": "stream",
     "text": [
      "std_price\n"
     ]
    },
    {
     "data": {
      "image/png": "[encoded data removed]",
      "text/plain": [
       "<Figure size 640x480 with 1 Axes>"
      ]
     },
     "metadata": {},
     "output_type": "display_data"
    },
    {
     "data": {
      "image/png": "[encoded data removed]",
      "text/plain": [
       "<Figure size 640x480 with 1 Axes>"
      ]
     },
     "metadata": {},
     "output_type": "display_data"
    }
   ],
   "source": [
    "# taking log transform to remove skewness in continuous cols\n",
    "\n",
    "for col in cont_cols: \n",
    "    print(col)\n",
    "    sns.distplot(impr_view_df[col]);\n",
    "    plt.show()    \n",
    "    impr_view_df[col] = np.log1p(impr_view_df[col])\n",
    "    sns.distplot(impr_view_df[col]);\n",
    "    plt.show()\n"
   ]
  },
  {
   "cell_type": "code",
   "execution_count": 29,
   "metadata": {},
   "outputs": [
    {
     "data": {
      "text/plain": [
       "(178206, 191)"
      ]
     },
     "metadata": {},
     "output_type": "display_data"
    },
    {
     "data": {
      "text/plain": [
       "(59403, 191)"
      ]
     },
     "metadata": {},
     "output_type": "display_data"
    },
    {
     "data": {
      "text/plain": [
       "(178206,)"
      ]
     },
     "metadata": {},
     "output_type": "display_data"
    },
    {
     "data": {
      "text/plain": [
       "(59403,)"
      ]
     },
     "metadata": {},
     "output_type": "display_data"
    },
    {
     "data": {
      "text/plain": [
       "0    170060\n",
       "1      8146\n",
       "Name: is_click, dtype: int64"
      ]
     },
     "metadata": {},
     "output_type": "display_data"
    },
    {
     "data": {
      "text/plain": [
       "0    56687\n",
       "1     2716\n",
       "Name: is_click, dtype: int64"
      ]
     },
     "metadata": {},
     "output_type": "display_data"
    },
    {
     "data": {
      "text/plain": [
       "0    0.954289\n",
       "1    0.045711\n",
       "Name: is_click, dtype: float64"
      ]
     },
     "metadata": {},
     "output_type": "display_data"
    },
    {
     "data": {
      "text/plain": [
       "0    0.954278\n",
       "1    0.045722\n",
       "Name: is_click, dtype: float64"
      ]
     },
     "metadata": {},
     "output_type": "display_data"
    }
   ],
   "source": [
    "from sklearn.model_selection import train_test_split\n",
    "\n",
    "X_train, X_test, y_train, y_test = train_test_split(impr_view_df[count_cols+cols_to_drop+cont_cols+ohe_cols+te_cols+bin_cols],\n",
    "                             impr_view_df[target], test_size=0.25, random_state=3, stratify=impr_view_df[target])\n",
    "\n",
    "display(X_train.shape, X_test.shape, y_train.shape, y_test.shape)\n",
    "display(y_train.value_counts(), y_test.value_counts())\n",
    "display(y_train.value_counts(normalize=True), y_test.value_counts(normalize=True))"
   ]
  },
  {
   "cell_type": "code",
   "execution_count": 30,
   "metadata": {},
   "outputs": [],
   "source": [
    "from sklearn.preprocessing import OneHotEncoder\n",
    "\n",
    "def one_hot_enocode(X_train, X_test, cat_cols):\n",
    "    \n",
    "    # Encode the categorical columns using One hot encoding\n",
    "    # cat_cols = X_train.select_dtypes('O').columns\n",
    "\n",
    "    for col in cat_cols:\n",
    "        print(col)\n",
    "\n",
    "        # Initialise OHE\n",
    "        ohe = OneHotEncoder(sparse=False, handle_unknown='ignore')\n",
    "        ohe.fit(X_train[col].values.reshape(-1,1))\n",
    "\n",
    "        # One Hot Encode columns in Train Data\n",
    "        X1 = pd.DataFrame(ohe.transform(X_train[col].values.reshape(-1,1)) )   \n",
    "        X1.columns = [str(col) + '#' + str(i) for i in ohe.categories_[0]]   \n",
    "        X_train = X_train.drop([col], axis=1,)\n",
    "        X_train.reset_index(inplace=True, drop=True)\n",
    "        X1.reset_index(inplace=True, drop=True)\n",
    "        X_train = pd.concat([X_train, X1], axis=1)\n",
    "\n",
    "\n",
    "        # One Hot Encode columns in Test Data\n",
    "        X2 = pd.DataFrame(ohe.transform(X_test[col].values.reshape(-1,1)) )   \n",
    "        X2.columns = [str(col) + '#' + str(i) for i in ohe.categories_[0]]   \n",
    "        X_test = X_test.drop([col], axis=1,)\n",
    "        X_test.reset_index(inplace=True, drop=True)\n",
    "        X2.reset_index(inplace=True, drop=True)\n",
    "        X_test = pd.concat([X_test, X2], axis=1)\n",
    "    \n",
    "    \n",
    "    return X_train, X_test"
   ]
  },
  {
   "cell_type": "code",
   "execution_count": 31,
   "metadata": {},
   "outputs": [
    {
     "data": {
      "text/plain": [
       "(178206, 191)"
      ]
     },
     "metadata": {},
     "output_type": "display_data"
    },
    {
     "data": {
      "text/plain": [
       "(59403, 191)"
      ]
     },
     "metadata": {},
     "output_type": "display_data"
    },
    {
     "name": "stdout",
     "output_type": "stream",
     "text": [
      "os_version\n",
      "imp_day\n",
      "imp_week\n",
      "imp_hour\n",
      "ls_cat1\n",
      "ls_cat2\n"
     ]
    },
    {
     "data": {
      "text/plain": [
       "(178206, 337)"
      ]
     },
     "metadata": {},
     "output_type": "display_data"
    },
    {
     "data": {
      "text/plain": [
       "(59403, 337)"
      ]
     },
     "metadata": {},
     "output_type": "display_data"
    }
   ],
   "source": [
    "# One Hot Encode categorical Variables with low cardinality\n",
    "display(X_train.shape, X_test.shape)\n",
    "\n",
    "X_train, X_test = one_hot_enocode(X_train[count_cols+cont_cols+ohe_cols+te_cols+bin_cols], \n",
    "    X_test[count_cols+cont_cols+ohe_cols+te_cols+bin_cols], cat_cols=ohe_cols)\n",
    "\n",
    "display(X_train.shape, X_test.shape)"
   ]
  },
  {
   "cell_type": "code",
   "execution_count": 32,
   "metadata": {},
   "outputs": [
    {
     "data": {
      "text/plain": [
       "(133654, 337)"
      ]
     },
     "metadata": {},
     "output_type": "display_data"
    },
    {
     "data": {
      "text/plain": [
       "(44552, 337)"
      ]
     },
     "metadata": {},
     "output_type": "display_data"
    },
    {
     "data": {
      "text/plain": [
       "(133654,)"
      ]
     },
     "metadata": {},
     "output_type": "display_data"
    },
    {
     "data": {
      "text/plain": [
       "(44552,)"
      ]
     },
     "metadata": {},
     "output_type": "display_data"
    },
    {
     "data": {
      "text/plain": [
       "0    127545\n",
       "1      6109\n",
       "Name: is_click, dtype: int64"
      ]
     },
     "metadata": {},
     "output_type": "display_data"
    },
    {
     "data": {
      "text/plain": [
       "0    42515\n",
       "1     2037\n",
       "Name: is_click, dtype: int64"
      ]
     },
     "metadata": {},
     "output_type": "display_data"
    },
    {
     "data": {
      "text/plain": [
       "0    0.954292\n",
       "1    0.045708\n",
       "Name: is_click, dtype: float64"
      ]
     },
     "metadata": {},
     "output_type": "display_data"
    },
    {
     "data": {
      "text/plain": [
       "0    0.954278\n",
       "1    0.045722\n",
       "Name: is_click, dtype: float64"
      ]
     },
     "metadata": {},
     "output_type": "display_data"
    }
   ],
   "source": [
    "## Split train,valid and test out of X_train and y_train \n",
    "\n",
    "X_trn, X_val, y_trn, y_val = train_test_split(X_train, y_train, test_size=0.25, random_state=3, stratify=y_train)\n",
    "\n",
    "display(X_trn.shape, X_val.shape, y_trn.shape, y_val.shape)\n",
    "display(y_trn.value_counts(), y_val.value_counts())\n",
    "display(y_trn.value_counts(normalize=True), y_val.value_counts(normalize=True))"
   ]
  },
  {
   "cell_type": "code",
   "execution_count": 33,
   "metadata": {},
   "outputs": [],
   "source": [
    "X_trn = X_trn.reset_index()\n",
    "y_trn = y_trn.reset_index()\n",
    "X_trn.drop(columns='index', inplace=True)\n",
    "y_trn.drop(columns='index', inplace=True)\n",
    "\n",
    "X_val = X_val.reset_index()\n",
    "y_val = y_val.reset_index()\n",
    "X_val.drop(columns='index', inplace=True)\n",
    "y_val.drop(columns='index', inplace=True)\n",
    "\n",
    "X_test = X_test.reset_index()\n",
    "y_test = y_test.reset_index()\n",
    "X_test.drop(columns='index', inplace=True)\n",
    "y_test.drop(columns='index', inplace=True)"
   ]
  },
  {
   "cell_type": "code",
   "execution_count": 34,
   "metadata": {},
   "outputs": [
    {
     "name": "stdout",
     "output_type": "stream",
     "text": [
      "app_code\n",
      "last_imp_appcode\n",
      "last_clk_appcode\n",
      "ls_cat3\n",
      "ls_prd\n"
     ]
    }
   ],
   "source": [
    "#  high cardinal variables\n",
    "\n",
    "# pip install category_encoders\n",
    "# ce.TargetEncoder?\n",
    "\n",
    "import category_encoders as ce\n",
    "\n",
    "for col in te_cols: \n",
    "    print(col)\n",
    "    te_enc = ce.CountEncoder(verbose=1, cols=col).fit(X_trn[col], y_trn.values)\n",
    "    # te_enc = ce.TargetEncoder(verbose=1, cols=col, min_samples_leaf=20, smoothing=10).fit(X_trn[col], y_trn.values)\n",
    "    X_trn[col+'_ce'] = te_enc.transform(X_trn[col])\n",
    "    X_val[col+'_ce'] = te_enc.transform(X_val[col])\n",
    "    X_test[col+'_ce'] = te_enc.transform(X_test[col])\n",
    "    \n",
    "    X_trn[col+'_ce'].fillna(X_trn[col+'_ce'].mean(), inplace=True)\n",
    "    X_val[col+'_ce'].fillna(X_trn[col+'_ce'].mean(), inplace=True)\n",
    "    X_test[col+'_ce'].fillna(X_trn[col+'_ce'].mean(), inplace=True)\n",
    "    "
   ]
  },
  {
   "cell_type": "code",
   "execution_count": 35,
   "metadata": {},
   "outputs": [],
   "source": [
    "X_trn.drop(columns=te_cols, inplace=True)\n",
    "X_val.drop(columns=te_cols, inplace=True)\n",
    "X_test.drop(columns=te_cols, inplace=True)"
   ]
  },
  {
   "cell_type": "markdown",
   "metadata": {},
   "source": [
    "## Logistic Regression"
   ]
  },
  {
   "cell_type": "code",
   "execution_count": 42,
   "metadata": {},
   "outputs": [],
   "source": [
    "from sklearn.linear_model import LogisticRegression\n",
    "logreg = LogisticRegression(max_iter=1000)"
   ]
  },
  {
   "cell_type": "code",
   "execution_count": 37,
   "metadata": {},
   "outputs": [],
   "source": [
    "from sklearn.preprocessing import StandardScaler"
   ]
  },
  {
   "cell_type": "code",
   "execution_count": 38,
   "metadata": {},
   "outputs": [],
   "source": [
    "scaler = StandardScaler()"
   ]
  },
  {
   "cell_type": "code",
   "execution_count": 39,
   "metadata": {},
   "outputs": [],
   "source": [
    "y_train_lg = y_trn\n",
    "y_valid_lg = y_val\n",
    "y_test_lg = y_test"
   ]
  },
  {
   "cell_type": "code",
   "execution_count": 40,
   "metadata": {},
   "outputs": [],
   "source": [
    "x_train_lg = scaler.fit_transform(X_trn)\n",
    "x_valid_lg = scaler.transform(X_val)\n",
    "x_test_lg = scaler.transform(X_test)"
   ]
  },
  {
   "cell_type": "code",
   "execution_count": 43,
   "metadata": {},
   "outputs": [
    {
     "data": {
      "text/html": [
       "<style>#sk-container-id-1 {color: black;background-color: white;}#sk-container-id-1 pre{padding: 0;}#sk-container-id-1 div.sk-toggleable {background-color: white;}#sk-container-id-1 label.sk-toggleable__label {cursor: pointer;display: block;width: 100%;margin-bottom: 0;padding: 0.3em;box-sizing: border-box;text-align: center;}#sk-container-id-1 label.sk-toggleable__label-arrow:before {content: \"▸\";float: left;margin-right: 0.25em;color: #696969;}#sk-container-id-1 label.sk-toggleable__label-arrow:hover:before {color: black;}#sk-container-id-1 div.sk-estimator:hover label.sk-toggleable__label-arrow:before {color: black;}#sk-container-id-1 div.sk-toggleable__content {max-height: 0;max-width: 0;overflow: hidden;text-align: left;background-color: #f0f8ff;}#sk-container-id-1 div.sk-toggleable__content pre {margin: 0.2em;color: black;border-radius: 0.25em;background-color: #f0f8ff;}#sk-container-id-1 input.sk-toggleable__control:checked~div.sk-toggleable__content {max-height: 200px;max-width: 100%;overflow: auto;}#sk-container-id-1 input.sk-toggleable__control:checked~label.sk-toggleable__label-arrow:before {content: \"▾\";}#sk-container-id-1 div.sk-estimator input.sk-toggleable__control:checked~label.sk-toggleable__label {background-color: #d4ebff;}#sk-container-id-1 div.sk-label input.sk-toggleable__control:checked~label.sk-toggleable__label {background-color: #d4ebff;}#sk-container-id-1 input.sk-hidden--visually {border: 0;clip: rect(1px 1px 1px 1px);clip: rect(1px, 1px, 1px, 1px);height: 1px;margin: -1px;overflow: hidden;padding: 0;position: absolute;width: 1px;}#sk-container-id-1 div.sk-estimator {font-family: monospace;background-color: #f0f8ff;border: 1px dotted black;border-radius: 0.25em;box-sizing: border-box;margin-bottom: 0.5em;}#sk-container-id-1 div.sk-estimator:hover {background-color: #d4ebff;}#sk-container-id-1 div.sk-parallel-item::after {content: \"\";width: 100%;border-bottom: 1px solid gray;flex-grow: 1;}#sk-container-id-1 div.sk-label:hover label.sk-toggleable__label {background-color: #d4ebff;}#sk-container-id-1 div.sk-serial::before {content: \"\";position: absolute;border-left: 1px solid gray;box-sizing: border-box;top: 0;bottom: 0;left: 50%;z-index: 0;}#sk-container-id-1 div.sk-serial {display: flex;flex-direction: column;align-items: center;background-color: white;padding-right: 0.2em;padding-left: 0.2em;position: relative;}#sk-container-id-1 div.sk-item {position: relative;z-index: 1;}#sk-container-id-1 div.sk-parallel {display: flex;align-items: stretch;justify-content: center;background-color: white;position: relative;}#sk-container-id-1 div.sk-item::before, #sk-container-id-1 div.sk-parallel-item::before {content: \"\";position: absolute;border-left: 1px solid gray;box-sizing: border-box;top: 0;bottom: 0;left: 50%;z-index: -1;}#sk-container-id-1 div.sk-parallel-item {display: flex;flex-direction: column;z-index: 1;position: relative;background-color: white;}#sk-container-id-1 div.sk-parallel-item:first-child::after {align-self: flex-end;width: 50%;}#sk-container-id-1 div.sk-parallel-item:last-child::after {align-self: flex-start;width: 50%;}#sk-container-id-1 div.sk-parallel-item:only-child::after {width: 0;}#sk-container-id-1 div.sk-dashed-wrapped {border: 1px dashed gray;margin: 0 0.4em 0.5em 0.4em;box-sizing: border-box;padding-bottom: 0.4em;background-color: white;}#sk-container-id-1 div.sk-label label {font-family: monospace;font-weight: bold;display: inline-block;line-height: 1.2em;}#sk-container-id-1 div.sk-label-container {text-align: center;}#sk-container-id-1 div.sk-container {/* jupyter's `normalize.less` sets `[hidden] { display: none; }` but bootstrap.min.css set `[hidden] { display: none !important; }` so we also need the `!important` here to be able to override the default hidden behavior on the sphinx rendered scikit-learn.org. See: https://github.com/scikit-learn/scikit-learn/issues/21755 */display: inline-block !important;position: relative;}#sk-container-id-1 div.sk-text-repr-fallback {display: none;}</style><div id=\"sk-container-id-1\" class=\"sk-top-container\"><div class=\"sk-text-repr-fallback\"><pre>LogisticRegression(max_iter=1000)</pre><b>In a Jupyter environment, please rerun this cell to show the HTML representation or trust the notebook. <br />On GitHub, the HTML representation is unable to render, please try loading this page with nbviewer.org.</b></div><div class=\"sk-container\" hidden><div class=\"sk-item\"><div class=\"sk-estimator sk-toggleable\"><input class=\"sk-toggleable__control sk-hidden--visually\" id=\"sk-estimator-id-1\" type=\"checkbox\" checked><label for=\"sk-estimator-id-1\" class=\"sk-toggleable__label sk-toggleable__label-arrow\">LogisticRegression</label><div class=\"sk-toggleable__content\"><pre>LogisticRegression(max_iter=1000)</pre></div></div></div></div></div>"
      ],
      "text/plain": [
       "LogisticRegression(max_iter=1000)"
      ]
     },
     "execution_count": 43,
     "metadata": {},
     "output_type": "execute_result"
    }
   ],
   "source": [
    "logreg.fit(x_train_lg, y_train_lg)"
   ]
  },
  {
   "cell_type": "code",
   "execution_count": 44,
   "metadata": {},
   "outputs": [],
   "source": [
    "train_probs_lg=logreg.predict_proba(x_train_lg)[:,1]\n",
    "\n",
    "val_probs_lg = logreg.predict_proba(x_valid_lg)[:,1]\n",
    "test_probs_lg = logreg.predict_proba(x_test_lg)[:,1]"
   ]
  },
  {
   "cell_type": "code",
   "execution_count": 45,
   "metadata": {},
   "outputs": [],
   "source": [
    "train_preds = logreg.predict(x_train_lg)\n",
    "val_preds = logreg.predict(x_valid_lg)\n",
    "test_preds = logreg.predict(x_test_lg)"
   ]
  },
  {
   "cell_type": "code",
   "execution_count": 48,
   "metadata": {},
   "outputs": [],
   "source": [
    "from sklearn.metrics import roc_curve, auc, roc_auc_score"
   ]
  },
  {
   "cell_type": "code",
   "execution_count": 49,
   "metadata": {},
   "outputs": [
    {
     "name": "stdout",
     "output_type": "stream",
     "text": [
      "train_auc :  0.7161\n",
      "val_auc :  0.7058\n",
      "test_auc :  0.7007\n"
     ]
    }
   ],
   "source": [
    "print('train_auc : ', np.round(roc_auc_score(y_trn, train_probs_lg), 4))\n",
    "print('val_auc : ', np.round(roc_auc_score(y_val, val_probs_lg), 4))\n",
    "print('test_auc : ', np.round(roc_auc_score(y_test, test_probs_lg), 4))"
   ]
  },
  {
   "cell_type": "markdown",
   "metadata": {},
   "source": [
    "## DecisionTree Classifier"
   ]
  },
  {
   "cell_type": "code",
   "execution_count": 51,
   "metadata": {},
   "outputs": [
    {
     "data": {
      "text/plain": [
       "200"
      ]
     },
     "execution_count": 51,
     "metadata": {},
     "output_type": "execute_result"
    }
   ],
   "source": [
    "from sklearn.tree import DecisionTreeClassifier\n",
    "\n",
    "# Assuming you have already defined 'X_trn', 'y_trn', 'X_val', 'y_val'\n",
    "\n",
    "n_feats = 200\n",
    "\n",
    "dt_temp = DecisionTreeClassifier(criterion='entropy', random_state=2, class_weight='balanced')\n",
    "dt_temp.fit(X_trn, y_trn)\n",
    "feat_imp_df_temp_DT = pd.DataFrame(data=np.array([X_trn.columns, dt_temp.feature_importances_]).T, columns=['feature', 'score']).sort_values(by=['score'], ascending=False)\n",
    "feat_imp_df_temp_DT['score'] = feat_imp_df_temp_DT['score'].astype(np.float64)\n",
    "feat_imp_df_temp_DT.sort_values(by=['score'], ascending=False, inplace=True)\n",
    "imp_feats = sorted(feat_imp_df_temp_DT.head(n_feats)['feature'].tolist())\n",
    "\n",
    "## remove few cols here if required\n",
    "# imp_feats = [i for i in imp_feats if i not in ('sdtls#h#e100', 'sdtls#cnt#e100')]\n",
    "\n",
    "len(imp_feats)\n"
   ]
  },
  {
   "cell_type": "code",
   "execution_count": 52,
   "metadata": {},
   "outputs": [
    {
     "data": {
      "text/html": [
       "<div>\n",
       "<style scoped>\n",
       "    .dataframe tbody tr th:only-of-type {\n",
       "        vertical-align: middle;\n",
       "    }\n",
       "\n",
       "    .dataframe tbody tr th {\n",
       "        vertical-align: top;\n",
       "    }\n",
       "\n",
       "    .dataframe thead th {\n",
       "        text-align: right;\n",
       "    }\n",
       "</style>\n",
       "<table border=\"1\" class=\"dataframe\">\n",
       "  <thead>\n",
       "    <tr style=\"text-align: right;\">\n",
       "      <th></th>\n",
       "      <th>feature</th>\n",
       "      <th>score</th>\n",
       "    </tr>\n",
       "  </thead>\n",
       "  <tbody>\n",
       "    <tr>\n",
       "      <th>332</th>\n",
       "      <td>app_code_ce</td>\n",
       "      <td>0.083051</td>\n",
       "    </tr>\n",
       "    <tr>\n",
       "      <th>171</th>\n",
       "      <td>tsla</td>\n",
       "      <td>0.042576</td>\n",
       "    </tr>\n",
       "    <tr>\n",
       "      <th>172</th>\n",
       "      <td>last_price</td>\n",
       "      <td>0.030149</td>\n",
       "    </tr>\n",
       "    <tr>\n",
       "      <th>169</th>\n",
       "      <td>tsli</td>\n",
       "      <td>0.027625</td>\n",
       "    </tr>\n",
       "    <tr>\n",
       "      <th>336</th>\n",
       "      <td>ls_prd_ce</td>\n",
       "      <td>0.027542</td>\n",
       "    </tr>\n",
       "  </tbody>\n",
       "</table>\n",
       "</div>"
      ],
      "text/plain": [
       "         feature     score\n",
       "332  app_code_ce  0.083051\n",
       "171         tsla  0.042576\n",
       "172   last_price  0.030149\n",
       "169         tsli  0.027625\n",
       "336    ls_prd_ce  0.027542"
      ]
     },
     "execution_count": 52,
     "metadata": {},
     "output_type": "execute_result"
    }
   ],
   "source": [
    "feat_imp_df_temp_DT.head(5)"
   ]
  },
  {
   "cell_type": "code",
   "execution_count": null,
   "metadata": {},
   "outputs": [],
   "source": [
    "#feat_imp_df_temp_DT.to_csv(\"feat_imp_df_temp_DT.csv\")"
   ]
  },
  {
   "cell_type": "code",
   "execution_count": 53,
   "metadata": {},
   "outputs": [
    {
     "name": "stderr",
     "output_type": "stream",
     "text": [
      "[I 2023-08-14 13:07:01,157] A new study created in memory with name: no-name-0acb68ac-c2d9-4924-a0d2-630867b1b39f\n",
      "[I 2023-08-14 13:07:11,497] Trial 0 finished with value: 0.6797060161445805 and parameters: {'dt_criterion': 'entropy', 'dt_class_weight': 'balanced', 'dt_max_depth': 3}. Best is trial 0 with value: 0.6797060161445805.\n",
      "[I 2023-08-14 13:07:37,535] Trial 1 finished with value: 0.6449792100290227 and parameters: {'dt_criterion': 'entropy', 'dt_class_weight': None, 'dt_max_depth': 12}. Best is trial 0 with value: 0.6797060161445805.\n",
      "[I 2023-08-14 13:08:10,383] Trial 2 finished with value: 0.5599297161052806 and parameters: {'dt_criterion': 'entropy', 'dt_class_weight': None, 'dt_max_depth': 19}. Best is trial 0 with value: 0.6797060161445805.\n",
      "[I 2023-08-14 13:08:29,328] Trial 3 finished with value: 0.6757890700276105 and parameters: {'dt_criterion': 'gini', 'dt_class_weight': 'balanced', 'dt_max_depth': 8}. Best is trial 0 with value: 0.6797060161445805.\n",
      "[I 2023-08-14 13:08:57,221] Trial 4 finished with value: 0.6674597737920446 and parameters: {'dt_criterion': 'gini', 'dt_class_weight': None, 'dt_max_depth': 15}. Best is trial 0 with value: 0.6797060161445805.\n",
      "[I 2023-08-14 13:09:05,408] Trial 5 finished with value: 0.6550367940253379 and parameters: {'dt_criterion': 'entropy', 'dt_class_weight': 'balanced', 'dt_max_depth': 2}. Best is trial 0 with value: 0.6797060161445805.\n",
      "[I 2023-08-14 13:09:36,948] Trial 6 finished with value: 0.5599297161052806 and parameters: {'dt_criterion': 'entropy', 'dt_class_weight': None, 'dt_max_depth': 19}. Best is trial 0 with value: 0.6797060161445805.\n",
      "[I 2023-08-14 13:10:02,973] Trial 7 finished with value: 0.6287824892551424 and parameters: {'dt_criterion': 'entropy', 'dt_class_weight': None, 'dt_max_depth': 13}. Best is trial 0 with value: 0.6797060161445805.\n",
      "[I 2023-08-14 13:10:32,935] Trial 8 finished with value: 0.6112981176010478 and parameters: {'dt_criterion': 'entropy', 'dt_class_weight': 'balanced', 'dt_max_depth': 16}. Best is trial 0 with value: 0.6797060161445805.\n",
      "[I 2023-08-14 13:10:50,798] Trial 9 finished with value: 0.6905449178438335 and parameters: {'dt_criterion': 'gini', 'dt_class_weight': None, 'dt_max_depth': 8}. Best is trial 9 with value: 0.6905449178438335.\n",
      "[I 2023-08-14 13:11:07,575] Trial 10 finished with value: 0.693910572785221 and parameters: {'dt_criterion': 'gini', 'dt_class_weight': None, 'dt_max_depth': 7}. Best is trial 10 with value: 0.693910572785221.\n",
      "[I 2023-08-14 13:11:24,788] Trial 11 finished with value: 0.6905449178438335 and parameters: {'dt_criterion': 'gini', 'dt_class_weight': None, 'dt_max_depth': 8}. Best is trial 10 with value: 0.693910572785221.\n",
      "[I 2023-08-14 13:11:40,383] Trial 12 finished with value: 0.693910572785221 and parameters: {'dt_criterion': 'gini', 'dt_class_weight': None, 'dt_max_depth': 7}. Best is trial 10 with value: 0.693910572785221.\n",
      "[I 2023-08-14 13:11:53,548] Trial 13 finished with value: 0.6917207020006395 and parameters: {'dt_criterion': 'gini', 'dt_class_weight': None, 'dt_max_depth': 5}. Best is trial 10 with value: 0.693910572785221.\n",
      "[I 2023-08-14 13:12:08,696] Trial 14 finished with value: 0.6929341580386511 and parameters: {'dt_criterion': 'gini', 'dt_class_weight': None, 'dt_max_depth': 6}. Best is trial 10 with value: 0.693910572785221.\n",
      "[I 2023-08-14 13:12:30,383] Trial 15 finished with value: 0.6903783128666767 and parameters: {'dt_criterion': 'gini', 'dt_class_weight': None, 'dt_max_depth': 10}. Best is trial 10 with value: 0.693910572785221.\n",
      "[I 2023-08-14 13:12:44,844] Trial 16 finished with value: 0.6929341580386511 and parameters: {'dt_criterion': 'gini', 'dt_class_weight': None, 'dt_max_depth': 6}. Best is trial 10 with value: 0.693910572785221.\n",
      "[I 2023-08-14 13:13:06,924] Trial 17 finished with value: 0.6903783128666767 and parameters: {'dt_criterion': 'gini', 'dt_class_weight': None, 'dt_max_depth': 10}. Best is trial 10 with value: 0.693910572785221.\n",
      "[I 2023-08-14 13:13:18,992] Trial 18 finished with value: 0.6879927734650931 and parameters: {'dt_criterion': 'gini', 'dt_class_weight': 'balanced', 'dt_max_depth': 4}. Best is trial 10 with value: 0.693910572785221.\n",
      "[I 2023-08-14 13:13:36,522] Trial 19 finished with value: 0.693910572785221 and parameters: {'dt_criterion': 'gini', 'dt_class_weight': None, 'dt_max_depth': 7}. Best is trial 10 with value: 0.693910572785221.\n",
      "[I 2023-08-14 13:13:59,285] Trial 20 finished with value: 0.6903100762438461 and parameters: {'dt_criterion': 'gini', 'dt_class_weight': None, 'dt_max_depth': 11}. Best is trial 10 with value: 0.693910572785221.\n",
      "[I 2023-08-14 13:14:14,655] Trial 21 finished with value: 0.693910572785221 and parameters: {'dt_criterion': 'gini', 'dt_class_weight': None, 'dt_max_depth': 7}. Best is trial 10 with value: 0.693910572785221.\n",
      "[I 2023-08-14 13:14:33,049] Trial 22 finished with value: 0.693437385089937 and parameters: {'dt_criterion': 'gini', 'dt_class_weight': None, 'dt_max_depth': 9}. Best is trial 10 with value: 0.693910572785221.\n",
      "[I 2023-08-14 13:14:47,228] Trial 23 finished with value: 0.6917207020006395 and parameters: {'dt_criterion': 'gini', 'dt_class_weight': None, 'dt_max_depth': 5}. Best is trial 10 with value: 0.693910572785221.\n",
      "[I 2023-08-14 13:14:59,752] Trial 24 finished with value: 0.6892554310006731 and parameters: {'dt_criterion': 'gini', 'dt_class_weight': None, 'dt_max_depth': 4}. Best is trial 10 with value: 0.693910572785221.\n",
      "[I 2023-08-14 13:15:17,121] Trial 25 finished with value: 0.693910572785221 and parameters: {'dt_criterion': 'gini', 'dt_class_weight': None, 'dt_max_depth': 7}. Best is trial 10 with value: 0.693910572785221.\n",
      "[I 2023-08-14 13:15:43,659] Trial 26 finished with value: 0.6056261583381787 and parameters: {'dt_criterion': 'gini', 'dt_class_weight': 'balanced', 'dt_max_depth': 14}. Best is trial 10 with value: 0.693910572785221.\n",
      "[I 2023-08-14 13:16:01,396] Trial 27 finished with value: 0.693437385089937 and parameters: {'dt_criterion': 'gini', 'dt_class_weight': None, 'dt_max_depth': 9}. Best is trial 10 with value: 0.693910572785221.\n",
      "[I 2023-08-14 13:16:10,395] Trial 28 finished with value: 0.6548153526454696 and parameters: {'dt_criterion': 'gini', 'dt_class_weight': None, 'dt_max_depth': 2}. Best is trial 10 with value: 0.693910572785221.\n",
      "[I 2023-08-14 13:16:24,432] Trial 29 finished with value: 0.6879927734650931 and parameters: {'dt_criterion': 'gini', 'dt_class_weight': 'balanced', 'dt_max_depth': 4}. Best is trial 10 with value: 0.693910572785221.\n",
      "[I 2023-08-14 13:16:38,149] Trial 30 finished with value: 0.6929341580386511 and parameters: {'dt_criterion': 'gini', 'dt_class_weight': None, 'dt_max_depth': 6}. Best is trial 10 with value: 0.693910572785221.\n",
      "[I 2023-08-14 13:16:57,624] Trial 31 finished with value: 0.6905449178438335 and parameters: {'dt_criterion': 'gini', 'dt_class_weight': None, 'dt_max_depth': 8}. Best is trial 10 with value: 0.693910572785221.\n",
      "[I 2023-08-14 13:17:14,592] Trial 32 finished with value: 0.693910572785221 and parameters: {'dt_criterion': 'gini', 'dt_class_weight': None, 'dt_max_depth': 7}. Best is trial 10 with value: 0.693910572785221.\n",
      "[I 2023-08-14 13:17:38,232] Trial 33 finished with value: 0.6903100762438461 and parameters: {'dt_criterion': 'gini', 'dt_class_weight': None, 'dt_max_depth': 11}. Best is trial 10 with value: 0.693910572785221.\n",
      "[I 2023-08-14 13:17:56,941] Trial 34 finished with value: 0.6918881845449908 and parameters: {'dt_criterion': 'entropy', 'dt_class_weight': None, 'dt_max_depth': 7}. Best is trial 10 with value: 0.693910572785221.\n",
      "[I 2023-08-14 13:18:17,050] Trial 35 finished with value: 0.693437385089937 and parameters: {'dt_criterion': 'gini', 'dt_class_weight': None, 'dt_max_depth': 9}. Best is trial 10 with value: 0.693910572785221.\n",
      "[I 2023-08-14 13:18:28,644] Trial 36 finished with value: 0.6805682836477305 and parameters: {'dt_criterion': 'gini', 'dt_class_weight': None, 'dt_max_depth': 3}. Best is trial 10 with value: 0.693910572785221.\n",
      "[I 2023-08-14 13:18:44,738] Trial 37 finished with value: 0.6936495023183651 and parameters: {'dt_criterion': 'entropy', 'dt_class_weight': 'balanced', 'dt_max_depth': 5}. Best is trial 10 with value: 0.693910572785221.\n",
      "[I 2023-08-14 13:19:08,650] Trial 38 finished with value: 0.6815117030224858 and parameters: {'dt_criterion': 'gini', 'dt_class_weight': None, 'dt_max_depth': 12}. Best is trial 10 with value: 0.693910572785221.\n",
      "[I 2023-08-14 13:19:33,898] Trial 39 finished with value: 0.671843204607505 and parameters: {'dt_criterion': 'entropy', 'dt_class_weight': None, 'dt_max_depth': 10}. Best is trial 10 with value: 0.693910572785221.\n",
      "[I 2023-08-14 13:19:53,822] Trial 40 finished with value: 0.6907527973464678 and parameters: {'dt_criterion': 'gini', 'dt_class_weight': 'balanced', 'dt_max_depth': 7}. Best is trial 10 with value: 0.693910572785221.\n",
      "[I 2023-08-14 13:20:09,940] Trial 41 finished with value: 0.693910572785221 and parameters: {'dt_criterion': 'gini', 'dt_class_weight': None, 'dt_max_depth': 7}. Best is trial 10 with value: 0.693910572785221.\n",
      "[I 2023-08-14 13:20:25,303] Trial 42 finished with value: 0.6929341580386511 and parameters: {'dt_criterion': 'gini', 'dt_class_weight': None, 'dt_max_depth': 6}. Best is trial 10 with value: 0.693910572785221.\n",
      "[I 2023-08-14 13:21:01,691] Trial 43 finished with value: 0.6226164307945028 and parameters: {'dt_criterion': 'gini', 'dt_class_weight': None, 'dt_max_depth': 20}. Best is trial 10 with value: 0.693910572785221.\n",
      "[I 2023-08-14 13:21:21,382] Trial 44 finished with value: 0.6905449178438335 and parameters: {'dt_criterion': 'gini', 'dt_class_weight': None, 'dt_max_depth': 8}. Best is trial 10 with value: 0.693910572785221.\n",
      "[I 2023-08-14 13:21:32,206] Trial 45 finished with value: 0.6797725842350479 and parameters: {'dt_criterion': 'entropy', 'dt_class_weight': None, 'dt_max_depth': 3}. Best is trial 10 with value: 0.693910572785221.\n",
      "[I 2023-08-14 13:21:50,054] Trial 46 finished with value: 0.6905449178438335 and parameters: {'dt_criterion': 'gini', 'dt_class_weight': None, 'dt_max_depth': 8}. Best is trial 10 with value: 0.693910572785221.\n",
      "[I 2023-08-14 13:22:03,264] Trial 47 finished with value: 0.6917207020006395 and parameters: {'dt_criterion': 'gini', 'dt_class_weight': None, 'dt_max_depth': 5}. Best is trial 10 with value: 0.693910572785221.\n",
      "[I 2023-08-14 13:22:34,111] Trial 48 finished with value: 0.6613947798954667 and parameters: {'dt_criterion': 'gini', 'dt_class_weight': None, 'dt_max_depth': 16}. Best is trial 10 with value: 0.693910572785221.\n",
      "[I 2023-08-14 13:22:51,368] Trial 49 finished with value: 0.693437385089937 and parameters: {'dt_criterion': 'gini', 'dt_class_weight': None, 'dt_max_depth': 9}. Best is trial 10 with value: 0.693910572785221.\n"
     ]
    },
    {
     "name": "stdout",
     "output_type": "stream",
     "text": [
      "Number of finished trials: 50\n",
      "Best trial:\n",
      "  Value: 0.693910572785221\n",
      "  Params: \n",
      "    dt_criterion: gini\n",
      "    dt_class_weight: None\n",
      "    dt_max_depth: 7\n"
     ]
    }
   ],
   "source": [
    "import optuna\n",
    "\n",
    "def objective(trial):\n",
    "    param_space = {\n",
    "        'dt_criterion': trial.suggest_categorical('dt_criterion', ['entropy', 'gini']),\n",
    "        'dt_class_weight': trial.suggest_categorical('dt_class_weight', [None, 'balanced']),\n",
    "        'dt_max_depth': trial.suggest_int('dt_max_depth', 2, 20),\n",
    "    }\n",
    "    clf = DecisionTreeClassifier(random_state=1,\n",
    "                                 criterion=param_space['dt_criterion'],\n",
    "                                 class_weight=param_space['dt_class_weight'],\n",
    "                                 max_depth=param_space['dt_max_depth'],\n",
    "                                )\n",
    "    \n",
    "    clf.fit(X_trn[imp_feats], y_trn)\n",
    "    val_probs = clf.predict_proba(X_val[imp_feats])[:, 1]\n",
    "    auc = roc_auc_score(y_val, val_probs)\n",
    "    return auc\n",
    "\n",
    "study = optuna.create_study(direction=\"maximize\")\n",
    "study.optimize(objective, n_trials=50) # timeout=600\n",
    "\n",
    "print(\"Number of finished trials: {}\".format(len(study.trials)))\n",
    "\n",
    "print(\"Best trial:\")\n",
    "trial = study.best_trial\n",
    "\n",
    "print(\"  Value: {}\".format(trial.value))\n",
    "\n",
    "print(\"  Params: \")\n",
    "for key, value in trial.params.items():\n",
    "    print(\"    {}: {}\".format(key, value))\n"
   ]
  },
  {
   "cell_type": "code",
   "execution_count": 55,
   "metadata": {},
   "outputs": [
    {
     "name": "stdout",
     "output_type": "stream",
     "text": [
      "train_auc :  0.7093\n",
      "val_auc :  0.6939\n",
      "test_auc :  0.7004\n"
     ]
    }
   ],
   "source": [
    "## Considering best hyperparameters\n",
    "\n",
    "best_params = {\n",
    "    'criterion': 'gini',\n",
    "    'max_depth': 7\n",
    "    }\n",
    "dt_final = DecisionTreeClassifier(random_state=1,\n",
    "                                  criterion=best_params['criterion'],\n",
    "                                  \n",
    "                                  max_depth=best_params['max_depth'])\n",
    "\n",
    "# Fit the model on the training data\n",
    "dt_final.fit(X_trn[imp_feats], y_trn)\n",
    "\n",
    "# Get probabilities and predictions for train, validation, and test datasets\n",
    "train_probs = dt_final.predict_proba(X_trn[imp_feats])[:, 1]\n",
    "val_probs = dt_final.predict_proba(X_val[imp_feats])[:, 1]\n",
    "test_probs = dt_final.predict_proba(X_test[imp_feats])[:, 1]\n",
    "\n",
    "train_preds = dt_final.predict(X_trn[imp_feats])\n",
    "val_preds = dt_final.predict(X_val[imp_feats])\n",
    "test_preds = dt_final.predict(X_test[imp_feats])\n",
    "\n",
    "# Threshold for classification\n",
    "threshold = 0.5\n",
    "\n",
    "# Calculate AUC-ROC scores\n",
    "print('train_auc : ', np.round(roc_auc_score(y_trn, train_probs), 4))\n",
    "print('val_auc : ', np.round(roc_auc_score(y_val, val_probs), 4))\n",
    "print('test_auc : ', np.round(roc_auc_score(y_test, test_probs), 4))\n"
   ]
  },
  {
   "cell_type": "code",
   "execution_count": null,
   "metadata": {},
   "outputs": [],
   "source": []
  },
  {
   "cell_type": "markdown",
   "metadata": {},
   "source": [
    "## RandomForest Classifier"
   ]
  },
  {
   "cell_type": "code",
   "execution_count": 56,
   "metadata": {},
   "outputs": [
    {
     "data": {
      "text/plain": [
       "200"
      ]
     },
     "execution_count": 56,
     "metadata": {},
     "output_type": "execute_result"
    }
   ],
   "source": [
    "from sklearn.ensemble import RandomForestClassifier\n",
    "\n",
    "from sklearn.metrics import roc_curve, auc, roc_auc_score\n",
    "\n",
    "n_feats = 200\n",
    "\n",
    "rf_temp = RandomForestClassifier(n_jobs=-1, criterion='entropy', random_state=2, class_weight='balanced')\n",
    "rf_temp.fit(X_trn, y_trn)\n",
    "feat_imp_df_temp = pd.DataFrame(data=np.array([X_trn.columns, rf_temp.feature_importances_]).T, columns=['feature', 'score']).sort_values(by=['score'], ascending=False)\n",
    "feat_imp_df_temp['score'] = feat_imp_df_temp['score'].astype(np.float64)\n",
    "feat_imp_df_temp.sort_values(by=['score'], ascending=False, inplace=True)\n",
    "imp_feats = sorted(feat_imp_df_temp.head(n_feats)['feature'].tolist())\n",
    "\n",
    "## remove few cols here if required\n",
    "# imp_feats = [i for i in imp_feats if i not in ('sdtls#h#e100', 'sdtls#cnt#e100')] \n",
    "\n",
    "len(imp_feats)"
   ]
  },
  {
   "cell_type": "code",
   "execution_count": 57,
   "metadata": {},
   "outputs": [
    {
     "data": {
      "text/html": [
       "<div>\n",
       "<style scoped>\n",
       "    .dataframe tbody tr th:only-of-type {\n",
       "        vertical-align: middle;\n",
       "    }\n",
       "\n",
       "    .dataframe tbody tr th {\n",
       "        vertical-align: top;\n",
       "    }\n",
       "\n",
       "    .dataframe thead th {\n",
       "        text-align: right;\n",
       "    }\n",
       "</style>\n",
       "<table border=\"1\" class=\"dataframe\">\n",
       "  <thead>\n",
       "    <tr style=\"text-align: right;\">\n",
       "      <th></th>\n",
       "      <th>feature</th>\n",
       "      <th>score</th>\n",
       "    </tr>\n",
       "  </thead>\n",
       "  <tbody>\n",
       "    <tr>\n",
       "      <th>332</th>\n",
       "      <td>app_code_ce</td>\n",
       "      <td>0.052837</td>\n",
       "    </tr>\n",
       "    <tr>\n",
       "      <th>171</th>\n",
       "      <td>tsla</td>\n",
       "      <td>0.029329</td>\n",
       "    </tr>\n",
       "    <tr>\n",
       "      <th>169</th>\n",
       "      <td>tsli</td>\n",
       "      <td>0.021231</td>\n",
       "    </tr>\n",
       "    <tr>\n",
       "      <th>172</th>\n",
       "      <td>last_price</td>\n",
       "      <td>0.020392</td>\n",
       "    </tr>\n",
       "    <tr>\n",
       "      <th>174</th>\n",
       "      <td>mean_price</td>\n",
       "      <td>0.020369</td>\n",
       "    </tr>\n",
       "  </tbody>\n",
       "</table>\n",
       "</div>"
      ],
      "text/plain": [
       "         feature     score\n",
       "332  app_code_ce  0.052837\n",
       "171         tsla  0.029329\n",
       "169         tsli  0.021231\n",
       "172   last_price  0.020392\n",
       "174   mean_price  0.020369"
      ]
     },
     "execution_count": 57,
     "metadata": {},
     "output_type": "execute_result"
    }
   ],
   "source": [
    "feat_imp_df_temp.head()"
   ]
  },
  {
   "cell_type": "code",
   "execution_count": null,
   "metadata": {},
   "outputs": [],
   "source": []
  },
  {
   "cell_type": "code",
   "execution_count": 50,
   "metadata": {},
   "outputs": [],
   "source": [
    "# rf = RandomForestClassifier(n_estimators=100, n_jobs=-1, max_depth=8, criterion='entropy', random_state=3, class_weight='balanced')\n",
    "# rf.fit(X_trn[imp_feats], y_trn)\n",
    "\n",
    "# train_probs = rf.predict_proba(X_trn[imp_feats])[:,1]\n",
    "# val_probs = rf.predict_proba(X_val[imp_feats])[:,1]\n",
    "# test_probs = rf.predict_proba(X_test[imp_feats])[:,1]\n",
    "\n",
    "# train_preds = rf.predict(X_trn[imp_feats])\n",
    "# val_preds = rf.predict(X_val[imp_feats])\n",
    "# test_preds = rf.predict(X_test[imp_feats])\n",
    "\n",
    "# threshold = 0.5 #0.4622 # 0.5175\n",
    "\n",
    "\n",
    "# roc_auc_score(y_trn, train_probs), roc_auc_score(y_val, val_probs), roc_auc_score(y_test, test_probs)"
   ]
  },
  {
   "cell_type": "code",
   "execution_count": null,
   "metadata": {},
   "outputs": [],
   "source": []
  },
  {
   "cell_type": "code",
   "execution_count": null,
   "metadata": {},
   "outputs": [],
   "source": []
  },
  {
   "cell_type": "code",
   "execution_count": 60,
   "metadata": {
    "tags": []
   },
   "outputs": [
    {
     "name": "stderr",
     "output_type": "stream",
     "text": [
      "[I 2023-08-14 13:29:27,703] A new study created in memory with name: no-name-05e47f28-8643-466b-ab98-3091f97ee3a3\n",
      "[I 2023-08-14 13:30:05,947] Trial 0 finished with value: 0.6789167021879309 and parameters: {'rf_criterion': 'gini', 'rf_class_weight': 'balanced', 'max_depth': 17}. Best is trial 0 with value: 0.6789167021879309.\n",
      "[I 2023-08-14 13:30:20,504] Trial 1 finished with value: 0.6774565804866814 and parameters: {'rf_criterion': 'gini', 'rf_class_weight': 'balanced_subsample', 'max_depth': 3}. Best is trial 0 with value: 0.6789167021879309.\n",
      "[I 2023-08-14 13:31:01,962] Trial 2 finished with value: 0.6586940148935856 and parameters: {'rf_criterion': 'entropy', 'rf_class_weight': 'balanced_subsample', 'max_depth': 20}. Best is trial 0 with value: 0.6789167021879309.\n",
      "[I 2023-08-14 13:31:30,454] Trial 3 finished with value: 0.6972879016796809 and parameters: {'rf_criterion': 'gini', 'rf_class_weight': 'balanced', 'max_depth': 12}. Best is trial 3 with value: 0.6972879016796809.\n",
      "[I 2023-08-14 13:31:47,196] Trial 4 finished with value: 0.6774565804866814 and parameters: {'rf_criterion': 'gini', 'rf_class_weight': 'balanced_subsample', 'max_depth': 3}. Best is trial 3 with value: 0.6972879016796809.\n",
      "[I 2023-08-14 13:32:04,649] Trial 5 finished with value: 0.6912036301721688 and parameters: {'rf_criterion': 'entropy', 'rf_class_weight': 'balanced', 'max_depth': 6}. Best is trial 3 with value: 0.6972879016796809.\n",
      "[I 2023-08-14 13:32:27,204] Trial 6 finished with value: 0.6988652709768727 and parameters: {'rf_criterion': 'gini', 'rf_class_weight': 'balanced_subsample', 'max_depth': 8}. Best is trial 6 with value: 0.6988652709768727.\n",
      "[I 2023-08-14 13:32:47,946] Trial 7 finished with value: 0.6904387726275938 and parameters: {'rf_criterion': 'entropy', 'rf_class_weight': 'balanced_subsample', 'max_depth': 6}. Best is trial 6 with value: 0.6988652709768727.\n",
      "[I 2023-08-14 13:33:11,005] Trial 8 finished with value: 0.6988779437399755 and parameters: {'rf_criterion': 'entropy', 'rf_class_weight': 'balanced', 'max_depth': 8}. Best is trial 8 with value: 0.6988779437399755.\n",
      "[I 2023-08-14 13:33:49,511] Trial 9 finished with value: 0.6754287016780183 and parameters: {'rf_criterion': 'gini', 'rf_class_weight': 'balanced', 'max_depth': 20}. Best is trial 8 with value: 0.6988779437399755.\n",
      "[I 2023-08-14 13:34:27,727] Trial 10 finished with value: 0.6926439950646083 and parameters: {'rf_criterion': 'entropy', 'rf_class_weight': 'balanced', 'max_depth': 12}. Best is trial 8 with value: 0.6988779437399755.\n",
      "[I 2023-08-14 13:34:57,849] Trial 11 finished with value: 0.7019659814541185 and parameters: {'rf_criterion': 'entropy', 'rf_class_weight': 'balanced_subsample', 'max_depth': 9}. Best is trial 11 with value: 0.7019659814541185.\n",
      "[I 2023-08-14 13:35:26,049] Trial 12 finished with value: 0.7019659814541185 and parameters: {'rf_criterion': 'entropy', 'rf_class_weight': 'balanced_subsample', 'max_depth': 9}. Best is trial 11 with value: 0.7019659814541185.\n",
      "[I 2023-08-14 13:36:04,417] Trial 13 finished with value: 0.6823524354885633 and parameters: {'rf_criterion': 'entropy', 'rf_class_weight': 'balanced_subsample', 'max_depth': 15}. Best is trial 11 with value: 0.7019659814541185.\n",
      "[I 2023-08-14 13:36:31,876] Trial 14 finished with value: 0.7000749800339029 and parameters: {'rf_criterion': 'entropy', 'rf_class_weight': 'balanced_subsample', 'max_depth': 10}. Best is trial 11 with value: 0.7019659814541185.\n",
      "[I 2023-08-14 13:37:07,462] Trial 15 finished with value: 0.6842491006812635 and parameters: {'rf_criterion': 'entropy', 'rf_class_weight': 'balanced_subsample', 'max_depth': 14}. Best is trial 11 with value: 0.7019659814541185.\n",
      "[I 2023-08-14 13:37:36,869] Trial 16 finished with value: 0.7000749800339029 and parameters: {'rf_criterion': 'entropy', 'rf_class_weight': 'balanced_subsample', 'max_depth': 10}. Best is trial 11 with value: 0.7019659814541185.\n",
      "[I 2023-08-14 13:37:55,804] Trial 17 finished with value: 0.6904387726275938 and parameters: {'rf_criterion': 'entropy', 'rf_class_weight': 'balanced_subsample', 'max_depth': 6}. Best is trial 11 with value: 0.7019659814541185.\n",
      "[I 2023-08-14 13:38:20,345] Trial 18 finished with value: 0.7019659814541185 and parameters: {'rf_criterion': 'entropy', 'rf_class_weight': 'balanced_subsample', 'max_depth': 9}. Best is trial 11 with value: 0.7019659814541185.\n",
      "[I 2023-08-14 13:38:38,044] Trial 19 finished with value: 0.6862276163352435 and parameters: {'rf_criterion': 'entropy', 'rf_class_weight': 'balanced_subsample', 'max_depth': 5}. Best is trial 11 with value: 0.7019659814541185.\n",
      "[I 2023-08-14 13:39:07,945] Trial 20 finished with value: 0.6842491006812635 and parameters: {'rf_criterion': 'entropy', 'rf_class_weight': 'balanced_subsample', 'max_depth': 14}. Best is trial 11 with value: 0.7019659814541185.\n",
      "[I 2023-08-14 13:39:30,825] Trial 21 finished with value: 0.7012265849051169 and parameters: {'rf_criterion': 'entropy', 'rf_class_weight': 'balanced_subsample', 'max_depth': 8}. Best is trial 11 with value: 0.7019659814541185.\n",
      "[I 2023-08-14 13:39:59,589] Trial 22 finished with value: 0.7000749800339029 and parameters: {'rf_criterion': 'entropy', 'rf_class_weight': 'balanced_subsample', 'max_depth': 10}. Best is trial 11 with value: 0.7019659814541185.\n",
      "[I 2023-08-14 13:40:21,899] Trial 23 finished with value: 0.7012265849051169 and parameters: {'rf_criterion': 'entropy', 'rf_class_weight': 'balanced_subsample', 'max_depth': 8}. Best is trial 11 with value: 0.7019659814541185.\n",
      "[I 2023-08-14 13:40:51,139] Trial 24 finished with value: 0.6934812519027187 and parameters: {'rf_criterion': 'entropy', 'rf_class_weight': 'balanced_subsample', 'max_depth': 12}. Best is trial 11 with value: 0.7019659814541185.\n",
      "[I 2023-08-14 13:41:16,887] Trial 25 finished with value: 0.7019659814541185 and parameters: {'rf_criterion': 'entropy', 'rf_class_weight': 'balanced_subsample', 'max_depth': 9}. Best is trial 11 with value: 0.7019659814541185.\n",
      "[I 2023-08-14 13:41:35,647] Trial 26 finished with value: 0.6862276163352435 and parameters: {'rf_criterion': 'entropy', 'rf_class_weight': 'balanced_subsample', 'max_depth': 5}. Best is trial 11 with value: 0.7019659814541185.\n",
      "[I 2023-08-14 13:42:05,034] Trial 27 finished with value: 0.6987064775024392 and parameters: {'rf_criterion': 'entropy', 'rf_class_weight': 'balanced_subsample', 'max_depth': 11}. Best is trial 11 with value: 0.7019659814541185.\n",
      "[I 2023-08-14 13:42:27,152] Trial 28 finished with value: 0.6957138867676204 and parameters: {'rf_criterion': 'entropy', 'rf_class_weight': 'balanced_subsample', 'max_depth': 7}. Best is trial 11 with value: 0.7019659814541185.\n",
      "[I 2023-08-14 13:43:00,758] Trial 29 finished with value: 0.6789167021879309 and parameters: {'rf_criterion': 'gini', 'rf_class_weight': 'balanced', 'max_depth': 17}. Best is trial 11 with value: 0.7019659814541185.\n",
      "[I 2023-08-14 13:43:29,394] Trial 30 finished with value: 0.6883980074374975 and parameters: {'rf_criterion': 'entropy', 'rf_class_weight': 'balanced_subsample', 'max_depth': 13}. Best is trial 11 with value: 0.7019659814541185.\n",
      "[I 2023-08-14 13:43:52,533] Trial 31 finished with value: 0.7019659814541185 and parameters: {'rf_criterion': 'entropy', 'rf_class_weight': 'balanced_subsample', 'max_depth': 9}. Best is trial 11 with value: 0.7019659814541185.\n",
      "[I 2023-08-14 13:44:16,024] Trial 32 finished with value: 0.7019659814541185 and parameters: {'rf_criterion': 'entropy', 'rf_class_weight': 'balanced_subsample', 'max_depth': 9}. Best is trial 11 with value: 0.7019659814541185.\n",
      "[I 2023-08-14 13:44:43,695] Trial 33 finished with value: 0.6987064775024392 and parameters: {'rf_criterion': 'entropy', 'rf_class_weight': 'balanced_subsample', 'max_depth': 11}. Best is trial 11 with value: 0.7019659814541185.\n",
      "[I 2023-08-14 13:44:57,328] Trial 34 finished with value: 0.6677454161403429 and parameters: {'rf_criterion': 'gini', 'rf_class_weight': 'balanced_subsample', 'max_depth': 2}. Best is trial 11 with value: 0.7019659814541185.\n",
      "[I 2023-08-14 13:45:22,429] Trial 35 finished with value: 0.7019659814541185 and parameters: {'rf_criterion': 'entropy', 'rf_class_weight': 'balanced_subsample', 'max_depth': 9}. Best is trial 11 with value: 0.7019659814541185.\n",
      "[I 2023-08-14 13:45:39,513] Trial 36 finished with value: 0.6810884385083182 and parameters: {'rf_criterion': 'entropy', 'rf_class_weight': 'balanced_subsample', 'max_depth': 4}. Best is trial 11 with value: 0.7019659814541185.\n",
      "[I 2023-08-14 13:45:59,871] Trial 37 finished with value: 0.6964171471780066 and parameters: {'rf_criterion': 'gini', 'rf_class_weight': 'balanced', 'max_depth': 7}. Best is trial 11 with value: 0.7019659814541185.\n",
      "[I 2023-08-14 13:46:26,641] Trial 38 finished with value: 0.6987064775024392 and parameters: {'rf_criterion': 'entropy', 'rf_class_weight': 'balanced_subsample', 'max_depth': 11}. Best is trial 11 with value: 0.7019659814541185.\n",
      "[I 2023-08-14 13:46:47,836] Trial 39 finished with value: 0.695813865919626 and parameters: {'rf_criterion': 'gini', 'rf_class_weight': 'balanced_subsample', 'max_depth': 7}. Best is trial 11 with value: 0.7019659814541185.\n",
      "[I 2023-08-14 13:47:10,993] Trial 40 finished with value: 0.7003391854940915 and parameters: {'rf_criterion': 'entropy', 'rf_class_weight': 'balanced', 'max_depth': 9}. Best is trial 11 with value: 0.7019659814541185.\n",
      "[I 2023-08-14 13:47:35,677] Trial 41 finished with value: 0.7019659814541185 and parameters: {'rf_criterion': 'entropy', 'rf_class_weight': 'balanced_subsample', 'max_depth': 9}. Best is trial 11 with value: 0.7019659814541185.\n",
      "[I 2023-08-14 13:48:00,685] Trial 42 finished with value: 0.7000749800339029 and parameters: {'rf_criterion': 'entropy', 'rf_class_weight': 'balanced_subsample', 'max_depth': 10}. Best is trial 11 with value: 0.7019659814541185.\n",
      "[I 2023-08-14 13:48:23,814] Trial 43 finished with value: 0.7012265849051169 and parameters: {'rf_criterion': 'entropy', 'rf_class_weight': 'balanced_subsample', 'max_depth': 8}. Best is trial 11 with value: 0.7019659814541185.\n",
      "[I 2023-08-14 13:48:51,316] Trial 44 finished with value: 0.6987064775024392 and parameters: {'rf_criterion': 'entropy', 'rf_class_weight': 'balanced_subsample', 'max_depth': 11}. Best is trial 11 with value: 0.7019659814541185.\n",
      "[I 2023-08-14 13:49:13,149] Trial 45 finished with value: 0.6957138867676204 and parameters: {'rf_criterion': 'entropy', 'rf_class_weight': 'balanced_subsample', 'max_depth': 7}. Best is trial 11 with value: 0.7019659814541185.\n",
      "[I 2023-08-14 13:49:44,060] Trial 46 finished with value: 0.6883980074374975 and parameters: {'rf_criterion': 'entropy', 'rf_class_weight': 'balanced_subsample', 'max_depth': 13}. Best is trial 11 with value: 0.7019659814541185.\n",
      "[I 2023-08-14 13:50:01,867] Trial 47 finished with value: 0.6912036301721688 and parameters: {'rf_criterion': 'entropy', 'rf_class_weight': 'balanced', 'max_depth': 6}. Best is trial 11 with value: 0.7019659814541185.\n",
      "[I 2023-08-14 13:50:28,109] Trial 48 finished with value: 0.6995729942783198 and parameters: {'rf_criterion': 'gini', 'rf_class_weight': 'balanced_subsample', 'max_depth': 10}. Best is trial 11 with value: 0.7019659814541185.\n",
      "[I 2023-08-14 13:50:52,768] Trial 49 finished with value: 0.7019659814541185 and parameters: {'rf_criterion': 'entropy', 'rf_class_weight': 'balanced_subsample', 'max_depth': 9}. Best is trial 11 with value: 0.7019659814541185.\n"
     ]
    },
    {
     "name": "stdout",
     "output_type": "stream",
     "text": [
      "Number of finished trials: 50\n",
      "Best trial:\n",
      "  Value: 0.7019659814541185\n",
      "  Params: \n",
      "    rf_criterion: entropy\n",
      "    rf_class_weight: balanced_subsample\n",
      "    max_depth: 9\n"
     ]
    }
   ],
   "source": [
    "import optuna\n",
    "\n",
    "def objective(trial):\n",
    "    # param_space = {'rf_bootstrap': trial.suggest_categorical('rf_bootstrap', [True, False]),\n",
    "    #     'rf_criterion': trial.suggest_categorical('rf_criterion', ['entropy', 'gini']),\n",
    "    #     'rf_class_weight': trial.suggest_categorical('rf_class_weight', [\"balanced\", \"balanced_subsample\"]),\n",
    "    #     'rf_max_depth': trial.suggest_int('max_depth', 2, 30, log=True),\n",
    "    #     'rf_min_samples_leaf': trial.suggest_int('rf_min_samples_leaf', 1, 15, log=True),\n",
    "    #     'rf_min_samples_split': trial.suggest_int('rf_min_samples_split', 2, 15, log=True),\n",
    "    #     'rf_max_leaf_nodes': trial.suggest_int('rf_max_leaf_nodes', 2, 15, log=True),\n",
    "    #     'rf_min_impurity_decrease': trial.suggest_float('rf_min_impurity_decrease', 0, 0.5, step=.1),\n",
    "    #     'rf_min_weight_fraction_leaf': trial.suggest_float('rf_min_weight_fraction_leaf', 0, 0.5, step=.1),\n",
    "    #     # 'rf_n_estimators': trial.suggest_int(\"rf_n_estimators\", 100, 200, log=True)\n",
    "    #     }\n",
    "    # clf = RandomForestClassifier(random_state=1, n_jobs=-1,\n",
    "    #                             bootstrap=param_space['rf_bootstrap'],\n",
    "    #                             criterion=param_space['rf_criterion'],\n",
    "    #                             class_weight=param_space['rf_class_weight'],\n",
    "    #                             max_depth=param_space['rf_max_depth'],\n",
    "    #                             min_samples_leaf=param_space['rf_min_samples_leaf'],\n",
    "    #                             min_samples_split=param_space['rf_min_samples_split'],\n",
    "    #                             max_leaf_nodes=param_space['rf_max_leaf_nodes'],\n",
    "    #                             min_impurity_decrease=param_space['rf_min_impurity_decrease'],\n",
    "    #                             min_weight_fraction_leaf=param_space['rf_min_weight_fraction_leaf'],\n",
    "    #                             # n_estimators=param_space['rf_n_estimators']\n",
    "    #                     )\n",
    "\n",
    "    param_space = {\n",
    "        'rf_criterion': trial.suggest_categorical('rf_criterion', ['entropy', 'gini']),\n",
    "        'rf_class_weight': trial.suggest_categorical('rf_class_weight', [\"balanced\", \"balanced_subsample\"]),\n",
    "        'rf_max_depth': trial.suggest_int('max_depth', 2, 20),\n",
    "        }\n",
    "    clf = RandomForestClassifier(random_state=1, n_jobs=-1,\n",
    "                                criterion=param_space['rf_criterion'],\n",
    "                                class_weight=param_space['rf_class_weight'],\n",
    "                                max_depth=param_space['rf_max_depth'],\n",
    "                        )\n",
    "    \n",
    "    clf.fit(X_trn[imp_feats], y_trn)\n",
    "    val_probs = clf.predict_proba(X_val[imp_feats])[:, 1]\n",
    "    auc = roc_auc_score(y_val, val_probs)\n",
    "    return auc\n",
    "\n",
    "\n",
    "study = optuna.create_study(direction=\"maximize\")\n",
    "study.optimize(objective, n_trials=50) # timeout=600\n",
    "\n",
    "print(\"Number of finished trials: {}\".format(len(study.trials)))\n",
    "\n",
    "print(\"Best trial:\")\n",
    "trial = study.best_trial\n",
    "\n",
    "print(\"  Value: {}\".format(trial.value))\n",
    "\n",
    "print(\"  Params: \")\n",
    "for key, value in trial.params.items():\n",
    "    print(\"    {}: {}\".format(key, value))"
   ]
  },
  {
   "cell_type": "code",
   "execution_count": 61,
   "metadata": {},
   "outputs": [
    {
     "name": "stdout",
     "output_type": "stream",
     "text": [
      "train_auc :  0.7732\n",
      "val_auc :  0.7005\n",
      "test_auc :  0.6949\n"
     ]
    }
   ],
   "source": [
    "# best val auc : 0.7000666835598351\n",
    "\n",
    "best_params = {\n",
    "    'criterion': 'gini',\n",
    "    'class_weight': 'balanced',\n",
    "    'max_depth': 8\n",
    "    }\n",
    "rf_final = RandomForestClassifier(random_state=1, n_jobs=-1,\n",
    "    criterion='gini',\n",
    "    class_weight='balanced',\n",
    "    max_depth=8)\n",
    "\n",
    "rf_final.fit(X_trn[imp_feats], y_trn)\n",
    "\n",
    "train_probs = rf_final.predict_proba(X_trn[imp_feats])[:,1]\n",
    "val_probs = rf_final.predict_proba(X_val[imp_feats])[:,1]\n",
    "test_probs = rf_final.predict_proba(X_test[imp_feats])[:,1]\n",
    "\n",
    "train_preds = rf_final.predict(X_trn[imp_feats])\n",
    "val_preds = rf_final.predict(X_val[imp_feats])\n",
    "test_preds = rf_final.predict(X_test[imp_feats])\n",
    "\n",
    "threshold = 0.5 #0.4622 # 0.5175\n",
    "\n",
    "\n",
    "print('train_auc : ', np.round(roc_auc_score(y_trn, train_probs), 4))\n",
    "print('val_auc : ', np.round(roc_auc_score(y_val, val_probs), 4))\n",
    "print('test_auc : ', np.round(roc_auc_score(y_test, test_probs), 4))"
   ]
  },
  {
   "cell_type": "code",
   "execution_count": null,
   "metadata": {},
   "outputs": [],
   "source": []
  },
  {
   "cell_type": "code",
   "execution_count": null,
   "metadata": {},
   "outputs": [],
   "source": [
    "# !pip3 install optuna --upgrade"
   ]
  },
  {
   "cell_type": "code",
   "execution_count": null,
   "metadata": {},
   "outputs": [],
   "source": [
    "# import lightgbm as lgb\n",
    "# def runLGB(train_X, train_y, test_X, test_y=None, test_X2=None, dep=8, seed=0, data_leaf=200):\n",
    "#     params = {}\n",
    "#     params[\"objective\"] = \"binary\"\n",
    "#     params['metric'] = 'auc'\n",
    "#     params[\"max_depth\"] = dep\n",
    "#     params[\"num_leaves\"] = 30\n",
    "#     params[\"min_data_in_leaf\"] = data_leaf\n",
    "#     params[\"learning_rate\"] = 0.01\n",
    "#     params[\"bagging_fraction\"] = 0.8\n",
    "#     params[\"feature_fraction\"] = 0.35\n",
    "#     params[\"feature_fraction_seed\"] = seed\n",
    "#     params[\"bagging_freq\"] = 1\n",
    "#     params[\"bagging_seed\"] = seed\n",
    "#     params[\"lambda_l2\"] = 5\n",
    "#     params[\"lambda_l1\"] = 5\n",
    "#     params[\"verbosity\"] = -1\n",
    "#     num_rounds = 20000\n",
    "\n",
    "#     plst = list(params.items())\n",
    "#     lgtrain = lgb.Dataset(train_X, label=train_y)\n",
    "\n",
    "#     if test_y is not None:\n",
    "#         lgtest = lgb.Dataset(test_X, label=test_y)\n",
    "#         model = lgb.train(params, lgtrain, num_rounds, valid_sets=[lgtest], early_stopping_rounds=200, verbose_eval=500)\n",
    "#     else:\n",
    "#         lgtest = lgb.DMatrix(test_X)\n",
    "#         model = lgb.train(params, lgtrain, num_rounds)\n",
    "\n",
    "#     pred_test_y = model.predict(test_X, num_iteration=model.best_iteration)\n",
    "#     # pred_test_y2 = model.predict(test_X2, num_iteration=model.best_iteration)\n",
    "#     #imps = model.feature_importance()\n",
    "#     #names = model.feature_name()\n",
    "#     #for fi, fn in enumerate(names):\n",
    "#     #    print(fn, imps[fi])\n",
    "\n",
    "#     loss = 0\n",
    "#     if test_y is not None:\n",
    "#         loss = roc_auc_score(test_y, pred_test_y)\n",
    "#         print(loss)\n",
    "#         # return model, loss, pred_test_y, pred_test_y2\n",
    "#     else:\n",
    "#         pass\n",
    "#         # return model, loss, pred_test_y, pred_test_y2\n",
    "# runLGB(X_trn[imp_feats], y_trn, X_val[imp_feats], test_y=y_val, test_X2=None, dep=8, seed=0, data_leaf=200)\n",
    "\n",
    "## lgb val auc score :  0.7301844836767017"
   ]
  },
  {
   "cell_type": "markdown",
   "metadata": {},
   "source": [
    "# keras neural network"
   ]
  },
  {
   "cell_type": "code",
   "execution_count": 63,
   "metadata": {},
   "outputs": [],
   "source": [
    "import keras\n",
    "import tensorflow as tf      ##for building neural network models\n",
    "\n",
    "from keras.layers import Dense\n",
    "from keras.layers import Dropout\n",
    "from keras.layers import BatchNormalization    ##layers from Keras for specifying layers in the model.\n",
    "from keras.models import Sequential            ##defining a linear stack of layers.\n",
    "from keras.optimizers import RMSprop, Adam     ##optimizers from Keras for optimization.\n",
    "\n",
    "import optuna                                  ##hyperparameter optimization using Optuna.\n",
    "from optuna.integration import KerasPruningCallback\n",
    "from optuna.trial import TrialState             ##monitoring and pruning trials during optimization."
   ]
  },
  {
   "cell_type": "code",
   "execution_count": 62,
   "metadata": {},
   "outputs": [
    {
     "data": {
      "text/plain": [
       "40718     0\n",
       "160773    0\n",
       "206270    0\n",
       "79616     0\n",
       "35966     0\n",
       "Name: is_click, dtype: int64"
      ]
     },
     "execution_count": 62,
     "metadata": {},
     "output_type": "execute_result"
    }
   ],
   "source": [
    "y_train.head()"
   ]
  },
  {
   "cell_type": "code",
   "execution_count": 64,
   "metadata": {},
   "outputs": [
    {
     "data": {
      "text/plain": [
       "{0: 0.5239503704574856, 1: 10.938251902774368}"
      ]
     },
     "execution_count": 64,
     "metadata": {},
     "output_type": "execute_result"
    }
   ],
   "source": [
    "from sklearn.utils import compute_class_weight\n",
    "\n",
    "# class_weights = dict(zip(sorted(np.unique(y_train)), \n",
    "#                                 compute_class_weight(class_weight = \"balanced\", \n",
    "#                                     classes=np.unique(y_train), \n",
    "#                                     y=y_train['is_click'].values)\n",
    "#                         ))\n",
    "# class_weights\n",
    "\n",
    "class_weights = dict(zip(sorted(np.unique(y_train)), \n",
    "                                compute_class_weight(class_weight = \"balanced\", \n",
    "                                    classes=np.unique(y_train), \n",
    "                                    y=y_train.values)\n",
    "                        ))\n",
    "class_weights\n"
   ]
  },
  {
   "cell_type": "code",
   "execution_count": 65,
   "metadata": {},
   "outputs": [],
   "source": [
    "def create_model(trial):   ##constructs a neural network model with variable architecture parameters determined by the Optuna trials.\n",
    "                          \n",
    "    # We optimize the number of layers, hidden units and dropout in each layer and\n",
    "    # the learning rate of RMSProp optimizer.\n",
    "\n",
    "    # We define our MLP.\n",
    "    n_layers = trial.suggest_int(\"n_layers\", 1, 3)\n",
    "    model = Sequential()\n",
    "    for i in range(n_layers):\n",
    "        \n",
    "        num_hidden = trial.suggest_int(\"n_units_l{}\".format(i), 4, 64, log=True)\n",
    "        model.add(Dense(num_hidden, activation=\"relu\"))\n",
    "        \n",
    "        model.add(BatchNormalization())\n",
    "        \n",
    "        dropout = trial.suggest_float(\"dropout_l{}\".format(i), 0.2, 0.5)\n",
    "        model.add(Dropout(rate=dropout))\n",
    "        \n",
    "    model.add(Dense(1, activation=\"sigmoid\"))\n",
    "\n",
    "    # We compile our model with a sampled learning rate.\n",
    "    learning_rate = trial.suggest_float(\"learning_rate\", 1e-3, 1e-1, log=True)\n",
    "\n",
    "    model.compile(\n",
    "        loss=\"binary_crossentropy\",\n",
    "        optimizer=Adam(learning_rate=learning_rate),\n",
    "        metrics=[tf.keras.metrics.AUC()],\n",
    "    )\n",
    "\n",
    "    return model\n",
    "\n",
    "\n",
    "\n",
    "def objective(trial):     ##It also defines an objective function objective(trial) that utilizes the KerasPruningCallback for early stopping based on the validation AUC score during training.\n",
    "    # Clear clutter from previous session graphs.\n",
    "    keras.backend.clear_session()\n",
    "\n",
    "    # Generate our trial model.\n",
    "    model = create_model(trial)\n",
    "\n",
    "    # Fit the model on the training data.\n",
    "    # The KerasPruningCallback checks for pruning condition every epoch.\n",
    "    model.fit(\n",
    "        x_train,\n",
    "        y_train,\n",
    "        batch_size=BATCHSIZE,\n",
    "        callbacks=[KerasPruningCallback(trial, \"val_auc\")],\n",
    "        epochs=EPOCHS,\n",
    "        class_weight=class_weights,\n",
    "        validation_data=(x_valid, y_valid),\n",
    "        verbose=1,\n",
    "    )\n",
    "\n",
    "    # Evaluate the model accuracy on the validation set.\n",
    "    score = model.evaluate(x_valid, y_valid, verbose=0)\n",
    "    return score[1]"
   ]
  },
  {
   "cell_type": "code",
   "execution_count": 66,
   "metadata": {},
   "outputs": [],
   "source": [
    "# The data is split between train and validation sets.\n",
    "# x_train, x_valid, y_train, y_valid = train_test_split(X, y, random_state=1)\n",
    "\n",
    "from sklearn.preprocessing import StandardScaler\n",
    "\n",
    "x_train = X_trn[imp_feats].copy()\n",
    "x_valid = X_val[imp_feats].copy()\n",
    "x_test = X_test[imp_feats].copy()\n",
    "\n",
    "y_train = y_trn\n",
    "y_valid = y_val\n",
    "y_test = y_test\n",
    "\n",
    "\n",
    "scaler = StandardScaler()\n",
    "x_train = scaler.fit_transform(x_train)\n",
    "x_valid = scaler.transform(x_valid)\n",
    "x_test = scaler.transform(x_test)\n",
    "\n",
    "\n",
    "N_TRAIN_EXAMPLES = x_train.shape[0]\n",
    "N_VALID_EXAMPLES = x_valid.shape[0]\n",
    "BATCHSIZE = 64\n",
    "EPOCHS = 10"
   ]
  },
  {
   "cell_type": "code",
   "execution_count": null,
   "metadata": {},
   "outputs": [],
   "source": []
  },
  {
   "cell_type": "code",
   "execution_count": 67,
   "metadata": {
    "tags": []
   },
   "outputs": [
    {
     "name": "stderr",
     "output_type": "stream",
     "text": [
      "[I 2023-08-14 14:20:03,186] A new study created in memory with name: no-name-e6b9dc3a-5430-40c7-898d-32101acfa102\n"
     ]
    },
    {
     "name": "stdout",
     "output_type": "stream",
     "text": [
      "Epoch 1/10\n",
      "   5/2089 [..............................] - ETA: 27s - loss: 0.8852 - auc: 0.4230    WARNING:tensorflow:Callback method `on_train_batch_end` is slow compared to the batch time (batch time: 0.0048s vs `on_train_batch_end` time: 0.0060s). Check your callbacks.\n",
      "2089/2089 [==============================] - 26s 9ms/step - loss: 0.7022 - auc: 0.5206 - val_loss: 0.6784 - val_auc: 0.6083\n",
      "Epoch 2/10\n",
      "2089/2089 [==============================] - 19s 9ms/step - loss: 0.6697 - auc: 0.6278 - val_loss: 0.6142 - val_auc: 0.6805\n",
      "Epoch 3/10\n",
      "2089/2089 [==============================] - 18s 9ms/step - loss: 0.6547 - auc: 0.6594 - val_loss: 0.6500 - val_auc: 0.6996\n",
      "Epoch 4/10\n",
      "2089/2089 [==============================] - 19s 9ms/step - loss: 0.6514 - auc: 0.6657 - val_loss: 0.7454 - val_auc: 0.7014\n",
      "Epoch 5/10\n",
      "2089/2089 [==============================] - 18s 8ms/step - loss: 0.6472 - auc: 0.6703 - val_loss: 0.8038 - val_auc: 0.7034\n",
      "Epoch 6/10\n",
      "2089/2089 [==============================] - 18s 9ms/step - loss: 0.6453 - auc: 0.6744 - val_loss: 0.7330 - val_auc: 0.7055\n",
      "Epoch 7/10\n",
      "2089/2089 [==============================] - 21s 10ms/step - loss: 0.6456 - auc: 0.6753 - val_loss: 0.5690 - val_auc: 0.7080\n",
      "Epoch 8/10\n",
      "2089/2089 [==============================] - 18s 9ms/step - loss: 0.6422 - auc: 0.6832 - val_loss: 0.8174 - val_auc: 0.7046\n",
      "Epoch 9/10\n",
      "2089/2089 [==============================] - 19s 9ms/step - loss: 0.6413 - auc: 0.6809 - val_loss: 0.6074 - val_auc: 0.7074\n",
      "Epoch 10/10\n",
      "2089/2089 [==============================] - 24s 12ms/step - loss: 0.6419 - auc: 0.6824 - val_loss: 0.6459 - val_auc: 0.7060\n"
     ]
    },
    {
     "name": "stderr",
     "output_type": "stream",
     "text": [
      "[I 2023-08-14 14:23:36,523] Trial 0 finished with value: 0.7059556245803833 and parameters: {'n_layers': 3, 'n_units_l0': 4, 'dropout_l0': 0.21816946430233886, 'n_units_l1': 4, 'dropout_l1': 0.2632315387061337, 'n_units_l2': 51, 'dropout_l2': 0.30263427342924487, 'learning_rate': 0.018652731142954054}. Best is trial 0 with value: 0.7059556245803833.\n"
     ]
    },
    {
     "name": "stdout",
     "output_type": "stream",
     "text": [
      "Epoch 1/10\n",
      "2089/2089 [==============================] - 28s 10ms/step - loss: 0.6912 - auc: 0.5852 - val_loss: 0.6503 - val_auc: 0.6555\n",
      "Epoch 2/10\n",
      "2089/2089 [==============================] - 19s 9ms/step - loss: 0.6549 - auc: 0.6538 - val_loss: 0.6623 - val_auc: 0.6907\n",
      "Epoch 3/10\n",
      "2089/2089 [==============================] - 17s 8ms/step - loss: 0.6438 - auc: 0.6767 - val_loss: 0.6528 - val_auc: 0.6971\n",
      "Epoch 4/10\n",
      "2089/2089 [==============================] - 19s 9ms/step - loss: 0.6397 - auc: 0.6808 - val_loss: 0.6544 - val_auc: 0.7000\n",
      "Epoch 5/10\n",
      "2089/2089 [==============================] - 20s 10ms/step - loss: 0.6396 - auc: 0.6814 - val_loss: 0.7161 - val_auc: 0.7033\n",
      "Epoch 6/10\n",
      "2089/2089 [==============================] - 22s 10ms/step - loss: 0.6331 - auc: 0.6891 - val_loss: 0.6407 - val_auc: 0.7033\n",
      "Epoch 7/10\n",
      "2089/2089 [==============================] - 25s 12ms/step - loss: 0.6349 - auc: 0.6884 - val_loss: 0.5763 - val_auc: 0.7041\n",
      "Epoch 8/10\n",
      "2089/2089 [==============================] - 26s 12ms/step - loss: 0.6335 - auc: 0.6884 - val_loss: 0.6702 - val_auc: 0.7038\n",
      "Epoch 9/10\n",
      "2089/2089 [==============================] - 21s 10ms/step - loss: 0.6325 - auc: 0.6896 - val_loss: 0.6648 - val_auc: 0.7012\n",
      "Epoch 10/10\n",
      "2089/2089 [==============================] - 20s 10ms/step - loss: 0.6303 - auc: 0.6943 - val_loss: 0.5929 - val_auc: 0.7075\n"
     ]
    },
    {
     "name": "stderr",
     "output_type": "stream",
     "text": [
      "[I 2023-08-14 14:27:24,943] Trial 1 finished with value: 0.7074680328369141 and parameters: {'n_layers': 3, 'n_units_l0': 7, 'dropout_l0': 0.30901183277535893, 'n_units_l1': 21, 'dropout_l1': 0.34783743006498125, 'n_units_l2': 57, 'dropout_l2': 0.24668375570915357, 'learning_rate': 0.007725301082937703}. Best is trial 1 with value: 0.7074680328369141.\n"
     ]
    },
    {
     "name": "stdout",
     "output_type": "stream",
     "text": [
      "Epoch 1/10\n",
      "2089/2089 [==============================] - 19s 7ms/step - loss: 0.6519 - auc: 0.6609 - val_loss: 0.6383 - val_auc: 0.7032\n",
      "Epoch 2/10\n",
      "2089/2089 [==============================] - 18s 9ms/step - loss: 0.6349 - auc: 0.6884 - val_loss: 0.6783 - val_auc: 0.7045\n",
      "Epoch 3/10\n",
      "2089/2089 [==============================] - 14s 7ms/step - loss: 0.6309 - auc: 0.6945 - val_loss: 0.6432 - val_auc: 0.7080\n",
      "Epoch 4/10\n",
      "2089/2089 [==============================] - 20s 10ms/step - loss: 0.6289 - auc: 0.6981 - val_loss: 0.5796 - val_auc: 0.7030\n",
      "Epoch 5/10\n",
      "2089/2089 [==============================] - 20s 9ms/step - loss: 0.6295 - auc: 0.6974 - val_loss: 0.5911 - val_auc: 0.7094\n",
      "Epoch 6/10\n",
      "2089/2089 [==============================] - 22s 11ms/step - loss: 0.6271 - auc: 0.6998 - val_loss: 0.6345 - val_auc: 0.7063\n",
      "Epoch 7/10\n",
      "2089/2089 [==============================] - 15s 7ms/step - loss: 0.6258 - auc: 0.7027 - val_loss: 0.6909 - val_auc: 0.7071\n",
      "Epoch 8/10\n",
      "2089/2089 [==============================] - 16s 8ms/step - loss: 0.6262 - auc: 0.7025 - val_loss: 0.6369 - val_auc: 0.7096\n",
      "Epoch 9/10\n",
      "2089/2089 [==============================] - 15s 7ms/step - loss: 0.6248 - auc: 0.7039 - val_loss: 0.6583 - val_auc: 0.7084\n",
      "Epoch 10/10\n",
      "2089/2089 [==============================] - 16s 8ms/step - loss: 0.6242 - auc: 0.7046 - val_loss: 0.6173 - val_auc: 0.6983\n"
     ]
    },
    {
     "name": "stderr",
     "output_type": "stream",
     "text": [
      "[I 2023-08-14 14:30:31,702] Trial 2 finished with value: 0.6983424425125122 and parameters: {'n_layers': 1, 'n_units_l0': 6, 'dropout_l0': 0.2729140301691247, 'learning_rate': 0.008294586870835568}. Best is trial 1 with value: 0.7074680328369141.\n"
     ]
    },
    {
     "name": "stdout",
     "output_type": "stream",
     "text": [
      "Epoch 1/10\n",
      "2089/2089 [==============================] - 27s 9ms/step - loss: 0.6774 - auc: 0.6079 - val_loss: 0.5093 - val_auc: 0.6884\n",
      "Epoch 2/10\n",
      "2089/2089 [==============================] - 21s 10ms/step - loss: 0.6602 - auc: 0.6456 - val_loss: 0.5835 - val_auc: 0.6969\n",
      "Epoch 3/10\n",
      "2089/2089 [==============================] - 19s 9ms/step - loss: 0.6525 - auc: 0.6612 - val_loss: 0.6461 - val_auc: 0.7029\n",
      "Epoch 4/10\n",
      "2089/2089 [==============================] - 18s 9ms/step - loss: 0.6491 - auc: 0.6704 - val_loss: 0.6870 - val_auc: 0.7012\n",
      "Epoch 5/10\n",
      "2089/2089 [==============================] - 22s 10ms/step - loss: 0.6452 - auc: 0.6759 - val_loss: 0.5564 - val_auc: 0.7019\n",
      "Epoch 6/10\n",
      "2089/2089 [==============================] - 18s 8ms/step - loss: 0.6453 - auc: 0.6775 - val_loss: 0.8520 - val_auc: 0.7098\n",
      "Epoch 7/10\n",
      "2089/2089 [==============================] - 18s 8ms/step - loss: 0.6417 - auc: 0.6838 - val_loss: 0.6220 - val_auc: 0.7082\n",
      "Epoch 8/10\n",
      "2089/2089 [==============================] - 19s 9ms/step - loss: 0.6403 - auc: 0.6846 - val_loss: 0.9263 - val_auc: 0.7087\n",
      "Epoch 9/10\n",
      "2089/2089 [==============================] - 19s 9ms/step - loss: 0.6381 - auc: 0.6877 - val_loss: 0.5557 - val_auc: 0.7050\n",
      "Epoch 10/10\n",
      "2089/2089 [==============================] - 18s 9ms/step - loss: 0.6392 - auc: 0.6854 - val_loss: 0.5946 - val_auc: 0.7061\n"
     ]
    },
    {
     "name": "stderr",
     "output_type": "stream",
     "text": [
      "[I 2023-08-14 14:34:02,982] Trial 3 finished with value: 0.706112802028656 and parameters: {'n_layers': 3, 'n_units_l0': 13, 'dropout_l0': 0.34490801257134346, 'n_units_l1': 11, 'dropout_l1': 0.27116182699994573, 'n_units_l2': 10, 'dropout_l2': 0.35102379445744214, 'learning_rate': 0.029848670749115215}. Best is trial 1 with value: 0.7074680328369141.\n"
     ]
    },
    {
     "name": "stdout",
     "output_type": "stream",
     "text": [
      "Epoch 1/10\n",
      "2089/2089 [==============================] - 30s 12ms/step - loss: 0.7143 - auc: 0.5925 - val_loss: 0.6660 - val_auc: 0.6834\n",
      "Epoch 2/10\n",
      "2089/2089 [==============================] - 16s 8ms/step - loss: 0.6432 - auc: 0.6763 - val_loss: 0.6390 - val_auc: 0.7018\n",
      "Epoch 3/10\n",
      "2089/2089 [==============================] - 19s 9ms/step - loss: 0.6337 - auc: 0.6915 - val_loss: 0.6344 - val_auc: 0.7051\n",
      "Epoch 4/10\n",
      "2089/2089 [==============================] - 17s 8ms/step - loss: 0.6288 - auc: 0.6977 - val_loss: 0.6277 - val_auc: 0.7069\n",
      "Epoch 5/10\n",
      "2089/2089 [==============================] - 16s 8ms/step - loss: 0.6256 - auc: 0.7024 - val_loss: 0.6105 - val_auc: 0.7072\n",
      "Epoch 6/10\n",
      "2089/2089 [==============================] - 18s 9ms/step - loss: 0.6233 - auc: 0.7065 - val_loss: 0.6299 - val_auc: 0.7078\n",
      "Epoch 7/10\n",
      "2089/2089 [==============================] - 17s 8ms/step - loss: 0.6198 - auc: 0.7104 - val_loss: 0.6181 - val_auc: 0.7093\n",
      "Epoch 8/10\n",
      "2089/2089 [==============================] - 19s 9ms/step - loss: 0.6198 - auc: 0.7102 - val_loss: 0.6187 - val_auc: 0.7084\n",
      "Epoch 9/10\n",
      "2089/2089 [==============================] - 19s 9ms/step - loss: 0.6151 - auc: 0.7156 - val_loss: 0.6199 - val_auc: 0.7085\n",
      "Epoch 10/10\n",
      "2089/2089 [==============================] - 17s 8ms/step - loss: 0.6149 - auc: 0.7160 - val_loss: 0.6252 - val_auc: 0.7083\n"
     ]
    },
    {
     "name": "stderr",
     "output_type": "stream",
     "text": [
      "[I 2023-08-14 14:37:16,942] Trial 4 finished with value: 0.7083045244216919 and parameters: {'n_layers': 2, 'n_units_l0': 38, 'dropout_l0': 0.34091585626034293, 'n_units_l1': 12, 'dropout_l1': 0.39724704149179035, 'learning_rate': 0.001076392482509557}. Best is trial 4 with value: 0.7083045244216919.\n"
     ]
    },
    {
     "name": "stdout",
     "output_type": "stream",
     "text": [
      "Epoch 1/10\n",
      "2089/2089 [==============================] - 23s 8ms/step - loss: 0.6820 - auc: 0.5911 - val_loss: 0.5796 - val_auc: 0.6906\n",
      "Epoch 2/10\n",
      "2089/2089 [==============================] - 17s 8ms/step - loss: 0.6629 - auc: 0.6458 - val_loss: 0.7848 - val_auc: 0.7053\n",
      "Epoch 3/10\n",
      "2089/2089 [==============================] - 17s 8ms/step - loss: 0.6574 - auc: 0.6584 - val_loss: 0.5696 - val_auc: 0.7079\n",
      "Epoch 4/10\n",
      "2089/2089 [==============================] - 15s 7ms/step - loss: 0.6508 - auc: 0.6696 - val_loss: 0.6486 - val_auc: 0.7045\n",
      "Epoch 5/10\n",
      "2089/2089 [==============================] - 17s 8ms/step - loss: 0.6520 - auc: 0.6686 - val_loss: 0.6307 - val_auc: 0.7049\n",
      "Epoch 6/10\n",
      "2089/2089 [==============================] - 18s 9ms/step - loss: 0.6455 - auc: 0.6802 - val_loss: 0.6134 - val_auc: 0.7086\n",
      "Epoch 7/10\n",
      "2089/2089 [==============================] - 16s 8ms/step - loss: 0.6448 - auc: 0.6808 - val_loss: 0.7705 - val_auc: 0.7064\n",
      "Epoch 8/10\n",
      "2089/2089 [==============================] - 18s 9ms/step - loss: 0.6446 - auc: 0.6812 - val_loss: 0.7012 - val_auc: 0.7077\n",
      "Epoch 9/10\n",
      "2089/2089 [==============================] - 18s 9ms/step - loss: 0.6393 - auc: 0.6888 - val_loss: 0.6162 - val_auc: 0.7069\n",
      "Epoch 10/10\n",
      "2089/2089 [==============================] - 19s 9ms/step - loss: 0.6402 - auc: 0.6879 - val_loss: 0.5744 - val_auc: 0.7095\n"
     ]
    },
    {
     "name": "stderr",
     "output_type": "stream",
     "text": [
      "[I 2023-08-14 14:40:21,842] Trial 5 finished with value: 0.7095242738723755 and parameters: {'n_layers': 2, 'n_units_l0': 17, 'dropout_l0': 0.3352396120090505, 'n_units_l1': 4, 'dropout_l1': 0.27170607352371484, 'learning_rate': 0.058360494586791226}. Best is trial 5 with value: 0.7095242738723755.\n"
     ]
    },
    {
     "name": "stdout",
     "output_type": "stream",
     "text": [
      "Epoch 1/10\n",
      "2089/2089 [==============================] - 22s 8ms/step - loss: 0.6591 - auc: 0.6516 - val_loss: 0.6600 - val_auc: 0.6998\n",
      "Epoch 2/10\n",
      "2089/2089 [==============================] - 14s 7ms/step - loss: 0.6402 - auc: 0.6794 - val_loss: 0.7268 - val_auc: 0.7020\n",
      "Epoch 3/10\n",
      "2089/2089 [==============================] - 15s 7ms/step - loss: 0.6367 - auc: 0.6871 - val_loss: 0.6090 - val_auc: 0.7052\n",
      "Epoch 4/10\n",
      "2089/2089 [==============================] - 14s 7ms/step - loss: 0.6331 - auc: 0.6930 - val_loss: 0.6439 - val_auc: 0.7062\n",
      "Epoch 5/10\n",
      "2089/2089 [==============================] - 14s 7ms/step - loss: 0.6330 - auc: 0.6940 - val_loss: 0.5572 - val_auc: 0.7082\n",
      "Epoch 6/10\n",
      "2089/2089 [==============================] - 16s 8ms/step - loss: 0.6315 - auc: 0.6961 - val_loss: 0.6015 - val_auc: 0.7097\n",
      "Epoch 7/10\n",
      "2089/2089 [==============================] - 18s 9ms/step - loss: 0.6310 - auc: 0.6961 - val_loss: 0.6184 - val_auc: 0.7076\n",
      "Epoch 8/10\n",
      "2089/2089 [==============================] - 15s 7ms/step - loss: 0.6297 - auc: 0.6984 - val_loss: 0.6103 - val_auc: 0.7085\n",
      "Epoch 9/10\n",
      "2089/2089 [==============================] - 16s 8ms/step - loss: 0.6287 - auc: 0.6978 - val_loss: 0.6770 - val_auc: 0.7071\n",
      "Epoch 10/10\n",
      "2089/2089 [==============================] - 14s 7ms/step - loss: 0.6279 - auc: 0.6998 - val_loss: 0.6315 - val_auc: 0.7090\n"
     ]
    },
    {
     "name": "stderr",
     "output_type": "stream",
     "text": [
      "[I 2023-08-14 14:43:09,678] Trial 6 finished with value: 0.709039568901062 and parameters: {'n_layers': 1, 'n_units_l0': 10, 'dropout_l0': 0.385575082424221, 'learning_rate': 0.012733201087175995}. Best is trial 5 with value: 0.7095242738723755.\n"
     ]
    },
    {
     "name": "stdout",
     "output_type": "stream",
     "text": [
      "Epoch 1/10\n",
      "2089/2089 [==============================] - 19s 7ms/step - loss: 0.6752 - auc: 0.6377 - val_loss: 0.6448 - val_auc: 0.7032\n",
      "Epoch 2/10\n",
      "2089/2089 [==============================] - 14s 6ms/step - loss: 0.6325 - auc: 0.6921 - val_loss: 0.6265 - val_auc: 0.7050\n",
      "Epoch 3/10\n",
      "2089/2089 [==============================] - 16s 8ms/step - loss: 0.6262 - auc: 0.7012 - val_loss: 0.6249 - val_auc: 0.7061\n",
      "Epoch 4/10\n",
      "2089/2089 [==============================] - 15s 7ms/step - loss: 0.6252 - auc: 0.7028 - val_loss: 0.6261 - val_auc: 0.7054\n",
      "Epoch 5/10\n",
      "2089/2089 [==============================] - 14s 7ms/step - loss: 0.6200 - auc: 0.7087 - val_loss: 0.6089 - val_auc: 0.7090\n",
      "Epoch 6/10\n",
      "2089/2089 [==============================] - 15s 7ms/step - loss: 0.6196 - auc: 0.7107 - val_loss: 0.6135 - val_auc: 0.7059\n",
      "Epoch 7/10\n",
      "2089/2089 [==============================] - 13s 6ms/step - loss: 0.6187 - auc: 0.7106 - val_loss: 0.6182 - val_auc: 0.7087\n",
      "Epoch 8/10\n",
      "2089/2089 [==============================] - 15s 7ms/step - loss: 0.6186 - auc: 0.7130 - val_loss: 0.6120 - val_auc: 0.7091\n",
      "Epoch 9/10\n",
      "2089/2089 [==============================] - 16s 7ms/step - loss: 0.6154 - auc: 0.7164 - val_loss: 0.5898 - val_auc: 0.7074\n",
      "Epoch 10/10\n",
      "2089/2089 [==============================] - 17s 8ms/step - loss: 0.6142 - auc: 0.7196 - val_loss: 0.6377 - val_auc: 0.7077\n"
     ]
    },
    {
     "name": "stderr",
     "output_type": "stream",
     "text": [
      "[I 2023-08-14 14:45:50,313] Trial 7 finished with value: 0.7076630592346191 and parameters: {'n_layers': 1, 'n_units_l0': 13, 'dropout_l0': 0.2798087814957686, 'learning_rate': 0.001266905775457618}. Best is trial 5 with value: 0.7095242738723755.\n"
     ]
    },
    {
     "name": "stdout",
     "output_type": "stream",
     "text": [
      "Epoch 1/10\n",
      "2089/2089 [==============================] - 21s 8ms/step - loss: 0.6620 - auc: 0.6493 - val_loss: 0.6712 - val_auc: 0.6993\n",
      "Epoch 2/10\n",
      "2089/2089 [==============================] - 16s 8ms/step - loss: 0.6385 - auc: 0.6847 - val_loss: 0.6559 - val_auc: 0.7060\n",
      "Epoch 3/10\n",
      "2089/2089 [==============================] - 16s 8ms/step - loss: 0.6351 - auc: 0.6882 - val_loss: 0.6031 - val_auc: 0.7092\n",
      "Epoch 4/10\n",
      "2089/2089 [==============================] - 17s 8ms/step - loss: 0.6325 - auc: 0.6926 - val_loss: 0.6303 - val_auc: 0.7049\n",
      "Epoch 5/10\n",
      "2089/2089 [==============================] - 15s 7ms/step - loss: 0.6311 - auc: 0.6952 - val_loss: 0.6367 - val_auc: 0.7092\n",
      "Epoch 6/10\n",
      "2089/2089 [==============================] - 15s 7ms/step - loss: 0.6301 - auc: 0.6967 - val_loss: 0.6428 - val_auc: 0.7063\n",
      "Epoch 7/10\n",
      "2089/2089 [==============================] - 15s 7ms/step - loss: 0.6291 - auc: 0.6979 - val_loss: 0.6377 - val_auc: 0.7093\n",
      "Epoch 8/10\n",
      "2089/2089 [==============================] - 15s 7ms/step - loss: 0.6253 - auc: 0.7026 - val_loss: 0.6169 - val_auc: 0.7053\n",
      "Epoch 9/10\n",
      "2089/2089 [==============================] - 14s 7ms/step - loss: 0.6258 - auc: 0.7003 - val_loss: 0.6292 - val_auc: 0.7075\n",
      "Epoch 10/10\n",
      "2089/2089 [==============================] - 15s 7ms/step - loss: 0.6262 - auc: 0.7005 - val_loss: 0.6185 - val_auc: 0.7099\n"
     ]
    },
    {
     "name": "stderr",
     "output_type": "stream",
     "text": [
      "[I 2023-08-14 14:48:37,113] Trial 8 finished with value: 0.7098988890647888 and parameters: {'n_layers': 1, 'n_units_l0': 5, 'dropout_l0': 0.30740058284517024, 'learning_rate': 0.006791929933654921}. Best is trial 8 with value: 0.7098988890647888.\n"
     ]
    },
    {
     "name": "stdout",
     "output_type": "stream",
     "text": [
      "Epoch 1/10\n",
      "2089/2089 [==============================] - 25s 9ms/step - loss: 0.6746 - auc: 0.6164 - val_loss: 0.6602 - val_auc: 0.6929\n",
      "Epoch 2/10\n",
      "2082/2089 [============================>.] - ETA: 0s - loss: 0.6538 - auc: 0.6588"
     ]
    },
    {
     "name": "stderr",
     "output_type": "stream",
     "text": [
      "[I 2023-08-14 14:49:21,231] Trial 9 pruned. Trial was pruned at epoch 1.\n"
     ]
    },
    {
     "name": "stdout",
     "output_type": "stream",
     "text": [
      "Epoch 1/10\n",
      "2089/2089 [==============================] - 20s 8ms/step - loss: 0.6694 - auc: 0.6280 - val_loss: 0.6752 - val_auc: 0.6958\n",
      "Epoch 2/10\n",
      "2089/2089 [==============================] - 14s 7ms/step - loss: 0.6483 - auc: 0.6686 - val_loss: 0.6319 - val_auc: 0.7037\n",
      "Epoch 3/10\n",
      "2079/2089 [============================>.] - ETA: 0s - loss: 0.6446 - auc: 0.6765"
     ]
    },
    {
     "name": "stderr",
     "output_type": "stream",
     "text": [
      "[I 2023-08-14 14:50:12,862] Trial 10 pruned. Trial was pruned at epoch 2.\n"
     ]
    },
    {
     "name": "stdout",
     "output_type": "stream",
     "text": [
      "Epoch 1/10\n",
      "2083/2089 [============================>.] - ETA: 0s - loss: 0.7145 - auc: 0.5636"
     ]
    },
    {
     "name": "stderr",
     "output_type": "stream",
     "text": [
      "[I 2023-08-14 14:50:41,023] Trial 11 pruned. Trial was pruned at epoch 0.\n"
     ]
    },
    {
     "name": "stdout",
     "output_type": "stream",
     "text": [
      "Epoch 1/10\n",
      "2082/2089 [============================>.] - ETA: 0s - loss: 0.7380 - auc: 0.5660"
     ]
    },
    {
     "name": "stderr",
     "output_type": "stream",
     "text": [
      "[I 2023-08-14 14:51:05,184] Trial 12 pruned. Trial was pruned at epoch 0.\n"
     ]
    },
    {
     "name": "stdout",
     "output_type": "stream",
     "text": [
      "Epoch 1/10\n",
      "2089/2089 [==============================] - 29s 9ms/step - loss: 0.6819 - auc: 0.6315 - val_loss: 0.5610 - val_auc: 0.6911\n",
      "Epoch 2/10\n",
      "2083/2089 [============================>.] - ETA: 0s - loss: 0.6685 - auc: 0.6506"
     ]
    },
    {
     "name": "stderr",
     "output_type": "stream",
     "text": [
      "[I 2023-08-14 14:51:52,640] Trial 13 pruned. Trial was pruned at epoch 1.\n"
     ]
    },
    {
     "name": "stdout",
     "output_type": "stream",
     "text": [
      "Epoch 1/10\n",
      "2085/2089 [============================>.] - ETA: 0s - loss: 0.6798 - auc: 0.5986"
     ]
    },
    {
     "name": "stderr",
     "output_type": "stream",
     "text": [
      "[I 2023-08-14 14:52:18,303] Trial 14 pruned. Trial was pruned at epoch 0.\n"
     ]
    },
    {
     "name": "stdout",
     "output_type": "stream",
     "text": [
      "Epoch 1/10\n",
      "2089/2089 [==============================] - 20s 8ms/step - loss: 0.6544 - auc: 0.6581 - val_loss: 0.6024 - val_auc: 0.7027\n",
      "Epoch 2/10\n",
      "2089/2089 [==============================] - 16s 7ms/step - loss: 0.6332 - auc: 0.6918 - val_loss: 0.6849 - val_auc: 0.7083\n",
      "Epoch 3/10\n",
      "2089/2089 [==============================] - 19s 9ms/step - loss: 0.6291 - auc: 0.6978 - val_loss: 0.6307 - val_auc: 0.7080\n",
      "Epoch 4/10\n",
      "2089/2089 [==============================] - 16s 7ms/step - loss: 0.6271 - auc: 0.7019 - val_loss: 0.6193 - val_auc: 0.7102\n",
      "Epoch 5/10\n",
      "2089/2089 [==============================] - 16s 7ms/step - loss: 0.6219 - auc: 0.7078 - val_loss: 0.6330 - val_auc: 0.7066\n",
      "Epoch 6/10\n",
      "2089/2089 [==============================] - 16s 7ms/step - loss: 0.6214 - auc: 0.7088 - val_loss: 0.6164 - val_auc: 0.7087\n",
      "Epoch 7/10\n",
      "2089/2089 [==============================] - 16s 7ms/step - loss: 0.6211 - auc: 0.7088 - val_loss: 0.6102 - val_auc: 0.7082\n",
      "Epoch 8/10\n",
      "2089/2089 [==============================] - 16s 8ms/step - loss: 0.6200 - auc: 0.7117 - val_loss: 0.5834 - val_auc: 0.7100\n",
      "Epoch 9/10\n",
      "2089/2089 [==============================] - 16s 8ms/step - loss: 0.6173 - auc: 0.7156 - val_loss: 0.6296 - val_auc: 0.7084\n",
      "Epoch 10/10\n",
      "2089/2089 [==============================] - 14s 7ms/step - loss: 0.6165 - auc: 0.7146 - val_loss: 0.6037 - val_auc: 0.7093\n"
     ]
    },
    {
     "name": "stderr",
     "output_type": "stream",
     "text": [
      "[I 2023-08-14 14:55:07,838] Trial 15 finished with value: 0.7092968225479126 and parameters: {'n_layers': 1, 'n_units_l0': 17, 'dropout_l0': 0.3143994795020221, 'learning_rate': 0.004450970898786966}. Best is trial 8 with value: 0.7098988890647888.\n"
     ]
    },
    {
     "name": "stdout",
     "output_type": "stream",
     "text": [
      "Epoch 1/10\n",
      "2087/2089 [============================>.] - ETA: 0s - loss: 0.6945 - auc: 0.5446"
     ]
    },
    {
     "name": "stderr",
     "output_type": "stream",
     "text": [
      "[I 2023-08-14 14:55:37,144] Trial 16 pruned. Trial was pruned at epoch 0.\n"
     ]
    },
    {
     "name": "stdout",
     "output_type": "stream",
     "text": [
      "Epoch 1/10\n",
      "2083/2089 [============================>.] - ETA: 0s - loss: 0.6927 - auc: 0.5727"
     ]
    },
    {
     "name": "stderr",
     "output_type": "stream",
     "text": [
      "[I 2023-08-14 14:56:02,197] Trial 17 pruned. Trial was pruned at epoch 0.\n"
     ]
    },
    {
     "name": "stdout",
     "output_type": "stream",
     "text": [
      "Epoch 1/10\n",
      "2081/2089 [============================>.] - ETA: 0s - loss: 0.6699 - auc: 0.6269"
     ]
    },
    {
     "name": "stderr",
     "output_type": "stream",
     "text": [
      "[I 2023-08-14 14:56:25,008] Trial 18 pruned. Trial was pruned at epoch 0.\n"
     ]
    },
    {
     "name": "stdout",
     "output_type": "stream",
     "text": [
      "Epoch 1/10\n",
      "2089/2089 [==============================] - 19s 7ms/step - loss: 0.6529 - auc: 0.6575 - val_loss: 0.7202 - val_auc: 0.6988\n",
      "Epoch 2/10\n",
      "2089/2089 [==============================] - 15s 7ms/step - loss: 0.6365 - auc: 0.6879 - val_loss: 0.6402 - val_auc: 0.7034\n",
      "Epoch 3/10\n",
      "2089/2089 [==============================] - 15s 7ms/step - loss: 0.6323 - auc: 0.6927 - val_loss: 0.6955 - val_auc: 0.7067\n",
      "Epoch 4/10\n",
      "2089/2089 [==============================] - 15s 7ms/step - loss: 0.6301 - auc: 0.6970 - val_loss: 0.6510 - val_auc: 0.7059\n",
      "Epoch 5/10\n",
      "2087/2089 [============================>.] - ETA: 0s - loss: 0.6286 - auc: 0.6967"
     ]
    },
    {
     "name": "stderr",
     "output_type": "stream",
     "text": [
      "[I 2023-08-14 14:57:44,302] Trial 19 pruned. Trial was pruned at epoch 4.\n"
     ]
    },
    {
     "name": "stdout",
     "output_type": "stream",
     "text": [
      "Epoch 1/10\n",
      "2087/2089 [============================>.] - ETA: 0s - loss: 0.6777 - auc: 0.6109"
     ]
    },
    {
     "name": "stderr",
     "output_type": "stream",
     "text": [
      "[I 2023-08-14 14:58:15,382] Trial 20 pruned. Trial was pruned at epoch 0.\n"
     ]
    },
    {
     "name": "stdout",
     "output_type": "stream",
     "text": [
      "Epoch 1/10\n",
      "2089/2089 [==============================] - 21s 8ms/step - loss: 0.6573 - auc: 0.6596 - val_loss: 0.6464 - val_auc: 0.6994\n",
      "Epoch 2/10\n",
      "2085/2089 [============================>.] - ETA: 0s - loss: 0.6350 - auc: 0.6884"
     ]
    },
    {
     "name": "stderr",
     "output_type": "stream",
     "text": [
      "[I 2023-08-14 14:58:53,364] Trial 21 pruned. Trial was pruned at epoch 1.\n"
     ]
    },
    {
     "name": "stdout",
     "output_type": "stream",
     "text": [
      "Epoch 1/10\n",
      "2089/2089 [==============================] - 35s 8ms/step - loss: 0.6603 - auc: 0.6591 - val_loss: 0.6752 - val_auc: 0.6962\n",
      "Epoch 2/10\n",
      "2083/2089 [============================>.] - ETA: 0s - loss: 0.6327 - auc: 0.6918"
     ]
    },
    {
     "name": "stderr",
     "output_type": "stream",
     "text": [
      "[I 2023-08-14 14:59:43,506] Trial 22 pruned. Trial was pruned at epoch 1.\n"
     ]
    },
    {
     "name": "stdout",
     "output_type": "stream",
     "text": [
      "Epoch 1/10\n",
      "2089/2089 [==============================] - 17s 7ms/step - loss: 0.6648 - auc: 0.6518 - val_loss: 0.6726 - val_auc: 0.6990\n",
      "Epoch 2/10\n",
      "2089/2089 [==============================] - 14s 7ms/step - loss: 0.6367 - auc: 0.6877 - val_loss: 0.6196 - val_auc: 0.7038\n",
      "Epoch 3/10\n",
      "2089/2089 [==============================] - 14s 7ms/step - loss: 0.6290 - auc: 0.6967 - val_loss: 0.6388 - val_auc: 0.7062\n",
      "Epoch 4/10\n",
      "2089/2089 [==============================] - 14s 7ms/step - loss: 0.6269 - auc: 0.7004 - val_loss: 0.6207 - val_auc: 0.7065\n",
      "Epoch 5/10\n",
      "2089/2089 [==============================] - 14s 7ms/step - loss: 0.6265 - auc: 0.7010 - val_loss: 0.6344 - val_auc: 0.7088\n",
      "Epoch 6/10\n",
      "2089/2089 [==============================] - 14s 7ms/step - loss: 0.6239 - auc: 0.7052 - val_loss: 0.6427 - val_auc: 0.7081\n",
      "Epoch 7/10\n",
      "2089/2089 [==============================] - 14s 7ms/step - loss: 0.6229 - auc: 0.7059 - val_loss: 0.6478 - val_auc: 0.7101\n",
      "Epoch 8/10\n",
      "2089/2089 [==============================] - 14s 7ms/step - loss: 0.6227 - auc: 0.7062 - val_loss: 0.5937 - val_auc: 0.7096\n",
      "Epoch 9/10\n",
      "2089/2089 [==============================] - 14s 7ms/step - loss: 0.6199 - auc: 0.7106 - val_loss: 0.6406 - val_auc: 0.7093\n",
      "Epoch 10/10\n",
      "2089/2089 [==============================] - 13s 6ms/step - loss: 0.6201 - auc: 0.7101 - val_loss: 0.6200 - val_auc: 0.7098\n"
     ]
    },
    {
     "name": "stderr",
     "output_type": "stream",
     "text": [
      "[I 2023-08-14 15:02:13,555] Trial 23 finished with value: 0.7097508907318115 and parameters: {'n_layers': 1, 'n_units_l0': 13, 'dropout_l0': 0.36818444721907495, 'learning_rate': 0.0028743565953580795}. Best is trial 8 with value: 0.7098988890647888.\n"
     ]
    },
    {
     "name": "stdout",
     "output_type": "stream",
     "text": [
      "Epoch 1/10\n",
      "2089/2089 [==============================] - 19s 7ms/step - loss: 0.6718 - auc: 0.6413 - val_loss: 0.6295 - val_auc: 0.7020\n",
      "Epoch 2/10\n",
      "2089/2089 [==============================] - 14s 7ms/step - loss: 0.6340 - auc: 0.6914 - val_loss: 0.6329 - val_auc: 0.7083\n",
      "Epoch 3/10\n",
      "2089/2089 [==============================] - 14s 7ms/step - loss: 0.6293 - auc: 0.6967 - val_loss: 0.6122 - val_auc: 0.7074\n",
      "Epoch 4/10\n",
      "2089/2089 [==============================] - 13s 6ms/step - loss: 0.6266 - auc: 0.7011 - val_loss: 0.6113 - val_auc: 0.7095\n",
      "Epoch 5/10\n",
      "2089/2089 [==============================] - 13s 6ms/step - loss: 0.6252 - auc: 0.7033 - val_loss: 0.5968 - val_auc: 0.7114\n",
      "Epoch 6/10\n",
      "2089/2089 [==============================] - 14s 7ms/step - loss: 0.6253 - auc: 0.7028 - val_loss: 0.6177 - val_auc: 0.7083\n",
      "Epoch 7/10\n",
      "2089/2089 [==============================] - 14s 7ms/step - loss: 0.6221 - auc: 0.7073 - val_loss: 0.6252 - val_auc: 0.7086\n",
      "Epoch 8/10\n",
      "2089/2089 [==============================] - 13s 6ms/step - loss: 0.6232 - auc: 0.7068 - val_loss: 0.6381 - val_auc: 0.7092\n",
      "Epoch 9/10\n",
      "2089/2089 [==============================] - 14s 7ms/step - loss: 0.6216 - auc: 0.7087 - val_loss: 0.6415 - val_auc: 0.7099\n",
      "Epoch 10/10\n",
      "2089/2089 [==============================] - 14s 7ms/step - loss: 0.6200 - auc: 0.7113 - val_loss: 0.6110 - val_auc: 0.7065\n"
     ]
    },
    {
     "name": "stderr",
     "output_type": "stream",
     "text": [
      "[I 2023-08-14 15:04:41,302] Trial 24 finished with value: 0.7065291404724121 and parameters: {'n_layers': 1, 'n_units_l0': 10, 'dropout_l0': 0.36961441861624666, 'learning_rate': 0.002557453884572518}. Best is trial 8 with value: 0.7098988890647888.\n"
     ]
    },
    {
     "name": "stdout",
     "output_type": "stream",
     "text": [
      "Epoch 1/10\n",
      "2083/2089 [============================>.] - ETA: 0s - loss: 0.6718 - auc: 0.6408"
     ]
    },
    {
     "name": "stderr",
     "output_type": "stream",
     "text": [
      "[I 2023-08-14 15:05:00,845] Trial 25 pruned. Trial was pruned at epoch 0.\n"
     ]
    },
    {
     "name": "stdout",
     "output_type": "stream",
     "text": [
      "Epoch 1/10\n",
      "2083/2089 [============================>.] - ETA: 0s - loss: 0.6668 - auc: 0.6354"
     ]
    },
    {
     "name": "stderr",
     "output_type": "stream",
     "text": [
      "[I 2023-08-14 15:05:22,765] Trial 26 pruned. Trial was pruned at epoch 0.\n"
     ]
    },
    {
     "name": "stdout",
     "output_type": "stream",
     "text": [
      "Epoch 1/10\n",
      "2082/2089 [============================>.] - ETA: 0s - loss: 0.6652 - auc: 0.6472"
     ]
    },
    {
     "name": "stderr",
     "output_type": "stream",
     "text": [
      "[I 2023-08-14 15:05:42,494] Trial 27 pruned. Trial was pruned at epoch 0.\n"
     ]
    },
    {
     "name": "stdout",
     "output_type": "stream",
     "text": [
      "Epoch 1/10\n",
      "2089/2089 [==============================] - ETA: 0s - loss: 0.6672 - auc: 0.6324"
     ]
    },
    {
     "name": "stderr",
     "output_type": "stream",
     "text": [
      "[I 2023-08-14 15:06:03,114] Trial 28 pruned. Trial was pruned at epoch 0.\n"
     ]
    },
    {
     "name": "stdout",
     "output_type": "stream",
     "text": [
      "Epoch 1/10\n",
      "2085/2089 [============================>.] - ETA: 0s - loss: 0.6821 - auc: 0.5760"
     ]
    },
    {
     "name": "stderr",
     "output_type": "stream",
     "text": [
      "[I 2023-08-14 15:06:28,488] Trial 29 pruned. Trial was pruned at epoch 0.\n"
     ]
    },
    {
     "name": "stdout",
     "output_type": "stream",
     "text": [
      "Epoch 1/10\n",
      "2089/2089 [==============================] - ETA: 0s - loss: 0.6801 - auc: 0.6057"
     ]
    },
    {
     "name": "stderr",
     "output_type": "stream",
     "text": [
      "[I 2023-08-14 15:06:54,735] Trial 30 pruned. Trial was pruned at epoch 0.\n"
     ]
    },
    {
     "name": "stdout",
     "output_type": "stream",
     "text": [
      "Epoch 1/10\n",
      "2089/2089 [==============================] - 25s 7ms/step - loss: 0.6574 - auc: 0.6571 - val_loss: 0.6504 - val_auc: 0.6997\n",
      "Epoch 2/10\n",
      "2086/2089 [============================>.] - ETA: 0s - loss: 0.6316 - auc: 0.6927"
     ]
    },
    {
     "name": "stderr",
     "output_type": "stream",
     "text": [
      "[I 2023-08-14 15:07:34,360] Trial 31 pruned. Trial was pruned at epoch 1.\n"
     ]
    },
    {
     "name": "stdout",
     "output_type": "stream",
     "text": [
      "Epoch 1/10\n",
      "2089/2089 [==============================] - 18s 7ms/step - loss: 0.6574 - auc: 0.6596 - val_loss: 0.6455 - val_auc: 0.7035\n",
      "Epoch 2/10\n",
      "2089/2089 [==============================] - ETA: 0s - loss: 0.6335 - auc: 0.6909"
     ]
    },
    {
     "name": "stderr",
     "output_type": "stream",
     "text": [
      "[I 2023-08-14 15:08:07,380] Trial 32 pruned. Trial was pruned at epoch 1.\n"
     ]
    },
    {
     "name": "stdout",
     "output_type": "stream",
     "text": [
      "Epoch 1/10\n",
      "2089/2089 [==============================] - ETA: 0s - loss: 0.6572 - auc: 0.6586"
     ]
    },
    {
     "name": "stderr",
     "output_type": "stream",
     "text": [
      "[I 2023-08-14 15:08:26,465] Trial 33 pruned. Trial was pruned at epoch 0.\n"
     ]
    },
    {
     "name": "stdout",
     "output_type": "stream",
     "text": [
      "Epoch 1/10\n",
      "2089/2089 [==============================] - 17s 7ms/step - loss: 0.6735 - auc: 0.6446 - val_loss: 0.6064 - val_auc: 0.7012\n",
      "Epoch 2/10\n",
      "2089/2089 [==============================] - 13s 6ms/step - loss: 0.6313 - auc: 0.6943 - val_loss: 0.5892 - val_auc: 0.7102\n",
      "Epoch 3/10\n",
      "2089/2089 [==============================] - 12s 6ms/step - loss: 0.6273 - auc: 0.6987 - val_loss: 0.6102 - val_auc: 0.7090\n",
      "Epoch 4/10\n",
      "2089/2089 [==============================] - 15s 7ms/step - loss: 0.6243 - auc: 0.7035 - val_loss: 0.6376 - val_auc: 0.7046\n",
      "Epoch 5/10\n",
      "2089/2089 [==============================] - 14s 7ms/step - loss: 0.6229 - auc: 0.7068 - val_loss: 0.6758 - val_auc: 0.7068\n",
      "Epoch 6/10\n",
      "2089/2089 [==============================] - 14s 7ms/step - loss: 0.6189 - auc: 0.7114 - val_loss: 0.5839 - val_auc: 0.7066\n",
      "Epoch 7/10\n",
      "2089/2089 [==============================] - 15s 7ms/step - loss: 0.6174 - auc: 0.7141 - val_loss: 0.6444 - val_auc: 0.7079\n",
      "Epoch 8/10\n",
      "2089/2089 [==============================] - 14s 7ms/step - loss: 0.6175 - auc: 0.7146 - val_loss: 0.6289 - val_auc: 0.7075\n",
      "Epoch 9/10\n",
      "2089/2089 [==============================] - 14s 7ms/step - loss: 0.6151 - auc: 0.7169 - val_loss: 0.6348 - val_auc: 0.7074\n",
      "Epoch 10/10\n",
      "2089/2089 [==============================] - 15s 7ms/step - loss: 0.6139 - auc: 0.7185 - val_loss: 0.6014 - val_auc: 0.7094\n"
     ]
    },
    {
     "name": "stderr",
     "output_type": "stream",
     "text": [
      "[I 2023-08-14 15:10:58,120] Trial 34 finished with value: 0.7094190120697021 and parameters: {'n_layers': 1, 'n_units_l0': 14, 'dropout_l0': 0.2653872262721721, 'learning_rate': 0.0029234162994881516}. Best is trial 8 with value: 0.7098988890647888.\n"
     ]
    },
    {
     "name": "stdout",
     "output_type": "stream",
     "text": [
      "Epoch 1/10\n",
      "2089/2089 [==============================] - 19s 8ms/step - loss: 0.6590 - auc: 0.6563 - val_loss: 0.6619 - val_auc: 0.7011\n",
      "Epoch 2/10\n",
      "2089/2089 [==============================] - 14s 7ms/step - loss: 0.6314 - auc: 0.6938 - val_loss: 0.6242 - val_auc: 0.7064\n",
      "Epoch 3/10\n",
      "2089/2089 [==============================] - 14s 6ms/step - loss: 0.6262 - auc: 0.7011 - val_loss: 0.6512 - val_auc: 0.7040\n",
      "Epoch 4/10\n",
      "2089/2089 [==============================] - 14s 7ms/step - loss: 0.6229 - auc: 0.7065 - val_loss: 0.5866 - val_auc: 0.7089\n",
      "Epoch 5/10\n",
      "2089/2089 [==============================] - 14s 7ms/step - loss: 0.6218 - auc: 0.7081 - val_loss: 0.6281 - val_auc: 0.7090\n",
      "Epoch 6/10\n",
      "2089/2089 [==============================] - 14s 7ms/step - loss: 0.6186 - auc: 0.7133 - val_loss: 0.6388 - val_auc: 0.7066\n",
      "Epoch 7/10\n",
      "2089/2089 [==============================] - 13s 6ms/step - loss: 0.6189 - auc: 0.7122 - val_loss: 0.6309 - val_auc: 0.7093\n",
      "Epoch 8/10\n",
      "2089/2089 [==============================] - 14s 7ms/step - loss: 0.6170 - auc: 0.7153 - val_loss: 0.6238 - val_auc: 0.7074\n",
      "Epoch 9/10\n",
      "2089/2089 [==============================] - 16s 7ms/step - loss: 0.6149 - auc: 0.7174 - val_loss: 0.6214 - val_auc: 0.7063\n",
      "Epoch 10/10\n",
      "2089/2089 [==============================] - 15s 7ms/step - loss: 0.6143 - auc: 0.7194 - val_loss: 0.5990 - val_auc: 0.7070\n"
     ]
    },
    {
     "name": "stderr",
     "output_type": "stream",
     "text": [
      "[I 2023-08-14 15:13:31,992] Trial 35 finished with value: 0.7069952487945557 and parameters: {'n_layers': 1, 'n_units_l0': 14, 'dropout_l0': 0.2758796882946799, 'learning_rate': 0.0025095016541656873}. Best is trial 8 with value: 0.7098988890647888.\n"
     ]
    },
    {
     "name": "stdout",
     "output_type": "stream",
     "text": [
      "Epoch 1/10\n",
      "2089/2089 [==============================] - 18s 7ms/step - loss: 0.6670 - auc: 0.6511 - val_loss: 0.6209 - val_auc: 0.7002\n",
      "Epoch 2/10\n",
      "2089/2089 [==============================] - 14s 7ms/step - loss: 0.6324 - auc: 0.6927 - val_loss: 0.6151 - val_auc: 0.7050\n",
      "Epoch 3/10\n",
      "2089/2089 [==============================] - 14s 7ms/step - loss: 0.6275 - auc: 0.6983 - val_loss: 0.6351 - val_auc: 0.7065\n",
      "Epoch 4/10\n",
      "2089/2089 [==============================] - 14s 7ms/step - loss: 0.6254 - auc: 0.7032 - val_loss: 0.6086 - val_auc: 0.7101\n",
      "Epoch 5/10\n",
      "2089/2089 [==============================] - 14s 7ms/step - loss: 0.6224 - auc: 0.7064 - val_loss: 0.6288 - val_auc: 0.7103\n",
      "Epoch 6/10\n",
      "2089/2089 [==============================] - 14s 7ms/step - loss: 0.6192 - auc: 0.7108 - val_loss: 0.5847 - val_auc: 0.7087\n",
      "Epoch 7/10\n",
      "2089/2089 [==============================] - 14s 7ms/step - loss: 0.6187 - auc: 0.7109 - val_loss: 0.6309 - val_auc: 0.7102\n",
      "Epoch 8/10\n",
      "2089/2089 [==============================] - 14s 7ms/step - loss: 0.6163 - auc: 0.7155 - val_loss: 0.5812 - val_auc: 0.7096\n",
      "Epoch 9/10\n",
      "2089/2089 [==============================] - 13s 6ms/step - loss: 0.6154 - auc: 0.7159 - val_loss: 0.6292 - val_auc: 0.7085\n",
      "Epoch 10/10\n",
      "2089/2089 [==============================] - 14s 7ms/step - loss: 0.6143 - auc: 0.7174 - val_loss: 0.6146 - val_auc: 0.7079\n"
     ]
    },
    {
     "name": "stderr",
     "output_type": "stream",
     "text": [
      "[I 2023-08-14 15:16:04,034] Trial 36 finished with value: 0.7079212665557861 and parameters: {'n_layers': 1, 'n_units_l0': 11, 'dropout_l0': 0.2560914071730005, 'learning_rate': 0.0029980438772899956}. Best is trial 8 with value: 0.7098988890647888.\n"
     ]
    },
    {
     "name": "stdout",
     "output_type": "stream",
     "text": [
      "Epoch 1/10\n",
      "2082/2089 [============================>.] - ETA: 0s - loss: 0.6981 - auc: 0.6205"
     ]
    },
    {
     "name": "stderr",
     "output_type": "stream",
     "text": [
      "[I 2023-08-14 15:16:23,624] Trial 37 pruned. Trial was pruned at epoch 0.\n"
     ]
    },
    {
     "name": "stdout",
     "output_type": "stream",
     "text": [
      "Epoch 1/10\n",
      "2082/2089 [============================>.] - ETA: 0s - loss: 0.7300 - auc: 0.5276"
     ]
    },
    {
     "name": "stderr",
     "output_type": "stream",
     "text": [
      "[I 2023-08-14 15:16:56,409] Trial 38 pruned. Trial was pruned at epoch 0.\n"
     ]
    },
    {
     "name": "stdout",
     "output_type": "stream",
     "text": [
      "Epoch 1/10\n",
      "2088/2089 [============================>.] - ETA: 0s - loss: 0.6867 - auc: 0.6033"
     ]
    },
    {
     "name": "stderr",
     "output_type": "stream",
     "text": [
      "[I 2023-08-14 15:17:25,704] Trial 39 pruned. Trial was pruned at epoch 0.\n"
     ]
    },
    {
     "name": "stdout",
     "output_type": "stream",
     "text": [
      "Epoch 1/10\n",
      "2080/2089 [============================>.] - ETA: 0s - loss: 0.6574 - auc: 0.6604"
     ]
    },
    {
     "name": "stderr",
     "output_type": "stream",
     "text": [
      "[I 2023-08-14 15:17:48,896] Trial 40 pruned. Trial was pruned at epoch 0.\n"
     ]
    },
    {
     "name": "stdout",
     "output_type": "stream",
     "text": [
      "Epoch 1/10\n",
      "2089/2089 [==============================] - 35s 10ms/step - loss: 0.6509 - auc: 0.6676 - val_loss: 0.6513 - val_auc: 0.7060\n",
      "Epoch 2/10\n",
      "2089/2089 [==============================] - 17s 8ms/step - loss: 0.6319 - auc: 0.6935 - val_loss: 0.6096 - val_auc: 0.7029\n",
      "Epoch 3/10\n",
      "2082/2089 [============================>.] - ETA: 0s - loss: 0.6264 - auc: 0.7003"
     ]
    },
    {
     "name": "stderr",
     "output_type": "stream",
     "text": [
      "[I 2023-08-14 15:18:59,404] Trial 41 pruned. Trial was pruned at epoch 2.\n"
     ]
    },
    {
     "name": "stdout",
     "output_type": "stream",
     "text": [
      "Epoch 1/10\n",
      "2089/2089 [==============================] - ETA: 0s - loss: 0.6563 - auc: 0.6570"
     ]
    },
    {
     "name": "stderr",
     "output_type": "stream",
     "text": [
      "[I 2023-08-14 15:19:24,794] Trial 42 pruned. Trial was pruned at epoch 0.\n"
     ]
    },
    {
     "name": "stdout",
     "output_type": "stream",
     "text": [
      "Epoch 1/10\n",
      "2089/2089 [==============================] - ETA: 0s - loss: 0.6595 - auc: 0.6569"
     ]
    },
    {
     "name": "stderr",
     "output_type": "stream",
     "text": [
      "[I 2023-08-14 15:19:48,795] Trial 43 pruned. Trial was pruned at epoch 0.\n"
     ]
    },
    {
     "name": "stdout",
     "output_type": "stream",
     "text": [
      "Epoch 1/10\n",
      "2089/2089 [==============================] - 23s 9ms/step - loss: 0.6541 - auc: 0.6622 - val_loss: 0.6617 - val_auc: 0.7031\n",
      "Epoch 2/10\n",
      "2081/2089 [============================>.] - ETA: 0s - loss: 0.6325 - auc: 0.6922"
     ]
    },
    {
     "name": "stderr",
     "output_type": "stream",
     "text": [
      "[I 2023-08-14 15:20:30,184] Trial 44 pruned. Trial was pruned at epoch 1.\n"
     ]
    },
    {
     "name": "stdout",
     "output_type": "stream",
     "text": [
      "Epoch 1/10\n",
      "2088/2089 [============================>.] - ETA: 0s - loss: 0.6605 - auc: 0.6563"
     ]
    },
    {
     "name": "stderr",
     "output_type": "stream",
     "text": [
      "[I 2023-08-14 15:20:54,113] Trial 45 pruned. Trial was pruned at epoch 0.\n"
     ]
    },
    {
     "name": "stdout",
     "output_type": "stream",
     "text": [
      "Epoch 1/10\n",
      "2089/2089 [==============================] - 23s 9ms/step - loss: 0.6531 - auc: 0.6653 - val_loss: 0.5781 - val_auc: 0.7019\n",
      "Epoch 2/10\n",
      "2088/2089 [============================>.] - ETA: 0s - loss: 0.6330 - auc: 0.6908"
     ]
    },
    {
     "name": "stderr",
     "output_type": "stream",
     "text": [
      "[I 2023-08-14 15:21:36,664] Trial 46 pruned. Trial was pruned at epoch 1.\n"
     ]
    },
    {
     "name": "stdout",
     "output_type": "stream",
     "text": [
      "Epoch 1/10\n",
      "2089/2089 [==============================] - ETA: 0s - loss: 0.6798 - auc: 0.6239"
     ]
    },
    {
     "name": "stderr",
     "output_type": "stream",
     "text": [
      "[I 2023-08-14 15:22:02,669] Trial 47 pruned. Trial was pruned at epoch 0.\n"
     ]
    },
    {
     "name": "stdout",
     "output_type": "stream",
     "text": [
      "Epoch 1/10\n",
      "2080/2089 [============================>.] - ETA: 0s - loss: 0.6885 - auc: 0.6277"
     ]
    },
    {
     "name": "stderr",
     "output_type": "stream",
     "text": [
      "[I 2023-08-14 15:22:21,172] Trial 48 pruned. Trial was pruned at epoch 0.\n"
     ]
    },
    {
     "name": "stdout",
     "output_type": "stream",
     "text": [
      "Epoch 1/10\n",
      "2089/2089 [==============================] - 18s 7ms/step - loss: 0.6637 - auc: 0.6549 - val_loss: 0.6619 - val_auc: 0.7000\n",
      "Epoch 2/10\n",
      "2089/2089 [==============================] - 11s 5ms/step - loss: 0.6311 - auc: 0.6931 - val_loss: 0.6763 - val_auc: 0.7076\n",
      "Epoch 3/10\n",
      "2089/2089 [==============================] - 13s 6ms/step - loss: 0.6270 - auc: 0.6990 - val_loss: 0.6232 - val_auc: 0.7079\n",
      "Epoch 4/10\n",
      "2089/2089 [==============================] - 11s 5ms/step - loss: 0.6252 - auc: 0.7022 - val_loss: 0.6353 - val_auc: 0.7068\n",
      "Epoch 5/10\n",
      "2088/2089 [============================>.] - ETA: 0s - loss: 0.6220 - auc: 0.7085"
     ]
    },
    {
     "name": "stderr",
     "output_type": "stream",
     "text": [
      "[I 2023-08-14 15:23:28,493] Trial 49 pruned. Trial was pruned at epoch 4.\n"
     ]
    },
    {
     "name": "stdout",
     "output_type": "stream",
     "text": [
      "Epoch 1/10\n",
      "2083/2089 [============================>.] - ETA: 0s - loss: 0.6649 - auc: 0.6363"
     ]
    },
    {
     "name": "stderr",
     "output_type": "stream",
     "text": [
      "[I 2023-08-14 15:23:53,753] Trial 50 pruned. Trial was pruned at epoch 0.\n"
     ]
    },
    {
     "name": "stdout",
     "output_type": "stream",
     "text": [
      "Epoch 1/10\n",
      "2089/2089 [==============================] - 17s 7ms/step - loss: 0.6568 - auc: 0.6541 - val_loss: 0.6776 - val_auc: 0.7022\n",
      "Epoch 2/10\n",
      "2089/2089 [==============================] - 22s 11ms/step - loss: 0.6385 - auc: 0.6850 - val_loss: 0.6701 - val_auc: 0.7050\n",
      "Epoch 3/10\n",
      "2081/2089 [============================>.] - ETA: 0s - loss: 0.6340 - auc: 0.6912"
     ]
    },
    {
     "name": "stderr",
     "output_type": "stream",
     "text": [
      "[I 2023-08-14 15:24:47,230] Trial 51 pruned. Trial was pruned at epoch 2.\n"
     ]
    },
    {
     "name": "stdout",
     "output_type": "stream",
     "text": [
      "Epoch 1/10\n",
      "2084/2089 [============================>.] - ETA: 0s - loss: 0.6891 - auc: 0.5958"
     ]
    },
    {
     "name": "stderr",
     "output_type": "stream",
     "text": [
      "[I 2023-08-14 15:25:08,443] Trial 52 pruned. Trial was pruned at epoch 0.\n"
     ]
    },
    {
     "name": "stdout",
     "output_type": "stream",
     "text": [
      "Epoch 1/10\n",
      "2082/2089 [============================>.] - ETA: 0s - loss: 0.6635 - auc: 0.6436"
     ]
    },
    {
     "name": "stderr",
     "output_type": "stream",
     "text": [
      "[I 2023-08-14 15:25:29,360] Trial 53 pruned. Trial was pruned at epoch 0.\n"
     ]
    },
    {
     "name": "stdout",
     "output_type": "stream",
     "text": [
      "Epoch 1/10\n",
      "2089/2089 [==============================] - 16s 6ms/step - loss: 0.6603 - auc: 0.6539 - val_loss: 0.6388 - val_auc: 0.7004\n",
      "Epoch 2/10\n",
      "2089/2089 [==============================] - 12s 6ms/step - loss: 0.6397 - auc: 0.6837 - val_loss: 0.6281 - val_auc: 0.7074\n",
      "Epoch 3/10\n",
      "2089/2089 [==============================] - 13s 6ms/step - loss: 0.6352 - auc: 0.6886 - val_loss: 0.6143 - val_auc: 0.7038\n",
      "Epoch 4/10\n",
      "2089/2089 [==============================] - 14s 6ms/step - loss: 0.6336 - auc: 0.6941 - val_loss: 0.5957 - val_auc: 0.7080\n",
      "Epoch 5/10\n",
      "2088/2089 [============================>.] - ETA: 0s - loss: 0.6300 - auc: 0.6989"
     ]
    },
    {
     "name": "stderr",
     "output_type": "stream",
     "text": [
      "[I 2023-08-14 15:26:42,240] Trial 54 pruned. Trial was pruned at epoch 4.\n"
     ]
    },
    {
     "name": "stdout",
     "output_type": "stream",
     "text": [
      "Epoch 1/10\n",
      "2088/2089 [============================>.] - ETA: 0s - loss: 0.6850 - auc: 0.6041"
     ]
    },
    {
     "name": "stderr",
     "output_type": "stream",
     "text": [
      "[I 2023-08-14 15:27:08,851] Trial 55 pruned. Trial was pruned at epoch 0.\n"
     ]
    },
    {
     "name": "stdout",
     "output_type": "stream",
     "text": [
      "Epoch 1/10\n",
      "2087/2089 [============================>.] - ETA: 0s - loss: 0.6683 - auc: 0.6374"
     ]
    },
    {
     "name": "stderr",
     "output_type": "stream",
     "text": [
      "[I 2023-08-14 15:27:27,330] Trial 56 pruned. Trial was pruned at epoch 0.\n"
     ]
    },
    {
     "name": "stdout",
     "output_type": "stream",
     "text": [
      "Epoch 1/10\n",
      "2088/2089 [============================>.] - ETA: 0s - loss: 0.6634 - auc: 0.6451"
     ]
    },
    {
     "name": "stderr",
     "output_type": "stream",
     "text": [
      "[I 2023-08-14 15:27:44,864] Trial 57 pruned. Trial was pruned at epoch 0.\n"
     ]
    },
    {
     "name": "stdout",
     "output_type": "stream",
     "text": [
      "Epoch 1/10\n",
      "2083/2089 [============================>.] - ETA: 0s - loss: 0.7055 - auc: 0.5505"
     ]
    },
    {
     "name": "stderr",
     "output_type": "stream",
     "text": [
      "[I 2023-08-14 15:28:11,310] Trial 58 pruned. Trial was pruned at epoch 0.\n"
     ]
    },
    {
     "name": "stdout",
     "output_type": "stream",
     "text": [
      "Epoch 1/10\n",
      "2085/2089 [============================>.] - ETA: 0s - loss: 0.6544 - auc: 0.6600"
     ]
    },
    {
     "name": "stderr",
     "output_type": "stream",
     "text": [
      "[I 2023-08-14 15:28:29,112] Trial 59 pruned. Trial was pruned at epoch 0.\n"
     ]
    },
    {
     "name": "stdout",
     "output_type": "stream",
     "text": [
      "Epoch 1/10\n",
      "2083/2089 [============================>.] - ETA: 0s - loss: 0.6562 - auc: 0.6588"
     ]
    },
    {
     "name": "stderr",
     "output_type": "stream",
     "text": [
      "[I 2023-08-14 15:28:47,859] Trial 60 pruned. Trial was pruned at epoch 0.\n"
     ]
    },
    {
     "name": "stdout",
     "output_type": "stream",
     "text": [
      "Epoch 1/10\n",
      "2089/2089 [==============================] - 27s 8ms/step - loss: 0.6736 - auc: 0.6307 - val_loss: 0.6502 - val_auc: 0.7003\n",
      "Epoch 2/10\n",
      "2087/2089 [============================>.] - ETA: 0s - loss: 0.6373 - auc: 0.6853"
     ]
    },
    {
     "name": "stderr",
     "output_type": "stream",
     "text": [
      "[I 2023-08-14 15:29:31,779] Trial 61 pruned. Trial was pruned at epoch 1.\n"
     ]
    },
    {
     "name": "stdout",
     "output_type": "stream",
     "text": [
      "Epoch 1/10\n",
      "2089/2089 [==============================] - 23s 9ms/step - loss: 0.6823 - auc: 0.6231 - val_loss: 0.6511 - val_auc: 0.7010\n",
      "Epoch 2/10\n",
      "2086/2089 [============================>.] - ETA: 0s - loss: 0.6378 - auc: 0.6850"
     ]
    },
    {
     "name": "stderr",
     "output_type": "stream",
     "text": [
      "[I 2023-08-14 15:30:21,563] Trial 62 pruned. Trial was pruned at epoch 1.\n"
     ]
    },
    {
     "name": "stdout",
     "output_type": "stream",
     "text": [
      "Epoch 1/10\n",
      "2089/2089 [==============================] - 19s 7ms/step - loss: 0.6754 - auc: 0.6332 - val_loss: 0.6723 - val_auc: 0.7003\n",
      "Epoch 2/10\n",
      "2087/2089 [============================>.] - ETA: 0s - loss: 0.6355 - auc: 0.6876"
     ]
    },
    {
     "name": "stderr",
     "output_type": "stream",
     "text": [
      "[I 2023-08-14 15:30:55,821] Trial 63 pruned. Trial was pruned at epoch 1.\n"
     ]
    },
    {
     "name": "stdout",
     "output_type": "stream",
     "text": [
      "Epoch 1/10\n",
      "2087/2089 [============================>.] - ETA: 0s - loss: 0.6809 - auc: 0.6107"
     ]
    },
    {
     "name": "stderr",
     "output_type": "stream",
     "text": [
      "[I 2023-08-14 15:31:16,409] Trial 64 pruned. Trial was pruned at epoch 0.\n"
     ]
    },
    {
     "name": "stdout",
     "output_type": "stream",
     "text": [
      "Epoch 1/10\n",
      "2082/2089 [============================>.] - ETA: 0s - loss: 0.7137 - auc: 0.5719"
     ]
    },
    {
     "name": "stderr",
     "output_type": "stream",
     "text": [
      "[I 2023-08-14 15:31:36,104] Trial 65 pruned. Trial was pruned at epoch 0.\n"
     ]
    },
    {
     "name": "stdout",
     "output_type": "stream",
     "text": [
      "Epoch 1/10\n",
      "2081/2089 [============================>.] - ETA: 0s - loss: 0.6821 - auc: 0.6348"
     ]
    },
    {
     "name": "stderr",
     "output_type": "stream",
     "text": [
      "[I 2023-08-14 15:31:52,956] Trial 66 pruned. Trial was pruned at epoch 0.\n"
     ]
    },
    {
     "name": "stdout",
     "output_type": "stream",
     "text": [
      "Epoch 1/10\n",
      "2086/2089 [============================>.] - ETA: 0s - loss: 0.6596 - auc: 0.6464"
     ]
    },
    {
     "name": "stderr",
     "output_type": "stream",
     "text": [
      "[I 2023-08-14 15:32:12,770] Trial 67 pruned. Trial was pruned at epoch 0.\n"
     ]
    },
    {
     "name": "stdout",
     "output_type": "stream",
     "text": [
      "Epoch 1/10\n",
      "2082/2089 [============================>.] - ETA: 0s - loss: 0.6685 - auc: 0.6563"
     ]
    },
    {
     "name": "stderr",
     "output_type": "stream",
     "text": [
      "[I 2023-08-14 15:32:29,166] Trial 68 pruned. Trial was pruned at epoch 0.\n"
     ]
    },
    {
     "name": "stdout",
     "output_type": "stream",
     "text": [
      "Epoch 1/10\n",
      "2080/2089 [============================>.] - ETA: 0s - loss: 0.6788 - auc: 0.6180"
     ]
    },
    {
     "name": "stderr",
     "output_type": "stream",
     "text": [
      "[I 2023-08-14 15:32:49,701] Trial 69 pruned. Trial was pruned at epoch 0.\n"
     ]
    },
    {
     "name": "stdout",
     "output_type": "stream",
     "text": [
      "Epoch 1/10\n",
      "2077/2089 [============================>.] - ETA: 0s - loss: 0.6576 - auc: 0.6573"
     ]
    },
    {
     "name": "stderr",
     "output_type": "stream",
     "text": [
      "[I 2023-08-14 15:33:13,392] Trial 70 pruned. Trial was pruned at epoch 0.\n"
     ]
    },
    {
     "name": "stdout",
     "output_type": "stream",
     "text": [
      "Epoch 1/10\n",
      "2089/2089 [==============================] - 17s 6ms/step - loss: 0.6556 - auc: 0.6581 - val_loss: 0.6123 - val_auc: 0.7008\n",
      "Epoch 2/10\n",
      "2081/2089 [============================>.] - ETA: 0s - loss: 0.6322 - auc: 0.6919"
     ]
    },
    {
     "name": "stderr",
     "output_type": "stream",
     "text": [
      "[I 2023-08-14 15:33:43,565] Trial 71 pruned. Trial was pruned at epoch 1.\n"
     ]
    },
    {
     "name": "stdout",
     "output_type": "stream",
     "text": [
      "Epoch 1/10\n",
      "2089/2089 [==============================] - 16s 6ms/step - loss: 0.6686 - auc: 0.6462 - val_loss: 0.6518 - val_auc: 0.7032\n",
      "Epoch 2/10\n",
      "2082/2089 [============================>.] - ETA: 0s - loss: 0.6295 - auc: 0.6955"
     ]
    },
    {
     "name": "stderr",
     "output_type": "stream",
     "text": [
      "[I 2023-08-14 15:34:14,978] Trial 72 pruned. Trial was pruned at epoch 1.\n"
     ]
    },
    {
     "name": "stdout",
     "output_type": "stream",
     "text": [
      "Epoch 1/10\n",
      "2089/2089 [==============================] - 17s 6ms/step - loss: 0.6594 - auc: 0.6590 - val_loss: 0.6512 - val_auc: 0.7051\n",
      "Epoch 2/10\n",
      "2089/2089 [==============================] - 13s 6ms/step - loss: 0.6306 - auc: 0.6941 - val_loss: 0.6358 - val_auc: 0.7091\n",
      "Epoch 3/10\n",
      "2089/2089 [==============================] - 13s 6ms/step - loss: 0.6278 - auc: 0.6986 - val_loss: 0.6450 - val_auc: 0.7080\n",
      "Epoch 4/10\n",
      "2089/2089 [==============================] - 14s 7ms/step - loss: 0.6254 - auc: 0.7026 - val_loss: 0.6069 - val_auc: 0.7068\n",
      "Epoch 5/10\n",
      "2089/2089 [==============================] - 12s 6ms/step - loss: 0.6230 - auc: 0.7056 - val_loss: 0.5932 - val_auc: 0.7069\n",
      "Epoch 6/10\n",
      "2089/2089 [==============================] - 14s 7ms/step - loss: 0.6220 - auc: 0.7081 - val_loss: 0.6493 - val_auc: 0.7058\n",
      "Epoch 7/10\n",
      "2089/2089 [==============================] - 13s 6ms/step - loss: 0.6203 - auc: 0.7091 - val_loss: 0.6502 - val_auc: 0.7083\n",
      "Epoch 8/10\n",
      "2089/2089 [==============================] - 14s 7ms/step - loss: 0.6172 - auc: 0.7144 - val_loss: 0.6504 - val_auc: 0.7072\n",
      "Epoch 9/10\n",
      "2089/2089 [==============================] - 13s 6ms/step - loss: 0.6166 - auc: 0.7150 - val_loss: 0.5957 - val_auc: 0.7033\n",
      "Epoch 10/10\n",
      "2089/2089 [==============================] - 12s 6ms/step - loss: 0.6180 - auc: 0.7144 - val_loss: 0.6038 - val_auc: 0.7092\n"
     ]
    },
    {
     "name": "stderr",
     "output_type": "stream",
     "text": [
      "[I 2023-08-14 15:36:35,926] Trial 73 finished with value: 0.7091569900512695 and parameters: {'n_layers': 1, 'n_units_l0': 14, 'dropout_l0': 0.26929296666610236, 'learning_rate': 0.003762400874194698}. Best is trial 8 with value: 0.7098988890647888.\n"
     ]
    },
    {
     "name": "stdout",
     "output_type": "stream",
     "text": [
      "Epoch 1/10\n",
      "   1/2089 [..............................] - ETA: 1:58:20 - loss: 0.8600 - auc: 0.3852WARNING:tensorflow:Callback method `on_train_batch_end` is slow compared to the batch time (batch time: 0.0000s vs `on_train_batch_end` time: 0.0026s). Check your callbacks.\n",
      "2078/2089 [============================>.] - ETA: 0s - loss: 0.6528 - auc: 0.6622"
     ]
    },
    {
     "name": "stderr",
     "output_type": "stream",
     "text": [
      "[I 2023-08-14 15:36:54,078] Trial 74 pruned. Trial was pruned at epoch 0.\n"
     ]
    },
    {
     "name": "stdout",
     "output_type": "stream",
     "text": [
      "Epoch 1/10\n",
      "2089/2089 [==============================] - 17s 6ms/step - loss: 0.6566 - auc: 0.6615 - val_loss: 0.6474 - val_auc: 0.7007\n",
      "Epoch 2/10\n",
      "2082/2089 [============================>.] - ETA: 0s - loss: 0.6325 - auc: 0.6922"
     ]
    },
    {
     "name": "stderr",
     "output_type": "stream",
     "text": [
      "[I 2023-08-14 15:37:24,471] Trial 75 pruned. Trial was pruned at epoch 1.\n"
     ]
    },
    {
     "name": "stdout",
     "output_type": "stream",
     "text": [
      "Epoch 1/10\n",
      "2089/2089 [==============================] - ETA: 0s - loss: 0.6669 - auc: 0.6540"
     ]
    },
    {
     "name": "stderr",
     "output_type": "stream",
     "text": [
      "[I 2023-08-14 15:37:41,955] Trial 76 pruned. Trial was pruned at epoch 0.\n"
     ]
    },
    {
     "name": "stdout",
     "output_type": "stream",
     "text": [
      "Epoch 1/10\n",
      "2082/2089 [============================>.] - ETA: 0s - loss: 0.6836 - auc: 0.5984"
     ]
    },
    {
     "name": "stderr",
     "output_type": "stream",
     "text": [
      "[I 2023-08-14 15:38:08,377] Trial 77 pruned. Trial was pruned at epoch 0.\n"
     ]
    },
    {
     "name": "stdout",
     "output_type": "stream",
     "text": [
      "Epoch 1/10\n",
      "2088/2089 [============================>.] - ETA: 0s - loss: 0.6545 - auc: 0.6604"
     ]
    },
    {
     "name": "stderr",
     "output_type": "stream",
     "text": [
      "[I 2023-08-14 15:38:27,531] Trial 78 pruned. Trial was pruned at epoch 0.\n"
     ]
    },
    {
     "name": "stdout",
     "output_type": "stream",
     "text": [
      "Epoch 1/10\n",
      "2082/2089 [============================>.] - ETA: 0s - loss: 0.6578 - auc: 0.6596"
     ]
    },
    {
     "name": "stderr",
     "output_type": "stream",
     "text": [
      "[I 2023-08-14 15:38:46,982] Trial 79 pruned. Trial was pruned at epoch 0.\n"
     ]
    },
    {
     "name": "stdout",
     "output_type": "stream",
     "text": [
      "Epoch 1/10\n",
      "2089/2089 [==============================] - 19s 7ms/step - loss: 0.6605 - auc: 0.6605 - val_loss: 0.6283 - val_auc: 0.7005\n",
      "Epoch 2/10\n",
      "2089/2089 [==============================] - 14s 7ms/step - loss: 0.6347 - auc: 0.6883 - val_loss: 0.6512 - val_auc: 0.7054\n",
      "Epoch 3/10\n",
      "2089/2089 [==============================] - 12s 6ms/step - loss: 0.6303 - auc: 0.6951 - val_loss: 0.6283 - val_auc: 0.7067\n",
      "Epoch 4/10\n",
      "2089/2089 [==============================] - 12s 6ms/step - loss: 0.6289 - auc: 0.6982 - val_loss: 0.6446 - val_auc: 0.7037\n",
      "Epoch 5/10\n",
      "2089/2089 [==============================] - 12s 6ms/step - loss: 0.6263 - auc: 0.7022 - val_loss: 0.5859 - val_auc: 0.7078\n",
      "Epoch 6/10\n",
      "2089/2089 [==============================] - 16s 7ms/step - loss: 0.6242 - auc: 0.7043 - val_loss: 0.6172 - val_auc: 0.7064\n",
      "Epoch 7/10\n",
      "2077/2089 [============================>.] - ETA: 0s - loss: 0.6207 - auc: 0.7093"
     ]
    },
    {
     "name": "stderr",
     "output_type": "stream",
     "text": [
      "[I 2023-08-14 15:40:25,911] Trial 80 pruned. Trial was pruned at epoch 6.\n"
     ]
    },
    {
     "name": "stdout",
     "output_type": "stream",
     "text": [
      "Epoch 1/10\n",
      "2089/2089 [==============================] - 24s 6ms/step - loss: 0.6508 - auc: 0.6610 - val_loss: 0.6616 - val_auc: 0.7007\n",
      "Epoch 2/10\n",
      "2089/2089 [==============================] - 11s 5ms/step - loss: 0.6291 - auc: 0.6961 - val_loss: 0.6338 - val_auc: 0.7050\n",
      "Epoch 3/10\n",
      "2089/2089 [==============================] - 12s 6ms/step - loss: 0.6261 - auc: 0.7009 - val_loss: 0.6292 - val_auc: 0.7087\n",
      "Epoch 4/10\n",
      "2089/2089 [==============================] - 10s 5ms/step - loss: 0.6238 - auc: 0.7038 - val_loss: 0.6273 - val_auc: 0.7037\n",
      "Epoch 5/10\n",
      "2089/2089 [==============================] - 12s 6ms/step - loss: 0.6240 - auc: 0.7052 - val_loss: 0.5789 - val_auc: 0.7078\n",
      "Epoch 6/10\n",
      "2089/2089 [==============================] - 12s 6ms/step - loss: 0.6204 - auc: 0.7092 - val_loss: 0.6151 - val_auc: 0.7064\n",
      "Epoch 7/10\n",
      "2089/2089 [==============================] - 11s 5ms/step - loss: 0.6206 - auc: 0.7109 - val_loss: 0.6623 - val_auc: 0.7086\n",
      "Epoch 8/10\n",
      "2089/2089 [==============================] - 14s 7ms/step - loss: 0.6173 - auc: 0.7138 - val_loss: 0.6105 - val_auc: 0.7088\n",
      "Epoch 9/10\n",
      "2089/2089 [==============================] - 14s 6ms/step - loss: 0.6184 - auc: 0.7132 - val_loss: 0.6369 - val_auc: 0.7085\n",
      "Epoch 10/10\n",
      "2089/2089 [==============================] - 13s 6ms/step - loss: 0.6167 - auc: 0.7136 - val_loss: 0.5826 - val_auc: 0.7084\n"
     ]
    },
    {
     "name": "stderr",
     "output_type": "stream",
     "text": [
      "[I 2023-08-14 15:42:46,122] Trial 81 finished with value: 0.708369255065918 and parameters: {'n_layers': 1, 'n_units_l0': 8, 'dropout_l0': 0.23225560548096566, 'learning_rate': 0.0029403306950197172}. Best is trial 8 with value: 0.7098988890647888.\n"
     ]
    },
    {
     "name": "stdout",
     "output_type": "stream",
     "text": [
      "Epoch 1/10\n",
      "2089/2089 [==============================] - 19s 7ms/step - loss: 0.6614 - auc: 0.6578 - val_loss: 0.6644 - val_auc: 0.7032\n",
      "Epoch 2/10\n",
      "2089/2089 [==============================] - 14s 7ms/step - loss: 0.6334 - auc: 0.6925 - val_loss: 0.6096 - val_auc: 0.7060\n",
      "Epoch 3/10\n",
      "2086/2089 [============================>.] - ETA: 0s - loss: 0.6290 - auc: 0.6982"
     ]
    },
    {
     "name": "stderr",
     "output_type": "stream",
     "text": [
      "[I 2023-08-14 15:43:37,025] Trial 82 pruned. Trial was pruned at epoch 2.\n"
     ]
    },
    {
     "name": "stdout",
     "output_type": "stream",
     "text": [
      "Epoch 1/10\n",
      "2089/2089 [==============================] - 23s 9ms/step - loss: 0.6580 - auc: 0.6566 - val_loss: 0.6635 - val_auc: 0.7025\n",
      "Epoch 2/10\n",
      "2086/2089 [============================>.] - ETA: 0s - loss: 0.6315 - auc: 0.6922"
     ]
    },
    {
     "name": "stderr",
     "output_type": "stream",
     "text": [
      "[I 2023-08-14 15:44:18,524] Trial 83 pruned. Trial was pruned at epoch 1.\n"
     ]
    },
    {
     "name": "stdout",
     "output_type": "stream",
     "text": [
      "Epoch 1/10\n",
      "2089/2089 [==============================] - ETA: 0s - loss: 0.6626 - auc: 0.6613"
     ]
    },
    {
     "name": "stderr",
     "output_type": "stream",
     "text": [
      "[I 2023-08-14 15:44:42,132] Trial 84 pruned. Trial was pruned at epoch 0.\n"
     ]
    },
    {
     "name": "stdout",
     "output_type": "stream",
     "text": [
      "Epoch 1/10\n",
      "2089/2089 [==============================] - ETA: 0s - loss: 0.6599 - auc: 0.6566"
     ]
    },
    {
     "name": "stderr",
     "output_type": "stream",
     "text": [
      "[I 2023-08-14 15:45:05,729] Trial 85 pruned. Trial was pruned at epoch 0.\n"
     ]
    },
    {
     "name": "stdout",
     "output_type": "stream",
     "text": [
      "Epoch 1/10\n",
      "2086/2089 [============================>.] - ETA: 0s - loss: 0.6626 - auc: 0.6485"
     ]
    },
    {
     "name": "stderr",
     "output_type": "stream",
     "text": [
      "[I 2023-08-14 15:45:27,451] Trial 86 pruned. Trial was pruned at epoch 0.\n"
     ]
    },
    {
     "name": "stdout",
     "output_type": "stream",
     "text": [
      "Epoch 1/10\n",
      "2084/2089 [============================>.] - ETA: 0s - loss: 0.6596 - auc: 0.6537"
     ]
    },
    {
     "name": "stderr",
     "output_type": "stream",
     "text": [
      "[I 2023-08-14 15:45:50,591] Trial 87 pruned. Trial was pruned at epoch 0.\n"
     ]
    },
    {
     "name": "stdout",
     "output_type": "stream",
     "text": [
      "Epoch 1/10\n",
      "2086/2089 [============================>.] - ETA: 0s - loss: 0.6735 - auc: 0.6197"
     ]
    },
    {
     "name": "stderr",
     "output_type": "stream",
     "text": [
      "[I 2023-08-14 15:46:17,711] Trial 88 pruned. Trial was pruned at epoch 0.\n"
     ]
    },
    {
     "name": "stdout",
     "output_type": "stream",
     "text": [
      "Epoch 1/10\n",
      "2081/2089 [============================>.] - ETA: 0s - loss: 0.6716 - auc: 0.6458"
     ]
    },
    {
     "name": "stderr",
     "output_type": "stream",
     "text": [
      "[I 2023-08-14 15:46:40,360] Trial 89 pruned. Trial was pruned at epoch 0.\n"
     ]
    },
    {
     "name": "stdout",
     "output_type": "stream",
     "text": [
      "Epoch 1/10\n",
      "2081/2089 [============================>.] - ETA: 0s - loss: 0.6628 - auc: 0.6501"
     ]
    },
    {
     "name": "stderr",
     "output_type": "stream",
     "text": [
      "[I 2023-08-14 15:47:03,885] Trial 90 pruned. Trial was pruned at epoch 0.\n"
     ]
    },
    {
     "name": "stdout",
     "output_type": "stream",
     "text": [
      "Epoch 1/10\n",
      "2089/2089 [==============================] - 30s 12ms/step - loss: 0.6612 - auc: 0.6541 - val_loss: 0.6249 - val_auc: 0.7042\n",
      "Epoch 2/10\n",
      "2088/2089 [============================>.] - ETA: 0s - loss: 0.6330 - auc: 0.6911"
     ]
    },
    {
     "name": "stderr",
     "output_type": "stream",
     "text": [
      "[I 2023-08-14 15:47:52,494] Trial 91 pruned. Trial was pruned at epoch 1.\n"
     ]
    },
    {
     "name": "stdout",
     "output_type": "stream",
     "text": [
      "Epoch 1/10\n",
      "2089/2089 [==============================] - 25s 10ms/step - loss: 0.6565 - auc: 0.6553 - val_loss: 0.6141 - val_auc: 0.7005\n",
      "Epoch 2/10\n",
      "2087/2089 [============================>.] - ETA: 0s - loss: 0.6307 - auc: 0.6954"
     ]
    },
    {
     "name": "stderr",
     "output_type": "stream",
     "text": [
      "[I 2023-08-14 15:48:36,116] Trial 92 pruned. Trial was pruned at epoch 1.\n"
     ]
    },
    {
     "name": "stdout",
     "output_type": "stream",
     "text": [
      "Epoch 1/10\n",
      "2089/2089 [==============================] - 24s 9ms/step - loss: 0.6558 - auc: 0.6587 - val_loss: 0.6302 - val_auc: 0.7022\n",
      "Epoch 2/10\n",
      "2089/2089 [==============================] - 21s 10ms/step - loss: 0.6324 - auc: 0.6927 - val_loss: 0.6607 - val_auc: 0.7064\n",
      "Epoch 3/10\n",
      "2085/2089 [============================>.] - ETA: 0s - loss: 0.6280 - auc: 0.6993"
     ]
    },
    {
     "name": "stderr",
     "output_type": "stream",
     "text": [
      "[I 2023-08-14 15:49:38,754] Trial 93 pruned. Trial was pruned at epoch 2.\n"
     ]
    },
    {
     "name": "stdout",
     "output_type": "stream",
     "text": [
      "Epoch 1/10\n",
      "2089/2089 [==============================] - 22s 9ms/step - loss: 0.6598 - auc: 0.6568 - val_loss: 0.6007 - val_auc: 0.7007\n",
      "Epoch 2/10\n",
      "2089/2089 [==============================] - ETA: 0s - loss: 0.6315 - auc: 0.6923"
     ]
    },
    {
     "name": "stderr",
     "output_type": "stream",
     "text": [
      "[I 2023-08-14 15:50:19,472] Trial 94 pruned. Trial was pruned at epoch 1.\n"
     ]
    },
    {
     "name": "stdout",
     "output_type": "stream",
     "text": [
      "Epoch 1/10\n",
      "2089/2089 [==============================] - 20s 7ms/step - loss: 0.6632 - auc: 0.6499 - val_loss: 0.6178 - val_auc: 0.7022\n",
      "Epoch 2/10\n",
      "2089/2089 [==============================] - 12s 6ms/step - loss: 0.6310 - auc: 0.6946 - val_loss: 0.6255 - val_auc: 0.7051\n",
      "Epoch 3/10\n",
      "2079/2089 [============================>.] - ETA: 0s - loss: 0.6280 - auc: 0.6984"
     ]
    },
    {
     "name": "stderr",
     "output_type": "stream",
     "text": [
      "[I 2023-08-14 15:51:05,573] Trial 95 pruned. Trial was pruned at epoch 2.\n"
     ]
    },
    {
     "name": "stdout",
     "output_type": "stream",
     "text": [
      "Epoch 1/10\n",
      "2083/2089 [============================>.] - ETA: 0s - loss: 0.6738 - auc: 0.6443"
     ]
    },
    {
     "name": "stderr",
     "output_type": "stream",
     "text": [
      "[I 2023-08-14 15:51:23,991] Trial 96 pruned. Trial was pruned at epoch 0.\n"
     ]
    },
    {
     "name": "stdout",
     "output_type": "stream",
     "text": [
      "Epoch 1/10\n",
      "2085/2089 [============================>.] - ETA: 0s - loss: 0.6679 - auc: 0.6469"
     ]
    },
    {
     "name": "stderr",
     "output_type": "stream",
     "text": [
      "[I 2023-08-14 15:51:44,408] Trial 97 pruned. Trial was pruned at epoch 0.\n"
     ]
    },
    {
     "name": "stdout",
     "output_type": "stream",
     "text": [
      "Epoch 1/10\n",
      "2088/2089 [============================>.] - ETA: 0s - loss: 0.6855 - auc: 0.6157"
     ]
    },
    {
     "name": "stderr",
     "output_type": "stream",
     "text": [
      "[I 2023-08-14 15:52:14,506] Trial 98 pruned. Trial was pruned at epoch 0.\n"
     ]
    },
    {
     "name": "stdout",
     "output_type": "stream",
     "text": [
      "Epoch 1/10\n",
      "2086/2089 [============================>.] - ETA: 0s - loss: 0.6582 - auc: 0.6580"
     ]
    },
    {
     "name": "stderr",
     "output_type": "stream",
     "text": [
      "[I 2023-08-14 15:52:37,999] Trial 99 pruned. Trial was pruned at epoch 0.\n"
     ]
    },
    {
     "name": "stdout",
     "output_type": "stream",
     "text": [
      "Study statistics: \n",
      "  Number of finished trials:  100\n",
      "  Number of pruned trials:  83\n",
      "  Number of complete trials:  17\n",
      "Best trial:\n",
      "  Value:  0.7098988890647888\n",
      "  Params: \n",
      "    n_layers: 1\n",
      "    n_units_l0: 5\n",
      "    dropout_l0: 0.30740058284517024\n",
      "    learning_rate: 0.006791929933654921\n"
     ]
    }
   ],
   "source": [
    "study = optuna.create_study(direction=\"maximize\", pruner=optuna.pruners.MedianPruner())\n",
    "study.optimize(objective, n_trials=100)\n",
    "pruned_trials = study.get_trials(deepcopy=False, states=[TrialState.PRUNED])\n",
    "complete_trials = study.get_trials(deepcopy=False, states=[TrialState.COMPLETE])\n",
    "\n",
    "print(\"Study statistics: \")\n",
    "print(\"  Number of finished trials: \", len(study.trials))\n",
    "print(\"  Number of pruned trials: \", len(pruned_trials))\n",
    "print(\"  Number of complete trials: \", len(complete_trials))\n",
    "\n",
    "print(\"Best trial:\")\n",
    "trial = study.best_trial\n",
    "\n",
    "print(\"  Value: \", trial.value)\n",
    "\n",
    "print(\"  Params: \")\n",
    "for key, value in trial.params.items():\n",
    "    print(\"    {}: {}\".format(key, value))"
   ]
  },
  {
   "cell_type": "code",
   "execution_count": 70,
   "metadata": {},
   "outputs": [],
   "source": [
    "from keras.models import Sequential\n",
    "from keras.models import Model\n",
    "# from tensorflow.python.keras.models import Input\n",
    "from tensorflow.keras.layers import Input"
   ]
  },
  {
   "cell_type": "code",
   "execution_count": 71,
   "metadata": {},
   "outputs": [
    {
     "data": {
      "text/plain": [
       "'\\nBest trial:\\n  Value:  0.7110906839370728\\n  Params: \\n    n_layers: 1\\n    n_units_l0: 7\\n    dropout_l0: 0.3682791136375273\\n    learning_rate: 0.0028044955596416617\\n'"
      ]
     },
     "execution_count": 71,
     "metadata": {},
     "output_type": "execute_result"
    }
   ],
   "source": [
    "\"\"\"\n",
    "Best trial:\n",
    "  Value:  0.7110906839370728\n",
    "  Params: \n",
    "    n_layers: 1\n",
    "    n_units_l0: 7\n",
    "    dropout_l0: 0.3682791136375273\n",
    "    learning_rate: 0.0028044955596416617\n",
    "\"\"\"\n",
    "\n",
    "# def build_model() -> tf.keras.Model:\n",
    "#     tf.keras.backend.clear_session()\n",
    "#     model = Sequential()\n",
    "    \n",
    "#     model.add(Dense(7, input_dim=x_train.shape[1], activation='relu'))\n",
    "#     model.add(BatchNormalization())\n",
    "#     model.add(Dropout(rate=0.3682791136375273))\n",
    "    \n",
    "#     model.add(Dense(1, activation='sigmoid'))\n",
    "    \n",
    "#     # compile the keras model\n",
    "#     model.compile(loss='binary_crossentropy', optimizer=Adam(learning_rate=0.0028044955596416617), metrics=[tf.keras.metrics.AUC()])\n",
    "#     return model\n",
    "\n",
    "\n",
    "# def build_model() -> tf.keras.Model:\n",
    "#     tf.keras.backend.clear_session()\n",
    "#     model = Sequential()\n",
    "    \n",
    "#     model.add(Dense(32, input_dim=x_train.shape[1], activation='relu'))\n",
    "#     model.add(BatchNormalization())\n",
    "#     model.add(Dropout(rate=0.5))\n",
    "\n",
    "#     model.add(Dense(16, activation='relu'))\n",
    "#     model.add(BatchNormalization())\n",
    "#     model.add(Dropout(rate=0.4))\n",
    "    \n",
    "#     model.add(Dense(1, activation='sigmoid'))\n",
    "#     # compile the keras model\n",
    "#     model.compile(loss='binary_crossentropy', optimizer='Adam', metrics=[tf.keras.metrics.AUC()])\n",
    "#     return model"
   ]
  },
  {
   "cell_type": "code",
   "execution_count": 72,
   "metadata": {},
   "outputs": [],
   "source": [
    "# early_stop = tf.keras.callbacks.EarlyStopping(monitor='val_loss', patience=3)\n",
    "\n",
    "# keras.utils.set_random_seed(2)\n",
    "# model = build_model()\n",
    "# history = model.fit(x_train, y_train, class_weight=class_weights, epochs=10, batch_size=64, validation_data=(x_valid, y_valid), verbose=1, callbacks=[early_stop]) # validation_split=0.2\n",
    "\n",
    "# # evaluating on test set\n",
    "\n",
    "# loss, test_auc = model.evaluate(x_test, y_test)\n",
    "# print('test AUC', np.round(test_auc, 4))"
   ]
  },
  {
   "cell_type": "code",
   "execution_count": null,
   "metadata": {},
   "outputs": [],
   "source": []
  },
  {
   "cell_type": "code",
   "execution_count": 73,
   "metadata": {},
   "outputs": [],
   "source": [
    "def get_dropout(input_tensor, p=0.5, mc=False):\n",
    "    if mc:\n",
    "        return Dropout(p)(input_tensor, training=True)\n",
    "    else:\n",
    "        return Dropout(p)(input_tensor)\n",
    "\n",
    "\n",
    "def get_model(mc=False, act=\"relu\"):\n",
    "    tf.keras.backend.clear_session()\n",
    "    \n",
    "    inp = Input(input_shape)\n",
    "    x = Dense(32, activation=act)(inp)\n",
    "    x = BatchNormalization()(x)\n",
    "    x = get_dropout(x, p=0.5, mc=mc)\n",
    "    \n",
    "    x = Dense(16, activation=act)(x)\n",
    "    x = BatchNormalization()(x)\n",
    "    x = get_dropout(x, p=0.4, mc=mc)\n",
    "\n",
    "    out = Dense(1, activation='sigmoid')(x)\n",
    "\n",
    "    model = Model(inputs=inp, outputs=out)\n",
    "\n",
    "    model.compile(loss=keras.losses.binary_crossentropy,\n",
    "                  optimizer=keras.optimizers.Nadam(),\n",
    "                  metrics=[tf.keras.metrics.AUC()])\n",
    "    return model"
   ]
  },
  {
   "cell_type": "code",
   "execution_count": 74,
   "metadata": {},
   "outputs": [],
   "source": [
    "keras.utils.set_random_seed(2)\n",
    "\n",
    "input_shape = (x_train.shape[1],)\n",
    "batch_size=64\n",
    "epochs=10\n",
    "\n",
    "model = get_model(mc=False, act=\"relu\")\n",
    "mc_model = get_model(mc=True, act=\"relu\")"
   ]
  },
  {
   "cell_type": "code",
   "execution_count": 75,
   "metadata": {},
   "outputs": [
    {
     "name": "stdout",
     "output_type": "stream",
     "text": [
      "Epoch 1/10\n",
      "2089/2089 [==============================] - 29s 9ms/step - loss: 0.2709 - auc: 0.5100 - val_loss: 0.1825 - val_auc: 0.6291\n",
      "Epoch 2/10\n",
      "2089/2089 [==============================] - 17s 8ms/step - loss: 0.1883 - auc: 0.5928 - val_loss: 0.1759 - val_auc: 0.6932\n",
      "Epoch 3/10\n",
      "2089/2089 [==============================] - 18s 9ms/step - loss: 0.1817 - auc: 0.6393 - val_loss: 0.1739 - val_auc: 0.7051\n",
      "Epoch 4/10\n",
      "2089/2089 [==============================] - 19s 9ms/step - loss: 0.1789 - auc: 0.6632 - val_loss: 0.1732 - val_auc: 0.7075\n",
      "Epoch 5/10\n",
      "2089/2089 [==============================] - 17s 8ms/step - loss: 0.1776 - auc: 0.6736 - val_loss: 0.1731 - val_auc: 0.7086\n",
      "Epoch 6/10\n",
      "2089/2089 [==============================] - 18s 9ms/step - loss: 0.1760 - auc: 0.6870 - val_loss: 0.1733 - val_auc: 0.7076\n",
      "Epoch 7/10\n",
      "2089/2089 [==============================] - 18s 8ms/step - loss: 0.1757 - auc: 0.6882 - val_loss: 0.1730 - val_auc: 0.7075\n",
      "Epoch 8/10\n",
      "2089/2089 [==============================] - 20s 10ms/step - loss: 0.1748 - auc: 0.6945 - val_loss: 0.1726 - val_auc: 0.7106\n",
      "Epoch 9/10\n",
      "2089/2089 [==============================] - 18s 9ms/step - loss: 0.1739 - auc: 0.7019 - val_loss: 0.1731 - val_auc: 0.7068\n",
      "Epoch 10/10\n",
      "2089/2089 [==============================] - 20s 9ms/step - loss: 0.1737 - auc: 0.7046 - val_loss: 0.1728 - val_auc: 0.7086\n"
     ]
    }
   ],
   "source": [
    "keras.utils.set_random_seed(2)\n",
    "\n",
    "h = model.fit(x_train, y_train,\n",
    "              batch_size=batch_size,\n",
    "              epochs=epochs,\n",
    "              verbose=1,\n",
    "              validation_data=(x_valid, y_valid))"
   ]
  },
  {
   "cell_type": "code",
   "execution_count": 76,
   "metadata": {},
   "outputs": [
    {
     "name": "stdout",
     "output_type": "stream",
     "text": [
      "1857/1857 [==============================] - 12s 6ms/step - loss: 0.1738 - auc: 0.7010\n",
      "test AUC 0.701\n"
     ]
    }
   ],
   "source": [
    "# evaluating on test set\n",
    "\n",
    "loss, test_auc = model.evaluate(x_test, y_test)\n",
    "print('test AUC', np.round(test_auc, 4))"
   ]
  },
  {
   "cell_type": "code",
   "execution_count": null,
   "metadata": {},
   "outputs": [],
   "source": []
  },
  {
   "cell_type": "code",
   "execution_count": 77,
   "metadata": {},
   "outputs": [
    {
     "name": "stdout",
     "output_type": "stream",
     "text": [
      "Epoch 1/10\n",
      "2089/2089 [==============================] - 38s 10ms/step - loss: 0.2707 - auc: 0.5128 - val_loss: 0.1973 - val_auc: 0.5431\n",
      "Epoch 2/10\n",
      "2089/2089 [==============================] - 19s 9ms/step - loss: 0.1874 - auc: 0.6058 - val_loss: 0.1827 - val_auc: 0.6378\n",
      "Epoch 3/10\n",
      "2089/2089 [==============================] - 20s 9ms/step - loss: 0.1816 - auc: 0.6438 - val_loss: 0.1797 - val_auc: 0.6592\n",
      "Epoch 4/10\n",
      "2089/2089 [==============================] - 18s 8ms/step - loss: 0.1780 - auc: 0.6685 - val_loss: 0.1777 - val_auc: 0.6782\n",
      "Epoch 5/10\n",
      "2089/2089 [==============================] - 18s 9ms/step - loss: 0.1769 - auc: 0.6796 - val_loss: 0.1771 - val_auc: 0.6845\n",
      "Epoch 6/10\n",
      "2089/2089 [==============================] - 18s 9ms/step - loss: 0.1754 - auc: 0.6909 - val_loss: 0.1773 - val_auc: 0.6825\n",
      "Epoch 7/10\n",
      "2089/2089 [==============================] - 18s 9ms/step - loss: 0.1748 - auc: 0.6966 - val_loss: 0.1763 - val_auc: 0.6835\n",
      "Epoch 8/10\n",
      "2089/2089 [==============================] - 19s 9ms/step - loss: 0.1743 - auc: 0.6992 - val_loss: 0.1763 - val_auc: 0.6817\n",
      "Epoch 9/10\n",
      "2089/2089 [==============================] - 19s 9ms/step - loss: 0.1740 - auc: 0.7014 - val_loss: 0.1751 - val_auc: 0.6928\n",
      "Epoch 10/10\n",
      "2089/2089 [==============================] - 23s 11ms/step - loss: 0.1738 - auc: 0.7053 - val_loss: 0.1755 - val_auc: 0.6937\n"
     ]
    }
   ],
   "source": [
    "keras.utils.set_random_seed(3)\n",
    "\n",
    "h = mc_model.fit(x_train, y_train,\n",
    "              batch_size=batch_size,\n",
    "              epochs=10,\n",
    "              verbose=1,\n",
    "              validation_data=(x_valid, y_valid))"
   ]
  },
  {
   "cell_type": "code",
   "execution_count": 78,
   "metadata": {},
   "outputs": [
    {
     "name": "stdout",
     "output_type": "stream",
     "text": [
      "1857/1857 [==============================] - 11s 6ms/step - loss: 0.1769 - auc: 0.6812\n",
      "test AUC 0.6812\n"
     ]
    }
   ],
   "source": [
    "# evaluating on test set\n",
    "\n",
    "loss, test_auc = mc_model.evaluate(x_test, y_test)\n",
    "print('test AUC', np.round(test_auc, 4))"
   ]
  },
  {
   "cell_type": "code",
   "execution_count": 79,
   "metadata": {},
   "outputs": [
    {
     "name": "stdout",
     "output_type": "stream",
     "text": [
      "1857/1857 [==============================] - 10s 5ms/step\n",
      "1857/1857 [==============================] - 9s 5ms/step\n",
      "1857/1857 [==============================] - 10s 5ms/step\n",
      "1857/1857 [==============================] - 9s 5ms/step\n",
      "1857/1857 [==============================] - 9s 5ms/step\n",
      "1857/1857 [==============================] - 9s 5ms/step\n",
      "1857/1857 [==============================] - 10s 5ms/step\n",
      "1857/1857 [==============================] - 10s 5ms/step\n",
      "1857/1857 [==============================] - 9s 5ms/step\n",
      "1857/1857 [==============================] - 9s 5ms/step\n",
      "1857/1857 [==============================] - 9s 5ms/step\n",
      "1857/1857 [==============================] - 9s 5ms/step\n",
      "1857/1857 [==============================] - 10s 5ms/step\n",
      "1857/1857 [==============================] - 8s 4ms/step\n",
      "1857/1857 [==============================] - 9s 4ms/step\n",
      "1857/1857 [==============================] - 9s 5ms/step\n",
      "1857/1857 [==============================] - 9s 5ms/step\n",
      "1857/1857 [==============================] - 9s 5ms/step\n",
      "1857/1857 [==============================] - 9s 5ms/step\n",
      "1857/1857 [==============================] - 10s 5ms/step\n",
      "1857/1857 [==============================] - 9s 5ms/step\n",
      "1857/1857 [==============================] - 9s 5ms/step\n",
      "1857/1857 [==============================] - 10s 5ms/step\n",
      "1857/1857 [==============================] - 9s 5ms/step\n",
      "1857/1857 [==============================] - 8s 4ms/step\n",
      "1857/1857 [==============================] - 9s 5ms/step\n",
      "1857/1857 [==============================] - 8s 4ms/step\n",
      "1857/1857 [==============================] - 10s 5ms/step\n",
      "1857/1857 [==============================] - 9s 5ms/step\n",
      "1857/1857 [==============================] - 9s 5ms/step\n",
      "1857/1857 [==============================] - 9s 5ms/step\n",
      "1857/1857 [==============================] - 9s 5ms/step\n",
      "1857/1857 [==============================] - 10s 5ms/step\n",
      "1857/1857 [==============================] - 10s 5ms/step\n",
      "1857/1857 [==============================] - 9s 5ms/step\n",
      "1857/1857 [==============================] - 10s 5ms/step\n",
      "1857/1857 [==============================] - 9s 5ms/step\n",
      "1857/1857 [==============================] - 9s 5ms/step\n",
      "1857/1857 [==============================] - 8s 4ms/step\n",
      "1857/1857 [==============================] - 8s 4ms/step\n",
      "1857/1857 [==============================] - 9s 5ms/step\n",
      "1857/1857 [==============================] - 9s 5ms/step\n",
      "1857/1857 [==============================] - 9s 5ms/step\n",
      "1857/1857 [==============================] - 9s 5ms/step\n",
      "1857/1857 [==============================] - 9s 5ms/step\n",
      "1857/1857 [==============================] - 10s 5ms/step\n",
      "1857/1857 [==============================] - 9s 5ms/step\n",
      "1857/1857 [==============================] - 9s 5ms/step\n",
      "1857/1857 [==============================] - 9s 5ms/step\n",
      "1857/1857 [==============================] - 9s 5ms/step\n",
      "Test AUC combined :  0.7024\n"
     ]
    }
   ],
   "source": [
    "# score of ensemble of mc dropout models\n",
    "from sklearn.metrics import roc_auc_score\n",
    "\n",
    "yhats = np.array([mc_model.predict(x_test).flatten() for _ in range(50)]).T\n",
    "test_predictions_mean = yhats.mean(axis=1)\n",
    "print('Test AUC combined : ', np.round(roc_auc_score(y_test, test_predictions_mean), 4))"
   ]
  },
  {
   "cell_type": "code",
   "execution_count": 80,
   "metadata": {},
   "outputs": [
    {
     "data": {
      "text/plain": [
       "((59403, 50), (59403, 1))"
      ]
     },
     "execution_count": 80,
     "metadata": {},
     "output_type": "execute_result"
    }
   ],
   "source": [
    "yhats.shape, y_test.shape"
   ]
  },
  {
   "cell_type": "code",
   "execution_count": 81,
   "metadata": {},
   "outputs": [
    {
     "data": {
      "text/plain": [
       "array([0.01076684, 0.00973087, 0.0040069 , 0.01410031, 0.01114178,\n",
       "       0.00402045, 0.01681957, 0.01310514, 0.01014706, 0.0045107 ,\n",
       "       0.0053697 , 0.00432999, 0.02192255, 0.00777325, 0.02838583,\n",
       "       0.0078198 , 0.02183338, 0.00794231, 0.01838432, 0.01774842,\n",
       "       0.02385778, 0.01437086, 0.02493113, 0.00885032, 0.00541609,\n",
       "       0.0048812 , 0.02285557, 0.01801295, 0.0148519 , 0.01065938,\n",
       "       0.01491923, 0.00863252, 0.00680389, 0.00652416, 0.01306355,\n",
       "       0.00834369, 0.00619539, 0.00982416, 0.02653037, 0.00420081,\n",
       "       0.01762786, 0.01484012, 0.00998026, 0.01362068, 0.0090255 ,\n",
       "       0.01216494, 0.0101558 , 0.02435272, 0.01560277, 0.0038688 ],\n",
       "      dtype=float32)"
      ]
     },
     "execution_count": 81,
     "metadata": {},
     "output_type": "execute_result"
    }
   ],
   "source": [
    "# yhats[:,0]\n",
    "yhats[0, :]"
   ]
  },
  {
   "cell_type": "code",
   "execution_count": 82,
   "metadata": {},
   "outputs": [],
   "source": [
    "yhats_mean = yhats.mean(axis=1)\n",
    "yhats_std = yhats.std(axis=1)\n",
    "yhats_min = yhats.min(axis=1)\n",
    "yhats_max = yhats.max(axis=1)\n",
    "yhats_range = yhats_max - yhats_min\n",
    "\n",
    "# The 95% CI is computed as mean ± (1.96 * stdv)\n",
    "upper = yhats_mean + (1.96 * yhats_std) #0.3+0.5=0.8 0.7(unceratinty add)\n",
    "lower = yhats_mean - (1.96 * yhats_std) #(removing unceratintity)"
   ]
  },
  {
   "cell_type": "code",
   "execution_count": 83,
   "metadata": {},
   "outputs": [],
   "source": [
    "results_df = pd.DataFrame()\n",
    "\n",
    "results_df['predictions_mean'] = yhats_mean\n",
    "results_df['predictions_std'] = yhats_std\n",
    "results_df['predictions_upper'] = upper\n",
    "results_df['predictions_lower'] = lower\n",
    "results_df['predictions 95% CI'] = results_df.apply(lambda row: f\"{row['predictions_upper']} - {row['predictions_lower']}\", axis=1)\n",
    "results_df['actual'] = y_test"
   ]
  },
  {
   "cell_type": "code",
   "execution_count": 84,
   "metadata": {},
   "outputs": [
    {
     "data": {
      "text/html": [
       "<div>\n",
       "<style scoped>\n",
       "    .dataframe tbody tr th:only-of-type {\n",
       "        vertical-align: middle;\n",
       "    }\n",
       "\n",
       "    .dataframe tbody tr th {\n",
       "        vertical-align: top;\n",
       "    }\n",
       "\n",
       "    .dataframe thead th {\n",
       "        text-align: right;\n",
       "    }\n",
       "</style>\n",
       "<table border=\"1\" class=\"dataframe\">\n",
       "  <thead>\n",
       "    <tr style=\"text-align: right;\">\n",
       "      <th></th>\n",
       "      <th>predictions_mean</th>\n",
       "      <th>predictions_std</th>\n",
       "      <th>predictions_upper</th>\n",
       "      <th>predictions_lower</th>\n",
       "      <th>predictions 95% CI</th>\n",
       "      <th>actual</th>\n",
       "    </tr>\n",
       "  </thead>\n",
       "  <tbody>\n",
       "    <tr>\n",
       "      <th>59398</th>\n",
       "      <td>0.044748</td>\n",
       "      <td>0.011241</td>\n",
       "      <td>0.066781</td>\n",
       "      <td>0.022716</td>\n",
       "      <td>0.06678082048892975 - 0.02271554432809353</td>\n",
       "      <td>0</td>\n",
       "    </tr>\n",
       "    <tr>\n",
       "      <th>59399</th>\n",
       "      <td>0.012892</td>\n",
       "      <td>0.006712</td>\n",
       "      <td>0.026048</td>\n",
       "      <td>-0.000263</td>\n",
       "      <td>0.026048000901937485 - -0.0002633240073919296</td>\n",
       "      <td>0</td>\n",
       "    </tr>\n",
       "    <tr>\n",
       "      <th>59400</th>\n",
       "      <td>0.020942</td>\n",
       "      <td>0.007752</td>\n",
       "      <td>0.036137</td>\n",
       "      <td>0.005748</td>\n",
       "      <td>0.036137208342552185 - 0.0057475147768855095</td>\n",
       "      <td>0</td>\n",
       "    </tr>\n",
       "    <tr>\n",
       "      <th>59401</th>\n",
       "      <td>0.109106</td>\n",
       "      <td>0.022512</td>\n",
       "      <td>0.153230</td>\n",
       "      <td>0.064983</td>\n",
       "      <td>0.15323011577129364 - 0.06498260796070099</td>\n",
       "      <td>0</td>\n",
       "    </tr>\n",
       "    <tr>\n",
       "      <th>59402</th>\n",
       "      <td>0.031526</td>\n",
       "      <td>0.010925</td>\n",
       "      <td>0.052939</td>\n",
       "      <td>0.010113</td>\n",
       "      <td>0.0529390349984169 - 0.010113343596458435</td>\n",
       "      <td>0</td>\n",
       "    </tr>\n",
       "  </tbody>\n",
       "</table>\n",
       "</div>"
      ],
      "text/plain": [
       "       predictions_mean  predictions_std  predictions_upper  \\\n",
       "59398          0.044748         0.011241           0.066781   \n",
       "59399          0.012892         0.006712           0.026048   \n",
       "59400          0.020942         0.007752           0.036137   \n",
       "59401          0.109106         0.022512           0.153230   \n",
       "59402          0.031526         0.010925           0.052939   \n",
       "\n",
       "       predictions_lower                             predictions 95% CI  \\\n",
       "59398           0.022716      0.06678082048892975 - 0.02271554432809353   \n",
       "59399          -0.000263  0.026048000901937485 - -0.0002633240073919296   \n",
       "59400           0.005748   0.036137208342552185 - 0.0057475147768855095   \n",
       "59401           0.064983      0.15323011577129364 - 0.06498260796070099   \n",
       "59402           0.010113      0.0529390349984169 - 0.010113343596458435   \n",
       "\n",
       "       actual  \n",
       "59398       0  \n",
       "59399       0  \n",
       "59400       0  \n",
       "59401       0  \n",
       "59402       0  "
      ]
     },
     "execution_count": 84,
     "metadata": {},
     "output_type": "execute_result"
    }
   ],
   "source": [
    "results_df.tail()"
   ]
  },
  {
   "cell_type": "code",
   "execution_count": 85,
   "metadata": {},
   "outputs": [
    {
     "name": "stdout",
     "output_type": "stream",
     "text": [
      "mean AUC :  0.7023702332782453\n",
      "upper AUC :  0.700939388949572\n",
      "lower AUC :  0.6814493452704518\n"
     ]
    }
   ],
   "source": [
    "print('mean AUC : ', roc_auc_score(results_df['actual'], results_df['predictions_mean']))\n",
    "print('upper AUC : ',roc_auc_score(results_df['actual'], results_df['predictions_upper']))\n",
    "print('lower AUC : ',roc_auc_score(results_df['actual'], results_df['predictions_lower']))"
   ]
  },
  {
   "cell_type": "code",
   "execution_count": 86,
   "metadata": {},
   "outputs": [
    {
     "data": {
      "image/png": "[encoded data removed]",
      "text/plain": [
       "<Figure size 640x480 with 1 Axes>"
      ]
     },
     "metadata": {},
     "output_type": "display_data"
    }
   ],
   "source": [
    "plt.xlim(-.1, .4)\n",
    "\n",
    "sns.distplot(results_df['predictions_mean']); \n",
    "sns.distplot(results_df['predictions_upper']); \n",
    "sns.distplot(results_df['predictions_lower']); \n",
    "\n",
    "plt.show()"
   ]
  },
  {
   "cell_type": "markdown",
   "metadata": {},
   "source": [
    "This function calculates the ROC curve for a given set of target (actual) values and predicted probabilities. Then, it computes the difference between the true positive rate (sensitivity) and (1 - false positive rate) for various threshold values. The threshold value with the smallest difference is chosen as the optimal cutoff point. This optimal cutoff point can be used to classify predicted probabilities into classes (e.g., 0 or 1) for a binary classification problem."
   ]
  },
  {
   "cell_type": "code",
   "execution_count": 87,
   "metadata": {},
   "outputs": [],
   "source": [
    "def Find_Optimal_Cutoff(target, predicted):\n",
    "    \"\"\" Find the optimal probability cutoff point for a classification model related to event rate\n",
    "    Parameters\n",
    "    ----------\n",
    "    target : Matrix with dependent or target data, where rows are observations\n",
    "\n",
    "    predicted : Matrix with predicted data, where rows are observations\n",
    "\n",
    "    Returns\n",
    "    -------     \n",
    "    list type, with optimal cutoff value\n",
    "        \n",
    "    \"\"\"\n",
    "    fpr, tpr, threshold = roc_curve(target, predicted)\n",
    "    i = np.arange(len(tpr)) \n",
    "    roc = pd.DataFrame({'tf' : pd.Series(tpr-(1-fpr), index=i), 'threshold' : pd.Series(threshold, index=i)})\n",
    "    roc_t = roc.iloc[(roc.tf-0).abs().argsort()[:1]]\n",
    "\n",
    "    return list(roc_t['threshold']) "
   ]
  },
  {
   "cell_type": "code",
   "execution_count": null,
   "metadata": {},
   "outputs": [],
   "source": []
  },
  {
   "cell_type": "code",
   "execution_count": 88,
   "metadata": {},
   "outputs": [],
   "source": [
    "threshold=Find_Optimal_Cutoff(results_df['actual'], results_df['predictions_mean'])[0]"
   ]
  },
  {
   "cell_type": "code",
   "execution_count": 89,
   "metadata": {},
   "outputs": [
    {
     "data": {
      "text/plain": [
       "0.049333442002534866"
      ]
     },
     "execution_count": 89,
     "metadata": {},
     "output_type": "execute_result"
    }
   ],
   "source": [
    "threshold"
   ]
  },
  {
   "cell_type": "code",
   "execution_count": 90,
   "metadata": {},
   "outputs": [],
   "source": [
    "results_df['impr_mean'] = results_df['predictions_mean'].map(lambda x: 1 if x>threshold else 0)\n",
    "results_df['clk_mean'] = results_df.apply(lambda row: 1 if (row['actual']==1 and row['impr_mean']==1) else 0, axis=1)\n",
    "\n",
    "mean_imprs = results_df['impr_mean'].sum()\n",
    "mean_clicks = results_df['clk_mean'].sum()"
   ]
  },
  {
   "cell_type": "code",
   "execution_count": 91,
   "metadata": {},
   "outputs": [
    {
     "data": {
      "text/plain": [
       "7.952476329206118"
      ]
     },
     "execution_count": 91,
     "metadata": {},
     "output_type": "execute_result"
    }
   ],
   "source": [
    "mean_ctr=mean_clicks/mean_imprs*100\n",
    "mean_ctr  ##8% of the users will click imprs"
   ]
  },
  {
   "cell_type": "code",
   "execution_count": 92,
   "metadata": {},
   "outputs": [
    {
     "data": {
      "text/plain": [
       "6.267423851316469"
      ]
     },
     "execution_count": 92,
     "metadata": {},
     "output_type": "execute_result"
    }
   ],
   "source": [
    "results_df['impr_upper'] = results_df['predictions_upper'].map(lambda x: 1 if x>threshold else 0)\n",
    "results_df['clk_upper'] = results_df.apply(lambda row: 1 if (row['actual']==1 and row['impr_upper']==1) else 0, axis=1)\n",
    "\n",
    "upper_imprs = results_df['impr_upper'].sum()\n",
    "upper_clicks = results_df['clk_upper'].sum()\n",
    "\n",
    "ctr_upper = upper_clicks/upper_imprs*100\n",
    "ctr_upper  "
   ]
  },
  {
   "cell_type": "code",
   "execution_count": 93,
   "metadata": {},
   "outputs": [
    {
     "name": "stdout",
     "output_type": "stream",
     "text": [
      "7.952476329206118 6.267423851316469 10.274111675126903\n"
     ]
    }
   ],
   "source": [
    "results_df['impr_lower'] = results_df['predictions_lower'].map(lambda x: 1 if x>threshold else 0)\n",
    "results_df['clk_lower'] = results_df.apply(lambda row: 1 if (row['actual']==1 and row['impr_lower']==1) else 0, axis=1)\n",
    "\n",
    "lower_imprs = results_df['impr_lower'].sum()\n",
    "lower_clicks = results_df['clk_lower'].sum()\n",
    "\n",
    "ctr_lower = lower_clicks/lower_imprs*100\n",
    "\n",
    "print(mean_ctr, ctr_upper, ctr_lower)"
   ]
  },
  {
   "cell_type": "code",
   "execution_count": 94,
   "metadata": {},
   "outputs": [
    {
     "name": "stdout",
     "output_type": "stream",
     "text": [
      "21968 38740 4925\n",
      "1747 2428 506\n"
     ]
    }
   ],
   "source": [
    "print(mean_imprs, upper_imprs, lower_imprs)\n",
    "print(mean_clicks, upper_clicks, lower_clicks)"
   ]
  },
  {
   "cell_type": "code",
   "execution_count": 95,
   "metadata": {},
   "outputs": [
    {
     "ename": "SyntaxError",
     "evalue": "invalid decimal literal (4252011874.py, line 1)",
     "output_type": "error",
     "traceback": [
      "\u001b[1;36m  Cell \u001b[1;32mIn[95], line 1\u001b[1;36m\u001b[0m\n\u001b[1;33m    22k-1734 clicked\u001b[0m\n\u001b[1;37m     ^\u001b[0m\n\u001b[1;31mSyntaxError\u001b[0m\u001b[1;31m:\u001b[0m invalid decimal literal\n"
     ]
    }
   ],
   "source": [
    "22k-1734 clicked"
   ]
  },
  {
   "cell_type": "code",
   "execution_count": null,
   "metadata": {},
   "outputs": [],
   "source": [
    "click ncrease and ctr decrease-upper-budget high"
   ]
  },
  {
   "cell_type": "code",
   "execution_count": null,
   "metadata": {},
   "outputs": [],
   "source": [
    "click dec annd ctr incr -budget less"
   ]
  },
  {
   "cell_type": "code",
   "execution_count": null,
   "metadata": {},
   "outputs": [],
   "source": []
  },
  {
   "cell_type": "code",
   "execution_count": null,
   "metadata": {},
   "outputs": [],
   "source": []
  },
  {
   "cell_type": "code",
   "execution_count": null,
   "metadata": {},
   "outputs": [],
   "source": []
  },
  {
   "cell_type": "code",
   "execution_count": null,
   "metadata": {},
   "outputs": [],
   "source": []
  },
  {
   "cell_type": "code",
   "execution_count": null,
   "metadata": {},
   "outputs": [],
   "source": []
  },
  {
   "cell_type": "code",
   "execution_count": null,
   "metadata": {},
   "outputs": [],
   "source": []
  }
 ],
 "metadata": {
  "kernelspec": {
   "display_name": "Python 3 (ipykernel)",
   "language": "python",
   "name": "python3"
  },
  "language_info": {
   "codemirror_mode": {
    "name": "ipython",
    "version": 3
   },
   "file_extension": ".py",
   "mimetype": "text/x-python",
   "name": "python",
   "nbconvert_exporter": "python",
   "pygments_lexer": "ipython3",
   "version": "3.10.9"
  }
 },
 "nbformat": 4,
 "nbformat_minor": 4
}
